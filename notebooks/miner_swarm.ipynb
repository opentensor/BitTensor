{
 "cells": [
  {
   "cell_type": "code",
   "execution_count": 1,
   "id": "14a3386f-2dbf-4ec3-9020-e3c688dbfec2",
   "metadata": {},
   "outputs": [],
   "source": [
    "import bittensor\n",
    "import torch\n",
    "from tqdm import tqdm\n",
    "from nuclei.gpt2 import GPT2Nucleus\n",
    "from types import SimpleNamespace\n",
    "from loguru import logger\n",
    "bittensor.__debug_on__ = True\n",
    "%load_ext autoreload"
   ]
  },
  {
   "cell_type": "code",
   "execution_count": 11,
   "id": "9c8938cd-286d-4624-8838-1d18edc7d716",
   "metadata": {},
   "outputs": [],
   "source": [
    "%autoreload 2"
   ]
  },
  {
   "cell_type": "code",
   "execution_count": 12,
   "id": "c1e1905a-1934-4b1f-9c18-c1be1d0983f5",
   "metadata": {},
   "outputs": [],
   "source": [
    "\n",
    "class Miner:\n",
    "    def __init__( self, dataset: bittensor.Dataloader, endpoint: bittensor.Endpoint, child: bittensor.Endpoint ):\n",
    "        \n",
    "        # Local info.\n",
    "        self.endpoint = endpoint\n",
    "        \n",
    "        # Child to call forward on.\n",
    "        self.child = child\n",
    "        \n",
    "        # Text dataloader.\n",
    "        self.dataset = dataset\n",
    "        \n",
    "        # Axon RPC server.\n",
    "        # We attach the forward and backward passes to this miner class.\n",
    "        # When this miner recieves a Forward/Backward request it calls these functions\n",
    "        self.axon = bittensor.axon( local_port = self.endpoint.port )\n",
    "        self.axon.attach_forward_function( self.forward )\n",
    "        self.axon.attach_backward_function( self.backward )\n",
    "        \n",
    "        # Dendrite RPC Client.\n",
    "        # Differentiable RPC function which calls Forward and Backward \n",
    "        # on passes endpoints.\n",
    "        self.dendrite = bittensor.dendrite()\n",
    "        \n",
    "        # Torch NN Module with remote_forward and local_forwadd functions.\n",
    "        # plus a routing function.\n",
    "        self.nucleus = GPT2Nucleus()\n",
    "        self.nucleus.attach_routing_function( self ) \n",
    "        \n",
    "        # Base Torch optimizer.\n",
    "        self.optimizer = torch.optim.AdamW(self.nucleus.parameters(), lr = 0.01, betas = (0.9, 0.95) )\n",
    "                \n",
    "    # Function is called by the nucleus to query child and get responses.\n",
    "    def route( self, inputs: torch.int64, query: torch.float32 ) -> torch.float32:\n",
    "        \n",
    "        # Is this a leaf node.\n",
    "        if self.child == None:\n",
    "            response = [torch.zeros( [inputs.shape[0], inputs.shape[1], bittensor.__network_dim__ ])]\n",
    "        \n",
    "        # Otherwise, makes differentiable calls.\n",
    "        else:\n",
    "            # Takes a list of endpoints and a list of inputs\n",
    "            # Sends inputs to endpoints.\n",
    "            responses, return_codes = self.dendrite.forward_text (\n",
    "                endpoints = [self.child], \n",
    "                x = [inputs] \n",
    "            )\n",
    "            \n",
    "        return responses[0]\n",
    "    \n",
    "    # Function which is called when this miner recieves a forward request from a dendrite.\n",
    "    def forward ( self, pubkey:str, inputs: torch.float32, modality:int ) -> torch.FloatTensor:\n",
    "        # Call nucleus (locally, i.e. using the distillation model instead of calling the child)\n",
    "        # return the last hidden layer.  \n",
    "        output = self.nucleus.local_forward (\n",
    "            inputs = inputs        \n",
    "        )\n",
    "        return output.local_hidden\n",
    "\n",
    "    # Function which is called when this miner recieves a backward request. (Off for now.)\n",
    "    def backward ( self, pubkey:str, inputs_x:torch.float32, grads_dy:torch.float32, modality:int ) -> torch.FloatTensor:\n",
    "        return None\n",
    "    \n",
    "    # Start the axon serving endpoint.\n",
    "    def start(self):\n",
    "        self.axon.start()\n",
    "        \n",
    "    # Tear down the axon serving endpoint.\n",
    "    def __del__(self):\n",
    "        self.axon.stop()\n",
    "\n",
    "    # Run a single epoch.\n",
    "    def epoch(self):\n",
    "        # ---- Next Batch ----\n",
    "        for iteration, inputs in enumerate(self.dataset.dataloader( 100 )):     \n",
    "            \n",
    "            # ---- Forward pass ----\n",
    "            output = self.nucleus.remote_forward(\n",
    "                inputs = inputs,\n",
    "                training = True,\n",
    "            )\n",
    "\n",
    "            # ---- Backward pass ----\n",
    "            output.loss = output.local_target_loss + output.distillation_loss + output.remote_target_loss\n",
    "            output.loss.backward() # Accumulates gradients on the nucleus.\n",
    "            self.optimizer.step() # Applies accumulated gradients.\n",
    "            self.optimizer.zero_grad() # Zeros out gradients for next accummulation\n",
    "\n",
    "        \n"
   ]
  },
  {
   "cell_type": "code",
   "execution_count": 13,
   "id": "17ce69c4-86bf-4ce5-93d4-0a8310f3c904",
   "metadata": {},
   "outputs": [
    {
     "name": "stdout",
     "output_type": "stream",
     "text": [
      "\u001b[1mINFO    \u001b[0m|\u001b[36mbittensor._dataloader.dataloader_impl\u001b[0m:\u001b[36mconstruct_text_corpus\u001b[0m:\u001b[36m149\u001b[0m - \u001b[1mRetrieving a dataset file from the IPFS gateway...\u001b[0m\n",
      "\u001b[1mINFO    \u001b[0m|\u001b[36mbittensor._dataloader.dataloader_impl\u001b[0m:\u001b[36mconstruct_text_corpus\u001b[0m:\u001b[36m168\u001b[0m - \u001b[1m\u001b[32mAdded:\u001b[0m\u001b[1m \u001b[36mnaruda.txt\u001b[0m\u001b[1m\u001b[0m\n",
      "\u001b[1mINFO    \u001b[0m|\u001b[36mbittensor._dataloader.dataloader_impl\u001b[0m:\u001b[36mconstruct_text_corpus\u001b[0m:\u001b[36m168\u001b[0m - \u001b[1m\u001b[32mAdded:\u001b[0m\u001b[1m \u001b[36mself_reliance.txt\u001b[0m\u001b[1m\u001b[0m\n",
      "\u001b[1mINFO    \u001b[0m|\u001b[36mbittensor._dataloader.dataloader_impl\u001b[0m:\u001b[36mconstruct_text_corpus\u001b[0m:\u001b[36m168\u001b[0m - \u001b[1m\u001b[32mAdded:\u001b[0m\u001b[1m \u001b[36mpgp.txt\u001b[0m\u001b[1m\u001b[0m\n",
      "\u001b[1mINFO    \u001b[0m|\u001b[36mbittensor._dataloader.dataloader_impl\u001b[0m:\u001b[36mconstruct_text_corpus\u001b[0m:\u001b[36m168\u001b[0m - \u001b[1m\u001b[32mAdded:\u001b[0m\u001b[1m \u001b[36manimal_farm.txt\u001b[0m\u001b[1m\u001b[0m\n",
      "\u001b[1mINFO    \u001b[0m|\u001b[36mbittensor._dataloader.dataloader_impl\u001b[0m:\u001b[36mconstruct_text_corpus\u001b[0m:\u001b[36m168\u001b[0m - \u001b[1m\u001b[32mAdded:\u001b[0m\u001b[1m \u001b[36mprophet.txt\u001b[0m\u001b[1m\u001b[0m\n",
      "\u001b[1mINFO    \u001b[0m|\u001b[36mbittensor._dataloader.dataloader_impl\u001b[0m:\u001b[36mconstruct_text_corpus\u001b[0m:\u001b[36m168\u001b[0m - \u001b[1m\u001b[32mAdded:\u001b[0m\u001b[1m \u001b[36mmagna_carta.txt\u001b[0m\u001b[1m\u001b[0m\n",
      "\u001b[1mINFO    \u001b[0m|\u001b[36mbittensor._dataloader.dataloader_impl\u001b[0m:\u001b[36mconstruct_text_corpus\u001b[0m:\u001b[36m168\u001b[0m - \u001b[1m\u001b[32mAdded:\u001b[0m\u001b[1m \u001b[36manimal_farm.txt\u001b[0m\u001b[1m\u001b[0m\n",
      "\u001b[1mINFO    \u001b[0m|\u001b[36mbittensor._dataloader.dataloader_impl\u001b[0m:\u001b[36mconstruct_text_corpus\u001b[0m:\u001b[36m168\u001b[0m - \u001b[1m\u001b[32mAdded:\u001b[0m\u001b[1m \u001b[36mbible_book_26.txt\u001b[0m\u001b[1m\u001b[0m\n",
      "\u001b[1mINFO    \u001b[0m|\u001b[36mbittensor._dataloader.dataloader_impl\u001b[0m:\u001b[36mconstruct_text_corpus\u001b[0m:\u001b[36m168\u001b[0m - \u001b[1m\u001b[32mAdded:\u001b[0m\u001b[1m \u001b[36myoga_sutra.txt\u001b[0m\u001b[1m\u001b[0m\n",
      "\u001b[1mINFO    \u001b[0m|\u001b[36mbittensor._dataloader.dataloader_impl\u001b[0m:\u001b[36mconstruct_text_corpus\u001b[0m:\u001b[36m168\u001b[0m - \u001b[1m\u001b[32mAdded:\u001b[0m\u001b[1m \u001b[36mself_reliance.txt\u001b[0m\u001b[1m\u001b[0m\n",
      "\u001b[1mINFO    \u001b[0m|\u001b[36mbittensor._dataloader.dataloader_impl\u001b[0m:\u001b[36mconstruct_text_corpus\u001b[0m:\u001b[36m168\u001b[0m - \u001b[1m\u001b[32mAdded:\u001b[0m\u001b[1m \u001b[36mnaruda.txt\u001b[0m\u001b[1m\u001b[0m\n",
      "\u001b[1mINFO    \u001b[0m|\u001b[36mbittensor._dataloader.dataloader_impl\u001b[0m:\u001b[36mconstruct_text_corpus\u001b[0m:\u001b[36m168\u001b[0m - \u001b[1m\u001b[32mAdded:\u001b[0m\u001b[1m \u001b[36mwhy_i_write.txt\u001b[0m\u001b[1m\u001b[0m\n"
     ]
    }
   ],
   "source": [
    "# Dataset pulled from IPFS\n",
    "dataset = bittensor.dataloader( max_corpus_size = 1000000 )"
   ]
  },
  {
   "cell_type": "code",
   "execution_count": 14,
   "id": "04e76c1e-a861-415b-9283-c6ef99ee79d6",
   "metadata": {},
   "outputs": [],
   "source": [
    "# Two fake bittensor endpoints for the miner.\n",
    "endpoint_A = bittensor.endpoint( uid = 0, hotkey = '0', ip = '0.0.0.0', ip_type = 4, port = 8080 , modality = 0, coldkey = 'N/A'  )\n",
    "endpoint_B = bittensor.endpoint( uid = 1, hotkey = '1', ip = '0.0.0.0', ip_type = 4, port = 8081 , modality = 0, coldkey = 'N/A'  )"
   ]
  },
  {
   "cell_type": "code",
   "execution_count": 19,
   "id": "e9fc9575-aab4-4fd0-a2aa-f1b88cde6be9",
   "metadata": {},
   "outputs": [
    {
     "name": "stdout",
     "output_type": "stream",
     "text": [
      "\u001b[32m\u001b[1mSUCCESS \u001b[0m|\u001b[36mbittensor._axon.axon_impl\u001b[0m:\u001b[36m_serve\u001b[0m:\u001b[36m465\u001b[0m - \u001b[32m\u001b[1mAxon is serving on: 127.0.0.1:8080\u001b[0m\n"
     ]
    }
   ],
   "source": [
    "# Create miner A\n",
    "if \"miner_A\" in locals():\n",
    "    del miner_A\n",
    "miner_A = Miner( dataset = dataset, endpoint = endpoint_A, child = endpoint_B )\n",
    "miner_A.start()"
   ]
  },
  {
   "cell_type": "code",
   "execution_count": 20,
   "id": "674be448-2de2-4cb0-8c63-4beb788689ba",
   "metadata": {},
   "outputs": [
    {
     "name": "stdout",
     "output_type": "stream",
     "text": [
      "\u001b[32m\u001b[1mSUCCESS \u001b[0m|\u001b[36mbittensor._axon.axon_impl\u001b[0m:\u001b[36m_serve\u001b[0m:\u001b[36m465\u001b[0m - \u001b[32m\u001b[1mAxon is serving on: 127.0.0.1:8081\u001b[0m\n"
     ]
    }
   ],
   "source": [
    "# Create miner B\n",
    "if \"miner_B\" in locals():\n",
    "    del miner_B\n",
    "miner_B = Miner( dataset = dataset, endpoint = endpoint_B, child = None )\n",
    "miner_B.start()"
   ]
  },
  {
   "cell_type": "code",
   "execution_count": 21,
   "id": "414eef3e-b2cf-4753-ad75-eb8ddfeb6eb4",
   "metadata": {},
   "outputs": [
    {
     "name": "stdout",
     "output_type": "stream",
     "text": [
      "\u001b[34m\u001b[1mDEBUG   \u001b[0m|\u001b[36mbittensor._dendrite.dendrite_impl\u001b[0m:\u001b[36m_get_or_create_receptor_for_endpoint\u001b[0m:\u001b[36m266\u001b[0m - \u001b[34m\u001b[1m\u001b[37mCreate receptor for endpoint:\u001b[0m\u001b[34m\u001b[1m <endpoint uid: 1 hotkey: 1 ip: /ipv4/0.0.0.0:8081 modality: 0 coldkey: N/A>\u001b[0m\n",
      "\u001b[32m\u001b[1mSUCCESS \u001b[0m|\u001b[36mbittensor._wallet.wallet_impl\u001b[0m:\u001b[36m_load_hotkey\u001b[0m:\u001b[36m242\u001b[0m - \u001b[32m\u001b[1mLoaded hotkey: \u001b[36m0x76a02b5371044ee1c7d031e5018e872acfcf6d3673f346a030e9bb1e167e621b\u001b[0m\u001b[32m\u001b[1m\u001b[0m\n",
      "\u001b[34m\u001b[1mDEBUG   \u001b[0m|\u001b[36mbittensor._receptor.receptor_impl\u001b[0m:\u001b[36mforward\u001b[0m:\u001b[36m246\u001b[0m - \u001b[34m\u001b[1m\u001b[37mDendrite\u001b[0m\u001b[34m\u001b[1m \u001b[32mForward Request\u001b[0m\u001b[34m\u001b[1m ---> \u001b[37mto\u001b[0m\u001b[34m\u001b[1m:/ipv4/0.0.0.0:8081, \u001b[37minputs\u001b[0m\u001b[34m\u001b[1m:torch.Size([10, 20]), \u001b[37mmode\u001b[0m\u001b[34m\u001b[1m:0\u001b[0m\n",
      "<bound method Miner.forward of <__main__.Miner object at 0x143279670>>\n",
      "\u001b[34m\u001b[1mDEBUG   \u001b[0m|\u001b[36mbittensor._axon.axon_impl\u001b[0m:\u001b[36mForward\u001b[0m:\u001b[36m88\u001b[0m - \u001b[34m\u001b[1m-> Got Forward request: 0x76a02b5371044ee1c7d031e5018e872acfcf6d3673f346a030e9bb1e167e621b, size:96\u001b[0m\n",
      "\u001b[34m\u001b[1mDEBUG   \u001b[0m|\u001b[36mbittensor._axon.axon_impl\u001b[0m:\u001b[36m_forward\u001b[0m:\u001b[36m314\u001b[0m - \u001b[34m\u001b[1m\u001b[37mAxon\u001b[0m\u001b[34m\u001b[1m \u001b[32mForward Request\u001b[0m\u001b[34m\u001b[1m ---> \u001b[37mfrom\u001b[0m\u001b[34m\u001b[1m:\u001b[36m0x76a02b5371044ee1c7d031e5018e872acfcf6d3673f346a030e9bb1e167e621b\u001b[0m\u001b[34m\u001b[1m, \u001b[37minputs\u001b[0m\u001b[34m\u001b[1m:\u001b[36mtorch.Size([10, 20])\u001b[0m\u001b[34m\u001b[1m\u001b[0m\n",
      "\u001b[34m\u001b[1mDEBUG   \u001b[0m|\u001b[36mbittensor._axon.axon_impl\u001b[0m:\u001b[36m_forward\u001b[0m:\u001b[36m332\u001b[0m - \u001b[34m\u001b[1m\u001b[37mAxon\u001b[0m\u001b[34m\u001b[1m \u001b[32mForward Response\u001b[0m\u001b[34m\u001b[1m <--- \u001b[37mto\u001b[0m\u001b[34m\u001b[1m:\u001b[36m0x76a02b5371044ee1c7d031e5018e872acfcf6d3673f346a030e9bb1e167e621b\u001b[0m\u001b[34m\u001b[1m, \u001b[37moutputs\u001b[0m\u001b[34m\u001b[1m:\u001b[36mtorch.Size([10, 20, 512])\u001b[0m\u001b[34m\u001b[1m\u001b[0m\n",
      "\u001b[34m\u001b[1mDEBUG   \u001b[0m|\u001b[36mbittensor._axon.axon_impl\u001b[0m:\u001b[36mForward\u001b[0m:\u001b[36m97\u001b[0m - \u001b[34m\u001b[1m<- Got Forward response: 0x76a02b5371044ee1c7d031e5018e872acfcf6d3673f346a030e9bb1e167e621b, size:96\u001b[0m\n",
      "\u001b[34m\u001b[1mDEBUG   \u001b[0m|\u001b[36mbittensor._receptor.receptor_impl\u001b[0m:\u001b[36mforward\u001b[0m:\u001b[36m325\u001b[0m - \u001b[34m\u001b[1m\u001b[37mDendrite\u001b[0m\u001b[34m\u001b[1m \u001b[32mForward Response\u001b[0m\u001b[34m\u001b[1m <--- \u001b[37mcode\u001b[0m\u001b[34m\u001b[1m:\u001b[32mSuccess\u001b[0m\u001b[34m\u001b[1m, \u001b[37mfrom\u001b[0m\u001b[34m\u001b[1m:/ipv4/0.0.0.0:8081, \u001b[37moutputs\u001b[0m\u001b[34m\u001b[1m:torch.Size([10, 20, 512])\u001b[0m\n",
      "\u001b[34m\u001b[1mDEBUG   \u001b[0m|\u001b[36mbittensor._receptor.receptor_impl\u001b[0m:\u001b[36mforward\u001b[0m:\u001b[36m246\u001b[0m - \u001b[34m\u001b[1m\u001b[37mDendrite\u001b[0m\u001b[34m\u001b[1m \u001b[32mForward Request\u001b[0m\u001b[34m\u001b[1m ---> \u001b[37mto\u001b[0m\u001b[34m\u001b[1m:/ipv4/0.0.0.0:8081, \u001b[37minputs\u001b[0m\u001b[34m\u001b[1m:torch.Size([10, 20]), \u001b[37mmode\u001b[0m\u001b[34m\u001b[1m:0\u001b[0m\n",
      "\u001b[34m\u001b[1mDEBUG   \u001b[0m|\u001b[36mbittensor._axon.axon_impl\u001b[0m:\u001b[36mForward\u001b[0m:\u001b[36m88\u001b[0m - \u001b[34m\u001b[1m-> Got Forward request: 0x76a02b5371044ee1c7d031e5018e872acfcf6d3673f346a030e9bb1e167e621b, size:96\u001b[0m\n",
      "<bound method Miner.forward of <__main__.Miner object at 0x143279670>>\n",
      "\u001b[34m\u001b[1mDEBUG   \u001b[0m|\u001b[36mbittensor._axon.axon_impl\u001b[0m:\u001b[36m_forward\u001b[0m:\u001b[36m314\u001b[0m - \u001b[34m\u001b[1m\u001b[37mAxon\u001b[0m\u001b[34m\u001b[1m \u001b[32mForward Request\u001b[0m\u001b[34m\u001b[1m ---> \u001b[37mfrom\u001b[0m\u001b[34m\u001b[1m:\u001b[36m0x76a02b5371044ee1c7d031e5018e872acfcf6d3673f346a030e9bb1e167e621b\u001b[0m\u001b[34m\u001b[1m, \u001b[37minputs\u001b[0m\u001b[34m\u001b[1m:\u001b[36mtorch.Size([10, 20])\u001b[0m\u001b[34m\u001b[1m\u001b[0m\n",
      "\u001b[34m\u001b[1mDEBUG   \u001b[0m|\u001b[36mbittensor._axon.axon_impl\u001b[0m:\u001b[36m_forward\u001b[0m:\u001b[36m332\u001b[0m - \u001b[34m\u001b[1m\u001b[37mAxon\u001b[0m\u001b[34m\u001b[1m \u001b[32mForward Response\u001b[0m\u001b[34m\u001b[1m <--- \u001b[37mto\u001b[0m\u001b[34m\u001b[1m:\u001b[36m0x76a02b5371044ee1c7d031e5018e872acfcf6d3673f346a030e9bb1e167e621b\u001b[0m\u001b[34m\u001b[1m, \u001b[37moutputs\u001b[0m\u001b[34m\u001b[1m:\u001b[36mtorch.Size([10, 20, 512])\u001b[0m\u001b[34m\u001b[1m\u001b[0m\n",
      "\u001b[34m\u001b[1mDEBUG   \u001b[0m|\u001b[36mbittensor._axon.axon_impl\u001b[0m:\u001b[36mForward\u001b[0m:\u001b[36m97\u001b[0m - \u001b[34m\u001b[1m<- Got Forward response: 0x76a02b5371044ee1c7d031e5018e872acfcf6d3673f346a030e9bb1e167e621b, size:96\u001b[0m\n",
      "\u001b[34m\u001b[1mDEBUG   \u001b[0m|\u001b[36mbittensor._receptor.receptor_impl\u001b[0m:\u001b[36mforward\u001b[0m:\u001b[36m325\u001b[0m - \u001b[34m\u001b[1m\u001b[37mDendrite\u001b[0m\u001b[34m\u001b[1m \u001b[32mForward Response\u001b[0m\u001b[34m\u001b[1m <--- \u001b[37mcode\u001b[0m\u001b[34m\u001b[1m:\u001b[32mSuccess\u001b[0m\u001b[34m\u001b[1m, \u001b[37mfrom\u001b[0m\u001b[34m\u001b[1m:/ipv4/0.0.0.0:8081, \u001b[37moutputs\u001b[0m\u001b[34m\u001b[1m:torch.Size([10, 20, 512])\u001b[0m\n",
      "\u001b[34m\u001b[1mDEBUG   \u001b[0m|\u001b[36mbittensor._receptor.receptor_impl\u001b[0m:\u001b[36mforward\u001b[0m:\u001b[36m246\u001b[0m - \u001b[34m\u001b[1m\u001b[37mDendrite\u001b[0m\u001b[34m\u001b[1m \u001b[32mForward Request\u001b[0m\u001b[34m\u001b[1m ---> \u001b[37mto\u001b[0m\u001b[34m\u001b[1m:/ipv4/0.0.0.0:8081, \u001b[37minputs\u001b[0m\u001b[34m\u001b[1m:torch.Size([10, 20]), \u001b[37mmode\u001b[0m\u001b[34m\u001b[1m:0\u001b[0m\n",
      "<bound method Miner.forward of <__main__.Miner object at 0x143279670>>\n",
      "\u001b[34m\u001b[1mDEBUG   \u001b[0m|\u001b[36mbittensor._axon.axon_impl\u001b[0m:\u001b[36mForward\u001b[0m:\u001b[36m88\u001b[0m - \u001b[34m\u001b[1m-> Got Forward request: 0x76a02b5371044ee1c7d031e5018e872acfcf6d3673f346a030e9bb1e167e621b, size:96\u001b[0m\n",
      "\u001b[34m\u001b[1mDEBUG   \u001b[0m|\u001b[36mbittensor._axon.axon_impl\u001b[0m:\u001b[36m_forward\u001b[0m:\u001b[36m314\u001b[0m - \u001b[34m\u001b[1m\u001b[37mAxon\u001b[0m\u001b[34m\u001b[1m \u001b[32mForward Request\u001b[0m\u001b[34m\u001b[1m ---> \u001b[37mfrom\u001b[0m\u001b[34m\u001b[1m:\u001b[36m0x76a02b5371044ee1c7d031e5018e872acfcf6d3673f346a030e9bb1e167e621b\u001b[0m\u001b[34m\u001b[1m, \u001b[37minputs\u001b[0m\u001b[34m\u001b[1m:\u001b[36mtorch.Size([10, 20])\u001b[0m\u001b[34m\u001b[1m\u001b[0m\n",
      "\u001b[34m\u001b[1mDEBUG   \u001b[0m|\u001b[36mbittensor._axon.axon_impl\u001b[0m:\u001b[36m_forward\u001b[0m:\u001b[36m332\u001b[0m - \u001b[34m\u001b[1m\u001b[37mAxon\u001b[0m\u001b[34m\u001b[1m \u001b[32mForward Response\u001b[0m\u001b[34m\u001b[1m <--- \u001b[37mto\u001b[0m\u001b[34m\u001b[1m:\u001b[36m0x76a02b5371044ee1c7d031e5018e872acfcf6d3673f346a030e9bb1e167e621b\u001b[0m\u001b[34m\u001b[1m, \u001b[37moutputs\u001b[0m\u001b[34m\u001b[1m:\u001b[36mtorch.Size([10, 20, 512])\u001b[0m\u001b[34m\u001b[1m\u001b[0m\n",
      "\u001b[34m\u001b[1mDEBUG   \u001b[0m|\u001b[36mbittensor._axon.axon_impl\u001b[0m:\u001b[36mForward\u001b[0m:\u001b[36m97\u001b[0m - \u001b[34m\u001b[1m<- Got Forward response: 0x76a02b5371044ee1c7d031e5018e872acfcf6d3673f346a030e9bb1e167e621b, size:96\u001b[0m\n",
      "\u001b[34m\u001b[1mDEBUG   \u001b[0m|\u001b[36mbittensor._receptor.receptor_impl\u001b[0m:\u001b[36mforward\u001b[0m:\u001b[36m325\u001b[0m - \u001b[34m\u001b[1m\u001b[37mDendrite\u001b[0m\u001b[34m\u001b[1m \u001b[32mForward Response\u001b[0m\u001b[34m\u001b[1m <--- \u001b[37mcode\u001b[0m\u001b[34m\u001b[1m:\u001b[32mSuccess\u001b[0m\u001b[34m\u001b[1m, \u001b[37mfrom\u001b[0m\u001b[34m\u001b[1m:/ipv4/0.0.0.0:8081, \u001b[37moutputs\u001b[0m\u001b[34m\u001b[1m:torch.Size([10, 20, 512])\u001b[0m\n",
      "\u001b[34m\u001b[1mDEBUG   \u001b[0m|\u001b[36mbittensor._receptor.receptor_impl\u001b[0m:\u001b[36mforward\u001b[0m:\u001b[36m246\u001b[0m - \u001b[34m\u001b[1m\u001b[37mDendrite\u001b[0m\u001b[34m\u001b[1m \u001b[32mForward Request\u001b[0m\u001b[34m\u001b[1m ---> \u001b[37mto\u001b[0m\u001b[34m\u001b[1m:/ipv4/0.0.0.0:8081, \u001b[37minputs\u001b[0m\u001b[34m\u001b[1m:torch.Size([10, 20]), \u001b[37mmode\u001b[0m\u001b[34m\u001b[1m:0\u001b[0m\n",
      "\u001b[34m\u001b[1mDEBUG   \u001b[0m|\u001b[36mbittensor._axon.axon_impl\u001b[0m:\u001b[36mForward\u001b[0m:\u001b[36m88\u001b[0m - \u001b[34m\u001b[1m-> Got Forward request: 0x76a02b5371044ee1c7d031e5018e872acfcf6d3673f346a030e9bb1e167e621b, size:96\u001b[0m\n",
      "<bound method Miner.forward of <__main__.Miner object at 0x143279670>>\n",
      "\u001b[34m\u001b[1mDEBUG   \u001b[0m|\u001b[36mbittensor._axon.axon_impl\u001b[0m:\u001b[36m_forward\u001b[0m:\u001b[36m314\u001b[0m - \u001b[34m\u001b[1m\u001b[37mAxon\u001b[0m\u001b[34m\u001b[1m \u001b[32mForward Request\u001b[0m\u001b[34m\u001b[1m ---> \u001b[37mfrom\u001b[0m\u001b[34m\u001b[1m:\u001b[36m0x76a02b5371044ee1c7d031e5018e872acfcf6d3673f346a030e9bb1e167e621b\u001b[0m\u001b[34m\u001b[1m, \u001b[37minputs\u001b[0m\u001b[34m\u001b[1m:\u001b[36mtorch.Size([10, 20])\u001b[0m\u001b[34m\u001b[1m\u001b[0m\n",
      "\u001b[34m\u001b[1mDEBUG   \u001b[0m|\u001b[36mbittensor._axon.axon_impl\u001b[0m:\u001b[36m_forward\u001b[0m:\u001b[36m332\u001b[0m - \u001b[34m\u001b[1m\u001b[37mAxon\u001b[0m\u001b[34m\u001b[1m \u001b[32mForward Response\u001b[0m\u001b[34m\u001b[1m <--- \u001b[37mto\u001b[0m\u001b[34m\u001b[1m:\u001b[36m0x76a02b5371044ee1c7d031e5018e872acfcf6d3673f346a030e9bb1e167e621b\u001b[0m\u001b[34m\u001b[1m, \u001b[37moutputs\u001b[0m\u001b[34m\u001b[1m:\u001b[36mtorch.Size([10, 20, 512])\u001b[0m\u001b[34m\u001b[1m\u001b[0m\n",
      "\u001b[34m\u001b[1mDEBUG   \u001b[0m|\u001b[36mbittensor._axon.axon_impl\u001b[0m:\u001b[36mForward\u001b[0m:\u001b[36m97\u001b[0m - \u001b[34m\u001b[1m<- Got Forward response: 0x76a02b5371044ee1c7d031e5018e872acfcf6d3673f346a030e9bb1e167e621b, size:96\u001b[0m\n",
      "\u001b[34m\u001b[1mDEBUG   \u001b[0m|\u001b[36mbittensor._receptor.receptor_impl\u001b[0m:\u001b[36mforward\u001b[0m:\u001b[36m325\u001b[0m - \u001b[34m\u001b[1m\u001b[37mDendrite\u001b[0m\u001b[34m\u001b[1m \u001b[32mForward Response\u001b[0m\u001b[34m\u001b[1m <--- \u001b[37mcode\u001b[0m\u001b[34m\u001b[1m:\u001b[32mSuccess\u001b[0m\u001b[34m\u001b[1m, \u001b[37mfrom\u001b[0m\u001b[34m\u001b[1m:/ipv4/0.0.0.0:8081, \u001b[37moutputs\u001b[0m\u001b[34m\u001b[1m:torch.Size([10, 20, 512])\u001b[0m\n",
      "\u001b[34m\u001b[1mDEBUG   \u001b[0m|\u001b[36mbittensor._receptor.receptor_impl\u001b[0m:\u001b[36mforward\u001b[0m:\u001b[36m246\u001b[0m - \u001b[34m\u001b[1m\u001b[37mDendrite\u001b[0m\u001b[34m\u001b[1m \u001b[32mForward Request\u001b[0m\u001b[34m\u001b[1m ---> \u001b[37mto\u001b[0m\u001b[34m\u001b[1m:/ipv4/0.0.0.0:8081, \u001b[37minputs\u001b[0m\u001b[34m\u001b[1m:torch.Size([10, 20]), \u001b[37mmode\u001b[0m\u001b[34m\u001b[1m:0\u001b[0m\n",
      "<bound method Miner.forward of <__main__.Miner object at 0x143279670>>\n",
      "\u001b[34m\u001b[1mDEBUG   \u001b[0m|\u001b[36mbittensor._axon.axon_impl\u001b[0m:\u001b[36mForward\u001b[0m:\u001b[36m88\u001b[0m - \u001b[34m\u001b[1m-> Got Forward request: 0x76a02b5371044ee1c7d031e5018e872acfcf6d3673f346a030e9bb1e167e621b, size:96\u001b[0m\n",
      "\u001b[34m\u001b[1mDEBUG   \u001b[0m|\u001b[36mbittensor._axon.axon_impl\u001b[0m:\u001b[36m_forward\u001b[0m:\u001b[36m314\u001b[0m - \u001b[34m\u001b[1m\u001b[37mAxon\u001b[0m\u001b[34m\u001b[1m \u001b[32mForward Request\u001b[0m\u001b[34m\u001b[1m ---> \u001b[37mfrom\u001b[0m\u001b[34m\u001b[1m:\u001b[36m0x76a02b5371044ee1c7d031e5018e872acfcf6d3673f346a030e9bb1e167e621b\u001b[0m\u001b[34m\u001b[1m, \u001b[37minputs\u001b[0m\u001b[34m\u001b[1m:\u001b[36mtorch.Size([10, 20])\u001b[0m\u001b[34m\u001b[1m\u001b[0m\n",
      "\u001b[34m\u001b[1mDEBUG   \u001b[0m|\u001b[36mbittensor._axon.axon_impl\u001b[0m:\u001b[36m_forward\u001b[0m:\u001b[36m332\u001b[0m - \u001b[34m\u001b[1m\u001b[37mAxon\u001b[0m\u001b[34m\u001b[1m \u001b[32mForward Response\u001b[0m\u001b[34m\u001b[1m <--- \u001b[37mto\u001b[0m\u001b[34m\u001b[1m:\u001b[36m0x76a02b5371044ee1c7d031e5018e872acfcf6d3673f346a030e9bb1e167e621b\u001b[0m\u001b[34m\u001b[1m, \u001b[37moutputs\u001b[0m\u001b[34m\u001b[1m:\u001b[36mtorch.Size([10, 20, 512])\u001b[0m\u001b[34m\u001b[1m\u001b[0m\n",
      "\u001b[34m\u001b[1mDEBUG   \u001b[0m|\u001b[36mbittensor._axon.axon_impl\u001b[0m:\u001b[36mForward\u001b[0m:\u001b[36m97\u001b[0m - \u001b[34m\u001b[1m<- Got Forward response: 0x76a02b5371044ee1c7d031e5018e872acfcf6d3673f346a030e9bb1e167e621b, size:96\u001b[0m\n",
      "\u001b[34m\u001b[1mDEBUG   \u001b[0m|\u001b[36mbittensor._receptor.receptor_impl\u001b[0m:\u001b[36mforward\u001b[0m:\u001b[36m325\u001b[0m - \u001b[34m\u001b[1m\u001b[37mDendrite\u001b[0m\u001b[34m\u001b[1m \u001b[32mForward Response\u001b[0m\u001b[34m\u001b[1m <--- \u001b[37mcode\u001b[0m\u001b[34m\u001b[1m:\u001b[32mSuccess\u001b[0m\u001b[34m\u001b[1m, \u001b[37mfrom\u001b[0m\u001b[34m\u001b[1m:/ipv4/0.0.0.0:8081, \u001b[37moutputs\u001b[0m\u001b[34m\u001b[1m:torch.Size([10, 20, 512])\u001b[0m\n",
      "\u001b[34m\u001b[1mDEBUG   \u001b[0m|\u001b[36mbittensor._receptor.receptor_impl\u001b[0m:\u001b[36mforward\u001b[0m:\u001b[36m246\u001b[0m - \u001b[34m\u001b[1m\u001b[37mDendrite\u001b[0m\u001b[34m\u001b[1m \u001b[32mForward Request\u001b[0m\u001b[34m\u001b[1m ---> \u001b[37mto\u001b[0m\u001b[34m\u001b[1m:/ipv4/0.0.0.0:8081, \u001b[37minputs\u001b[0m\u001b[34m\u001b[1m:torch.Size([10, 20]), \u001b[37mmode\u001b[0m\u001b[34m\u001b[1m:0\u001b[0m\n",
      "<bound method Miner.forward of <__main__.Miner object at 0x143279670>>\n",
      "\u001b[34m\u001b[1mDEBUG   \u001b[0m|\u001b[36mbittensor._axon.axon_impl\u001b[0m:\u001b[36mForward\u001b[0m:\u001b[36m88\u001b[0m - \u001b[34m\u001b[1m-> Got Forward request: 0x76a02b5371044ee1c7d031e5018e872acfcf6d3673f346a030e9bb1e167e621b, size:96\u001b[0m\n",
      "\u001b[34m\u001b[1mDEBUG   \u001b[0m|\u001b[36mbittensor._axon.axon_impl\u001b[0m:\u001b[36m_forward\u001b[0m:\u001b[36m314\u001b[0m - \u001b[34m\u001b[1m\u001b[37mAxon\u001b[0m\u001b[34m\u001b[1m \u001b[32mForward Request\u001b[0m\u001b[34m\u001b[1m ---> \u001b[37mfrom\u001b[0m\u001b[34m\u001b[1m:\u001b[36m0x76a02b5371044ee1c7d031e5018e872acfcf6d3673f346a030e9bb1e167e621b\u001b[0m\u001b[34m\u001b[1m, \u001b[37minputs\u001b[0m\u001b[34m\u001b[1m:\u001b[36mtorch.Size([10, 20])\u001b[0m\u001b[34m\u001b[1m\u001b[0m\n",
      "\u001b[34m\u001b[1mDEBUG   \u001b[0m|\u001b[36mbittensor._axon.axon_impl\u001b[0m:\u001b[36m_forward\u001b[0m:\u001b[36m332\u001b[0m - \u001b[34m\u001b[1m\u001b[37mAxon\u001b[0m\u001b[34m\u001b[1m \u001b[32mForward Response\u001b[0m\u001b[34m\u001b[1m <--- \u001b[37mto\u001b[0m\u001b[34m\u001b[1m:\u001b[36m0x76a02b5371044ee1c7d031e5018e872acfcf6d3673f346a030e9bb1e167e621b\u001b[0m\u001b[34m\u001b[1m, \u001b[37moutputs\u001b[0m\u001b[34m\u001b[1m:\u001b[36mtorch.Size([10, 20, 512])\u001b[0m\u001b[34m\u001b[1m\u001b[0m\n",
      "\u001b[34m\u001b[1mDEBUG   \u001b[0m|\u001b[36mbittensor._axon.axon_impl\u001b[0m:\u001b[36mForward\u001b[0m:\u001b[36m97\u001b[0m - \u001b[34m\u001b[1m<- Got Forward response: 0x76a02b5371044ee1c7d031e5018e872acfcf6d3673f346a030e9bb1e167e621b, size:96\u001b[0m\n",
      "\u001b[34m\u001b[1mDEBUG   \u001b[0m|\u001b[36mbittensor._receptor.receptor_impl\u001b[0m:\u001b[36mforward\u001b[0m:\u001b[36m325\u001b[0m - \u001b[34m\u001b[1m\u001b[37mDendrite\u001b[0m\u001b[34m\u001b[1m \u001b[32mForward Response\u001b[0m\u001b[34m\u001b[1m <--- \u001b[37mcode\u001b[0m\u001b[34m\u001b[1m:\u001b[32mSuccess\u001b[0m\u001b[34m\u001b[1m, \u001b[37mfrom\u001b[0m\u001b[34m\u001b[1m:/ipv4/0.0.0.0:8081, \u001b[37moutputs\u001b[0m\u001b[34m\u001b[1m:torch.Size([10, 20, 512])\u001b[0m\n",
      "\u001b[34m\u001b[1mDEBUG   \u001b[0m|\u001b[36mbittensor._receptor.receptor_impl\u001b[0m:\u001b[36mforward\u001b[0m:\u001b[36m246\u001b[0m - \u001b[34m\u001b[1m\u001b[37mDendrite\u001b[0m\u001b[34m\u001b[1m \u001b[32mForward Request\u001b[0m\u001b[34m\u001b[1m ---> \u001b[37mto\u001b[0m\u001b[34m\u001b[1m:/ipv4/0.0.0.0:8081, \u001b[37minputs\u001b[0m\u001b[34m\u001b[1m:torch.Size([10, 20]), \u001b[37mmode\u001b[0m\u001b[34m\u001b[1m:0\u001b[0m\n",
      "<bound method Miner.forward of <__main__.Miner object at 0x143279670>>\u001b[34m\u001b[1mDEBUG   \u001b[0m|\u001b[36mbittensor._axon.axon_impl\u001b[0m:\u001b[36mForward\u001b[0m:\u001b[36m88\u001b[0m - \u001b[34m\u001b[1m-> Got Forward request: 0x76a02b5371044ee1c7d031e5018e872acfcf6d3673f346a030e9bb1e167e621b, size:96\u001b[0m\n",
      "\n",
      "\u001b[34m\u001b[1mDEBUG   \u001b[0m|\u001b[36mbittensor._axon.axon_impl\u001b[0m:\u001b[36m_forward\u001b[0m:\u001b[36m314\u001b[0m - \u001b[34m\u001b[1m\u001b[37mAxon\u001b[0m\u001b[34m\u001b[1m \u001b[32mForward Request\u001b[0m\u001b[34m\u001b[1m ---> \u001b[37mfrom\u001b[0m\u001b[34m\u001b[1m:\u001b[36m0x76a02b5371044ee1c7d031e5018e872acfcf6d3673f346a030e9bb1e167e621b\u001b[0m\u001b[34m\u001b[1m, \u001b[37minputs\u001b[0m\u001b[34m\u001b[1m:\u001b[36mtorch.Size([10, 20])\u001b[0m\u001b[34m\u001b[1m\u001b[0m\n",
      "\u001b[34m\u001b[1mDEBUG   \u001b[0m|\u001b[36mbittensor._axon.axon_impl\u001b[0m:\u001b[36m_forward\u001b[0m:\u001b[36m332\u001b[0m - \u001b[34m\u001b[1m\u001b[37mAxon\u001b[0m\u001b[34m\u001b[1m \u001b[32mForward Response\u001b[0m\u001b[34m\u001b[1m <--- \u001b[37mto\u001b[0m\u001b[34m\u001b[1m:\u001b[36m0x76a02b5371044ee1c7d031e5018e872acfcf6d3673f346a030e9bb1e167e621b\u001b[0m\u001b[34m\u001b[1m, \u001b[37moutputs\u001b[0m\u001b[34m\u001b[1m:\u001b[36mtorch.Size([10, 20, 512])\u001b[0m\u001b[34m\u001b[1m\u001b[0m\n",
      "\u001b[34m\u001b[1mDEBUG   \u001b[0m|\u001b[36mbittensor._axon.axon_impl\u001b[0m:\u001b[36mForward\u001b[0m:\u001b[36m97\u001b[0m - \u001b[34m\u001b[1m<- Got Forward response: 0x76a02b5371044ee1c7d031e5018e872acfcf6d3673f346a030e9bb1e167e621b, size:96\u001b[0m\n",
      "\u001b[34m\u001b[1mDEBUG   \u001b[0m|\u001b[36mbittensor._receptor.receptor_impl\u001b[0m:\u001b[36mforward\u001b[0m:\u001b[36m325\u001b[0m - \u001b[34m\u001b[1m\u001b[37mDendrite\u001b[0m\u001b[34m\u001b[1m \u001b[32mForward Response\u001b[0m\u001b[34m\u001b[1m <--- \u001b[37mcode\u001b[0m\u001b[34m\u001b[1m:\u001b[32mSuccess\u001b[0m\u001b[34m\u001b[1m, \u001b[37mfrom\u001b[0m\u001b[34m\u001b[1m:/ipv4/0.0.0.0:8081, \u001b[37moutputs\u001b[0m\u001b[34m\u001b[1m:torch.Size([10, 20, 512])\u001b[0m\n",
      "\u001b[34m\u001b[1mDEBUG   \u001b[0m|\u001b[36mbittensor._receptor.receptor_impl\u001b[0m:\u001b[36mforward\u001b[0m:\u001b[36m246\u001b[0m - \u001b[34m\u001b[1m\u001b[37mDendrite\u001b[0m\u001b[34m\u001b[1m \u001b[32mForward Request\u001b[0m\u001b[34m\u001b[1m ---> \u001b[37mto\u001b[0m\u001b[34m\u001b[1m:/ipv4/0.0.0.0:8081, \u001b[37minputs\u001b[0m\u001b[34m\u001b[1m:torch.Size([10, 20]), \u001b[37mmode\u001b[0m\u001b[34m\u001b[1m:0\u001b[0m\n",
      "\u001b[34m\u001b[1mDEBUG   \u001b[0m|\u001b[36mbittensor._axon.axon_impl\u001b[0m:\u001b[36mForward\u001b[0m:\u001b[36m88\u001b[0m - \u001b[34m\u001b[1m-> Got Forward request: 0x76a02b5371044ee1c7d031e5018e872acfcf6d3673f346a030e9bb1e167e621b, size:96\u001b[0m\n",
      "<bound method Miner.forward of <__main__.Miner object at 0x143279670>>\n",
      "\u001b[34m\u001b[1mDEBUG   \u001b[0m|\u001b[36mbittensor._axon.axon_impl\u001b[0m:\u001b[36m_forward\u001b[0m:\u001b[36m314\u001b[0m - \u001b[34m\u001b[1m\u001b[37mAxon\u001b[0m\u001b[34m\u001b[1m \u001b[32mForward Request\u001b[0m\u001b[34m\u001b[1m ---> \u001b[37mfrom\u001b[0m\u001b[34m\u001b[1m:\u001b[36m0x76a02b5371044ee1c7d031e5018e872acfcf6d3673f346a030e9bb1e167e621b\u001b[0m\u001b[34m\u001b[1m, \u001b[37minputs\u001b[0m\u001b[34m\u001b[1m:\u001b[36mtorch.Size([10, 20])\u001b[0m\u001b[34m\u001b[1m\u001b[0m\n",
      "\u001b[34m\u001b[1mDEBUG   \u001b[0m|\u001b[36mbittensor._axon.axon_impl\u001b[0m:\u001b[36m_forward\u001b[0m:\u001b[36m332\u001b[0m - \u001b[34m\u001b[1m\u001b[37mAxon\u001b[0m\u001b[34m\u001b[1m \u001b[32mForward Response\u001b[0m\u001b[34m\u001b[1m <--- \u001b[37mto\u001b[0m\u001b[34m\u001b[1m:\u001b[36m0x76a02b5371044ee1c7d031e5018e872acfcf6d3673f346a030e9bb1e167e621b\u001b[0m\u001b[34m\u001b[1m, \u001b[37moutputs\u001b[0m\u001b[34m\u001b[1m:\u001b[36mtorch.Size([10, 20, 512])\u001b[0m\u001b[34m\u001b[1m\u001b[0m\n",
      "\u001b[34m\u001b[1mDEBUG   \u001b[0m|\u001b[36mbittensor._axon.axon_impl\u001b[0m:\u001b[36mForward\u001b[0m:\u001b[36m97\u001b[0m - \u001b[34m\u001b[1m<- Got Forward response: 0x76a02b5371044ee1c7d031e5018e872acfcf6d3673f346a030e9bb1e167e621b, size:96\u001b[0m\n",
      "\u001b[34m\u001b[1mDEBUG   \u001b[0m|\u001b[36mbittensor._receptor.receptor_impl\u001b[0m:\u001b[36mforward\u001b[0m:\u001b[36m325\u001b[0m - \u001b[34m\u001b[1m\u001b[37mDendrite\u001b[0m\u001b[34m\u001b[1m \u001b[32mForward Response\u001b[0m\u001b[34m\u001b[1m <--- \u001b[37mcode\u001b[0m\u001b[34m\u001b[1m:\u001b[32mSuccess\u001b[0m\u001b[34m\u001b[1m, \u001b[37mfrom\u001b[0m\u001b[34m\u001b[1m:/ipv4/0.0.0.0:8081, \u001b[37moutputs\u001b[0m\u001b[34m\u001b[1m:torch.Size([10, 20, 512])\u001b[0m\n"
     ]
    },
    {
     "ename": "KeyboardInterrupt",
     "evalue": "",
     "output_type": "error",
     "traceback": [
      "\u001b[0;31m---------------------------------------------------------------------------\u001b[0m",
      "\u001b[0;31mKeyboardInterrupt\u001b[0m                         Traceback (most recent call last)",
      "\u001b[0;32m<ipython-input-21-ab50efc79470>\u001b[0m in \u001b[0;36m<module>\u001b[0;34m\u001b[0m\n\u001b[0;32m----> 1\u001b[0;31m \u001b[0mminer_A\u001b[0m\u001b[0;34m.\u001b[0m\u001b[0mepoch\u001b[0m\u001b[0;34m(\u001b[0m\u001b[0;34m)\u001b[0m\u001b[0;34m\u001b[0m\u001b[0;34m\u001b[0m\u001b[0m\n\u001b[0m",
      "\u001b[0;32m<ipython-input-12-0bb07094989c>\u001b[0m in \u001b[0;36mepoch\u001b[0;34m(self)\u001b[0m\n\u001b[1;32m     49\u001b[0m         \u001b[0;32mfor\u001b[0m \u001b[0miteration\u001b[0m\u001b[0;34m,\u001b[0m \u001b[0minputs\u001b[0m \u001b[0;32min\u001b[0m \u001b[0menumerate\u001b[0m\u001b[0;34m(\u001b[0m\u001b[0mself\u001b[0m\u001b[0;34m.\u001b[0m\u001b[0mdataset\u001b[0m\u001b[0;34m.\u001b[0m\u001b[0mdataloader\u001b[0m\u001b[0;34m(\u001b[0m \u001b[0;36m100\u001b[0m \u001b[0;34m)\u001b[0m\u001b[0;34m)\u001b[0m\u001b[0;34m:\u001b[0m\u001b[0;34m\u001b[0m\u001b[0;34m\u001b[0m\u001b[0m\n\u001b[1;32m     50\u001b[0m             \u001b[0;31m# ---- Forward pass ----\u001b[0m\u001b[0;34m\u001b[0m\u001b[0;34m\u001b[0m\u001b[0;34m\u001b[0m\u001b[0m\n\u001b[0;32m---> 51\u001b[0;31m             output = self.nucleus.remote_forward(\n\u001b[0m\u001b[1;32m     52\u001b[0m                 \u001b[0minputs\u001b[0m \u001b[0;34m=\u001b[0m \u001b[0minputs\u001b[0m\u001b[0;34m,\u001b[0m\u001b[0;34m\u001b[0m\u001b[0;34m\u001b[0m\u001b[0m\n\u001b[1;32m     53\u001b[0m                 \u001b[0mtraining\u001b[0m \u001b[0;34m=\u001b[0m \u001b[0;32mTrue\u001b[0m\u001b[0;34m,\u001b[0m\u001b[0;34m\u001b[0m\u001b[0;34m\u001b[0m\u001b[0m\n",
      "\u001b[0;32m~/Workspace/bittensor/nuclei/gpt2.py\u001b[0m in \u001b[0;36mremote_forward\u001b[0;34m(self, inputs, training)\u001b[0m\n\u001b[1;32m    397\u001b[0m         \u001b[0;31m# remote_context: joined responses from a dendrite.forward_text call.\u001b[0m\u001b[0;34m\u001b[0m\u001b[0;34m\u001b[0m\u001b[0;34m\u001b[0m\u001b[0m\n\u001b[1;32m    398\u001b[0m         \u001b[0;31m# remote_context.shape = [batch_size, sequence_len (or block_size), bittensor.__network_dim__]\u001b[0m\u001b[0;34m\u001b[0m\u001b[0;34m\u001b[0m\u001b[0;34m\u001b[0m\u001b[0m\n\u001b[0;32m--> 399\u001b[0;31m         \u001b[0moutput\u001b[0m\u001b[0;34m.\u001b[0m\u001b[0mremote_context\u001b[0m \u001b[0;34m=\u001b[0m \u001b[0mself\u001b[0m\u001b[0;34m.\u001b[0m\u001b[0mroute\u001b[0m\u001b[0;34m(\u001b[0m \u001b[0minputs\u001b[0m \u001b[0;34m=\u001b[0m \u001b[0minputs\u001b[0m\u001b[0;34m.\u001b[0m\u001b[0mto\u001b[0m\u001b[0;34m(\u001b[0m\u001b[0mself\u001b[0m\u001b[0;34m.\u001b[0m\u001b[0mdevice\u001b[0m\u001b[0;34m)\u001b[0m\u001b[0;34m,\u001b[0m \u001b[0mquery\u001b[0m \u001b[0;34m=\u001b[0m \u001b[0mpooled\u001b[0m \u001b[0;34m)\u001b[0m\u001b[0;34m\u001b[0m\u001b[0;34m\u001b[0m\u001b[0m\n\u001b[0m\u001b[1;32m    400\u001b[0m \u001b[0;34m\u001b[0m\u001b[0m\n\u001b[1;32m    401\u001b[0m         \u001b[0;31m# distillation_loss : distillation loss between local_context and remote_context\u001b[0m\u001b[0;34m\u001b[0m\u001b[0;34m\u001b[0m\u001b[0;34m\u001b[0m\u001b[0m\n",
      "\u001b[0;32m~/Workspace/bittensor/nuclei/gpt2.py\u001b[0m in \u001b[0;36mroute\u001b[0;34m(self, inputs, query)\u001b[0m\n\u001b[1;32m    263\u001b[0m             \u001b[0;32mraise\u001b[0m \u001b[0mRuntimeError\u001b[0m\u001b[0;34m(\u001b[0m\u001b[0;34m'The routing function must be set on this nucleus before a remote_forward call can execute.'\u001b[0m\u001b[0;34m)\u001b[0m\u001b[0;34m\u001b[0m\u001b[0;34m\u001b[0m\u001b[0m\n\u001b[1;32m    264\u001b[0m         \u001b[0;32melse\u001b[0m\u001b[0;34m:\u001b[0m\u001b[0;34m\u001b[0m\u001b[0;34m\u001b[0m\u001b[0m\n\u001b[0;32m--> 265\u001b[0;31m             \u001b[0;32mreturn\u001b[0m \u001b[0mself\u001b[0m\u001b[0;34m.\u001b[0m\u001b[0mrouting_function\u001b[0m\u001b[0;34m(\u001b[0m \u001b[0minputs\u001b[0m \u001b[0;34m=\u001b[0m \u001b[0minputs\u001b[0m\u001b[0;34m,\u001b[0m \u001b[0mquery\u001b[0m \u001b[0;34m=\u001b[0m \u001b[0mquery\u001b[0m \u001b[0;34m)\u001b[0m\u001b[0;34m\u001b[0m\u001b[0;34m\u001b[0m\u001b[0m\n\u001b[0m\u001b[1;32m    266\u001b[0m \u001b[0;34m\u001b[0m\u001b[0m\n\u001b[1;32m    267\u001b[0m     \u001b[0;32mdef\u001b[0m \u001b[0mget_block_size\u001b[0m\u001b[0;34m(\u001b[0m\u001b[0mself\u001b[0m\u001b[0;34m)\u001b[0m\u001b[0;34m:\u001b[0m\u001b[0;34m\u001b[0m\u001b[0;34m\u001b[0m\u001b[0m\n",
      "\u001b[0;32m<ipython-input-12-0bb07094989c>\u001b[0m in \u001b[0;36mroute\u001b[0;34m(self, inputs, query)\u001b[0m\n\u001b[1;32m     20\u001b[0m             \u001b[0mresponse\u001b[0m \u001b[0;34m=\u001b[0m \u001b[0mtorch\u001b[0m\u001b[0;34m.\u001b[0m\u001b[0mzeros\u001b[0m\u001b[0;34m(\u001b[0m \u001b[0;34m[\u001b[0m\u001b[0minputs\u001b[0m\u001b[0;34m.\u001b[0m\u001b[0mshape\u001b[0m\u001b[0;34m[\u001b[0m\u001b[0;36m0\u001b[0m\u001b[0;34m]\u001b[0m\u001b[0;34m,\u001b[0m \u001b[0minputs\u001b[0m\u001b[0;34m.\u001b[0m\u001b[0mshape\u001b[0m\u001b[0;34m[\u001b[0m\u001b[0;36m1\u001b[0m\u001b[0;34m]\u001b[0m\u001b[0;34m,\u001b[0m \u001b[0mbittensor\u001b[0m\u001b[0;34m.\u001b[0m\u001b[0m__network_dim__\u001b[0m \u001b[0;34m]\u001b[0m\u001b[0;34m)\u001b[0m\u001b[0;34m\u001b[0m\u001b[0;34m\u001b[0m\u001b[0m\n\u001b[1;32m     21\u001b[0m         \u001b[0;32melse\u001b[0m\u001b[0;34m:\u001b[0m\u001b[0;34m\u001b[0m\u001b[0;34m\u001b[0m\u001b[0m\n\u001b[0;32m---> 22\u001b[0;31m             \u001b[0mresponse\u001b[0m\u001b[0;34m,\u001b[0m \u001b[0mreturn_codes\u001b[0m \u001b[0;34m=\u001b[0m \u001b[0mself\u001b[0m\u001b[0;34m.\u001b[0m\u001b[0mdendrite\u001b[0m\u001b[0;34m.\u001b[0m\u001b[0mforward_text\u001b[0m\u001b[0;34m(\u001b[0m \u001b[0mendpoints\u001b[0m \u001b[0;34m=\u001b[0m \u001b[0;34m[\u001b[0m\u001b[0mself\u001b[0m\u001b[0;34m.\u001b[0m\u001b[0mchild\u001b[0m\u001b[0;34m]\u001b[0m\u001b[0;34m,\u001b[0m \u001b[0mx\u001b[0m \u001b[0;34m=\u001b[0m \u001b[0;34m[\u001b[0m\u001b[0minputs\u001b[0m\u001b[0;34m]\u001b[0m \u001b[0;34m)\u001b[0m\u001b[0;34m\u001b[0m\u001b[0;34m\u001b[0m\u001b[0m\n\u001b[0m\u001b[1;32m     23\u001b[0m             \u001b[0mresponse\u001b[0m \u001b[0;34m=\u001b[0m \u001b[0mresponse\u001b[0m\u001b[0;34m[\u001b[0m\u001b[0;36m0\u001b[0m\u001b[0;34m]\u001b[0m\u001b[0;34m\u001b[0m\u001b[0;34m\u001b[0m\u001b[0m\n\u001b[1;32m     24\u001b[0m             \u001b[0mcode\u001b[0m \u001b[0;34m=\u001b[0m \u001b[0mreturn_codes\u001b[0m\u001b[0;34m[\u001b[0m\u001b[0;36m0\u001b[0m\u001b[0;34m]\u001b[0m\u001b[0;34m\u001b[0m\u001b[0;34m\u001b[0m\u001b[0m\n",
      "\u001b[0;32m~/Workspace/bittensor/bittensor/_dendrite/dendrite_impl.py\u001b[0m in \u001b[0;36mforward_text\u001b[0;34m(self, endpoints, x)\u001b[0m\n\u001b[1;32m    100\u001b[0m             \u001b[0merror_msg\u001b[0m \u001b[0;34m=\u001b[0m \u001b[0;34m'Must pass more than 0 input for argument x, got {}'\u001b[0m\u001b[0;34m.\u001b[0m\u001b[0mformat\u001b[0m\u001b[0;34m(\u001b[0m\u001b[0mlen\u001b[0m\u001b[0;34m(\u001b[0m\u001b[0mx\u001b[0m\u001b[0;34m)\u001b[0m\u001b[0;34m)\u001b[0m\u001b[0;34m\u001b[0m\u001b[0;34m\u001b[0m\u001b[0m\n\u001b[1;32m    101\u001b[0m             \u001b[0;32mraise\u001b[0m \u001b[0mValueError\u001b[0m\u001b[0;34m(\u001b[0m\u001b[0merror_msg\u001b[0m\u001b[0;34m)\u001b[0m\u001b[0;34m\u001b[0m\u001b[0;34m\u001b[0m\u001b[0m\n\u001b[0;32m--> 102\u001b[0;31m         \u001b[0;32mreturn\u001b[0m \u001b[0mself\u001b[0m\u001b[0;34m.\u001b[0m\u001b[0mforward\u001b[0m\u001b[0;34m(\u001b[0m\u001b[0mendpoints\u001b[0m\u001b[0;34m,\u001b[0m \u001b[0mx\u001b[0m\u001b[0;34m,\u001b[0m \u001b[0mbittensor\u001b[0m\u001b[0;34m.\u001b[0m\u001b[0mproto\u001b[0m\u001b[0;34m.\u001b[0m\u001b[0mModality\u001b[0m\u001b[0;34m.\u001b[0m\u001b[0mTEXT\u001b[0m\u001b[0;34m)\u001b[0m\u001b[0;34m\u001b[0m\u001b[0;34m\u001b[0m\u001b[0m\n\u001b[0m\u001b[1;32m    103\u001b[0m \u001b[0;34m\u001b[0m\u001b[0m\n\u001b[1;32m    104\u001b[0m     def forward_image(self, endpoints: List['bittensor.Endpoint'],\n",
      "\u001b[0;32m~/Workspace/bittensor/bittensor/_dendrite/dendrite_impl.py\u001b[0m in \u001b[0;36mforward\u001b[0;34m(self, endpoints, x, mode)\u001b[0m\n\u001b[1;32m    213\u001b[0m         \u001b[0;31m# ---- Fill calls ----\u001b[0m\u001b[0;34m\u001b[0m\u001b[0;34m\u001b[0m\u001b[0;34m\u001b[0m\u001b[0m\n\u001b[1;32m    214\u001b[0m         \u001b[0mcall_args\u001b[0m \u001b[0;34m=\u001b[0m \u001b[0;34m[\u001b[0m \u001b[0;34m(\u001b[0m\u001b[0mself\u001b[0m\u001b[0;34m.\u001b[0m\u001b[0m_get_or_create_receptor_for_endpoint\u001b[0m\u001b[0;34m(\u001b[0m \u001b[0mendpoint\u001b[0m \u001b[0;34m)\u001b[0m\u001b[0;34m,\u001b[0m \u001b[0minputs\u001b[0m\u001b[0;34m,\u001b[0m \u001b[0mmode\u001b[0m\u001b[0;34m)\u001b[0m \u001b[0;32mfor\u001b[0m \u001b[0;34m(\u001b[0m\u001b[0minputs\u001b[0m\u001b[0;34m,\u001b[0m \u001b[0mendpoint\u001b[0m\u001b[0;34m)\u001b[0m \u001b[0;32min\u001b[0m \u001b[0mlist\u001b[0m\u001b[0;34m(\u001b[0m\u001b[0mzip\u001b[0m\u001b[0;34m(\u001b[0m \u001b[0mx\u001b[0m\u001b[0;34m,\u001b[0m \u001b[0mendpoints\u001b[0m \u001b[0;34m)\u001b[0m\u001b[0;34m)\u001b[0m \u001b[0;34m]\u001b[0m\u001b[0;34m\u001b[0m\u001b[0;34m\u001b[0m\u001b[0m\n\u001b[0;32m--> 215\u001b[0;31m         \u001b[0;32mfor\u001b[0m \u001b[0mresult\u001b[0m \u001b[0;32min\u001b[0m \u001b[0mself\u001b[0m\u001b[0;34m.\u001b[0m\u001b[0mthread_pool\u001b[0m\u001b[0;34m.\u001b[0m\u001b[0mmap\u001b[0m\u001b[0;34m(\u001b[0m \u001b[0;32mlambda\u001b[0m \u001b[0margs\u001b[0m\u001b[0;34m:\u001b[0m \u001b[0m_call_receptor_with_args\u001b[0m\u001b[0;34m(\u001b[0m\u001b[0;34m*\u001b[0m\u001b[0margs\u001b[0m\u001b[0;34m)\u001b[0m\u001b[0;34m,\u001b[0m \u001b[0mcall_args\u001b[0m \u001b[0;34m)\u001b[0m\u001b[0;34m:\u001b[0m\u001b[0;34m\u001b[0m\u001b[0;34m\u001b[0m\u001b[0m\n\u001b[0m\u001b[1;32m    216\u001b[0m             \u001b[0mtensor_results\u001b[0m\u001b[0;34m.\u001b[0m\u001b[0mappend\u001b[0m\u001b[0;34m(\u001b[0m \u001b[0mresult\u001b[0m\u001b[0;34m[\u001b[0m\u001b[0;36m0\u001b[0m\u001b[0;34m]\u001b[0m \u001b[0;34m)\u001b[0m\u001b[0;34m\u001b[0m\u001b[0;34m\u001b[0m\u001b[0m\n\u001b[1;32m    217\u001b[0m             \u001b[0mreturn_codes\u001b[0m\u001b[0;34m.\u001b[0m\u001b[0mappend\u001b[0m\u001b[0;34m(\u001b[0m \u001b[0mresult\u001b[0m\u001b[0;34m[\u001b[0m\u001b[0;36m1\u001b[0m\u001b[0;34m]\u001b[0m \u001b[0;34m)\u001b[0m\u001b[0;34m\u001b[0m\u001b[0;34m\u001b[0m\u001b[0m\n",
      "\u001b[0;32m/usr/local/Cellar/python@3.8/3.8.10/Frameworks/Python.framework/Versions/3.8/lib/python3.8/concurrent/futures/_base.py\u001b[0m in \u001b[0;36mresult_iterator\u001b[0;34m()\u001b[0m\n\u001b[1;32m    617\u001b[0m                     \u001b[0;31m# Careful not to keep a reference to the popped future\u001b[0m\u001b[0;34m\u001b[0m\u001b[0;34m\u001b[0m\u001b[0;34m\u001b[0m\u001b[0m\n\u001b[1;32m    618\u001b[0m                     \u001b[0;32mif\u001b[0m \u001b[0mtimeout\u001b[0m \u001b[0;32mis\u001b[0m \u001b[0;32mNone\u001b[0m\u001b[0;34m:\u001b[0m\u001b[0;34m\u001b[0m\u001b[0;34m\u001b[0m\u001b[0m\n\u001b[0;32m--> 619\u001b[0;31m                         \u001b[0;32myield\u001b[0m \u001b[0mfs\u001b[0m\u001b[0;34m.\u001b[0m\u001b[0mpop\u001b[0m\u001b[0;34m(\u001b[0m\u001b[0;34m)\u001b[0m\u001b[0;34m.\u001b[0m\u001b[0mresult\u001b[0m\u001b[0;34m(\u001b[0m\u001b[0;34m)\u001b[0m\u001b[0;34m\u001b[0m\u001b[0;34m\u001b[0m\u001b[0m\n\u001b[0m\u001b[1;32m    620\u001b[0m                     \u001b[0;32melse\u001b[0m\u001b[0;34m:\u001b[0m\u001b[0;34m\u001b[0m\u001b[0;34m\u001b[0m\u001b[0m\n\u001b[1;32m    621\u001b[0m                         \u001b[0;32myield\u001b[0m \u001b[0mfs\u001b[0m\u001b[0;34m.\u001b[0m\u001b[0mpop\u001b[0m\u001b[0;34m(\u001b[0m\u001b[0;34m)\u001b[0m\u001b[0;34m.\u001b[0m\u001b[0mresult\u001b[0m\u001b[0;34m(\u001b[0m\u001b[0mend_time\u001b[0m \u001b[0;34m-\u001b[0m \u001b[0mtime\u001b[0m\u001b[0;34m.\u001b[0m\u001b[0mmonotonic\u001b[0m\u001b[0;34m(\u001b[0m\u001b[0;34m)\u001b[0m\u001b[0;34m)\u001b[0m\u001b[0;34m\u001b[0m\u001b[0;34m\u001b[0m\u001b[0m\n",
      "\u001b[0;32m/usr/local/Cellar/python@3.8/3.8.10/Frameworks/Python.framework/Versions/3.8/lib/python3.8/concurrent/futures/_base.py\u001b[0m in \u001b[0;36mresult\u001b[0;34m(self, timeout)\u001b[0m\n\u001b[1;32m    437\u001b[0m                     \u001b[0;32mreturn\u001b[0m \u001b[0mself\u001b[0m\u001b[0;34m.\u001b[0m\u001b[0m__get_result\u001b[0m\u001b[0;34m(\u001b[0m\u001b[0;34m)\u001b[0m\u001b[0;34m\u001b[0m\u001b[0;34m\u001b[0m\u001b[0m\n\u001b[1;32m    438\u001b[0m \u001b[0;34m\u001b[0m\u001b[0m\n\u001b[0;32m--> 439\u001b[0;31m                 \u001b[0mself\u001b[0m\u001b[0;34m.\u001b[0m\u001b[0m_condition\u001b[0m\u001b[0;34m.\u001b[0m\u001b[0mwait\u001b[0m\u001b[0;34m(\u001b[0m\u001b[0mtimeout\u001b[0m\u001b[0;34m)\u001b[0m\u001b[0;34m\u001b[0m\u001b[0;34m\u001b[0m\u001b[0m\n\u001b[0m\u001b[1;32m    440\u001b[0m \u001b[0;34m\u001b[0m\u001b[0m\n\u001b[1;32m    441\u001b[0m                 \u001b[0;32mif\u001b[0m \u001b[0mself\u001b[0m\u001b[0;34m.\u001b[0m\u001b[0m_state\u001b[0m \u001b[0;32min\u001b[0m \u001b[0;34m[\u001b[0m\u001b[0mCANCELLED\u001b[0m\u001b[0;34m,\u001b[0m \u001b[0mCANCELLED_AND_NOTIFIED\u001b[0m\u001b[0;34m]\u001b[0m\u001b[0;34m:\u001b[0m\u001b[0;34m\u001b[0m\u001b[0;34m\u001b[0m\u001b[0m\n",
      "\u001b[0;32m/usr/local/Cellar/python@3.8/3.8.10/Frameworks/Python.framework/Versions/3.8/lib/python3.8/threading.py\u001b[0m in \u001b[0;36mwait\u001b[0;34m(self, timeout)\u001b[0m\n\u001b[1;32m    300\u001b[0m         \u001b[0;32mtry\u001b[0m\u001b[0;34m:\u001b[0m    \u001b[0;31m# restore state no matter what (e.g., KeyboardInterrupt)\u001b[0m\u001b[0;34m\u001b[0m\u001b[0;34m\u001b[0m\u001b[0m\n\u001b[1;32m    301\u001b[0m             \u001b[0;32mif\u001b[0m \u001b[0mtimeout\u001b[0m \u001b[0;32mis\u001b[0m \u001b[0;32mNone\u001b[0m\u001b[0;34m:\u001b[0m\u001b[0;34m\u001b[0m\u001b[0;34m\u001b[0m\u001b[0m\n\u001b[0;32m--> 302\u001b[0;31m                 \u001b[0mwaiter\u001b[0m\u001b[0;34m.\u001b[0m\u001b[0macquire\u001b[0m\u001b[0;34m(\u001b[0m\u001b[0;34m)\u001b[0m\u001b[0;34m\u001b[0m\u001b[0;34m\u001b[0m\u001b[0m\n\u001b[0m\u001b[1;32m    303\u001b[0m                 \u001b[0mgotit\u001b[0m \u001b[0;34m=\u001b[0m \u001b[0;32mTrue\u001b[0m\u001b[0;34m\u001b[0m\u001b[0;34m\u001b[0m\u001b[0m\n\u001b[1;32m    304\u001b[0m             \u001b[0;32melse\u001b[0m\u001b[0;34m:\u001b[0m\u001b[0;34m\u001b[0m\u001b[0;34m\u001b[0m\u001b[0m\n",
      "\u001b[0;31mKeyboardInterrupt\u001b[0m: "
     ]
    }
   ],
   "source": [
    "# Start training miner A.\n",
    "miner_A.epoch()"
   ]
  },
  {
   "cell_type": "code",
   "execution_count": null,
   "id": "f3bb4272-06c7-4b4e-b3cc-ff470d91c27d",
   "metadata": {},
   "outputs": [],
   "source": []
  }
 ],
 "metadata": {
  "kernelspec": {
   "display_name": "Python 3",
   "language": "python",
   "name": "python3"
  },
  "language_info": {
   "codemirror_mode": {
    "name": "ipython",
    "version": 3
   },
   "file_extension": ".py",
   "mimetype": "text/x-python",
   "name": "python",
   "nbconvert_exporter": "python",
   "pygments_lexer": "ipython3",
   "version": "3.8.10"
  }
 },
 "nbformat": 4,
 "nbformat_minor": 5
}
