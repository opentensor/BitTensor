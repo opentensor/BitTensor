{
 "cells": [
  {
   "cell_type": "code",
   "execution_count": 4,
   "id": "a00ab473-f3d0-42c8-add2-36adffa00202",
   "metadata": {},
   "outputs": [
    {
     "name": "stdout",
     "output_type": "stream",
     "text": [
      "The autoreload extension is already loaded. To reload it, use:\n",
      "  %reload_ext autoreload\n"
     ]
    }
   ],
   "source": [
    "import bittensor\n",
    "import argparse\n",
    "import torch\n",
    "bittensor.__debug_on__ = True\n",
    "%load_ext autoreload"
   ]
  },
  {
   "cell_type": "code",
   "execution_count": 45,
   "id": "27fdb590-a368-43eb-a210-003d4c2cf92c",
   "metadata": {},
   "outputs": [],
   "source": [
    "from types import SimpleNamespace\n"
   ]
  },
  {
   "cell_type": "code",
   "execution_count": 56,
   "id": "224b7514-a50b-4e12-89f8-6be8d5cdbdc4",
   "metadata": {},
   "outputs": [],
   "source": [
    "\n",
    "def add_args( namespace ):\n",
    "    parser = argparse.ArgumentParser()\n",
    "    parser.add_argument('--n_head', default=1, type=int, \n",
    "                        help='Number of attention heads for each attention layer in the Transformer encoder.')\n",
    "    parser.add_argument('--n_layer', default=2, type=int, \n",
    "                        help='Number of hidden layers in the Transformer encoder.')\n",
    "    parser.add_argument('--n_inner', default=8, type=int, \n",
    "                        help='The dimensionality of the inner feed-forward layers. :obj:`None` will set it to 4 times n_embd')\n",
    "    parser.add_argument('--activation_function', default='gelu_new', type=str, \n",
    "                        help='Activation function, to be selected in the list :obj:`[\"relu\", \"silu\", \"gelu\", \"tanh\", \"gelu_new\"]')\n",
    "    parser.add_argument('--resid_pdrop', default=0.1, type=float, \n",
    "                        help='GPT residual dropout probabilit.')\n",
    "    parser.add_argument('--embd_pdrop', default=0.1, type=float, \n",
    "                        help='GPT embedding dropout probability.')\n",
    "    parser.add_argument('--attn_pdrop', default=0.1, type=float, \n",
    "                        help='GPT attention dropout probability.')\n",
    "    parser.add_argument('--layer_norm_epsilon', default=1e-05, type=float, \n",
    "                        help='GPT the epsilon to use in the layer normalization layers')\n",
    "    parser.add_argument('--summary_type', default='cls_index', type=str, \n",
    "                        help='Supply a Tensor of classification token position (like GPT/GPT-2).')\n",
    "    parser.add_argument('--initializer_range', default=0.02, type=float, \n",
    "                        help='The standard deviation of the truncated_normal_initializer for initializing all weight matrices.')\n",
    "    parser.add_argument('--summary_use_proj', default=True, type=bool, \n",
    "                        help='Whether or not to add a projection after the vector extraction.')\n",
    "    parser.add_argument('--summary_activation', type=str, \n",
    "                        help='Pass \"tanh\" for a tanh activation to the output, any other value will result in no activation.')\n",
    "    parser.add_argument('--summary_proj_to_labels', default=True, type=bool, \n",
    "                        help='Whether the projection outputs should have config.num_labels or config.hidden_size classes.')\n",
    "    parser.add_argument('--summary_first_dropout', default=0.1, type=float, \n",
    "                        help='The dropout ratio to be used after the projection and activation.')\n",
    "    parser.add_argument('--n_block_filter', default=100, type=int, \n",
    "                        help='Stale neurons are filtered after this many blocks.')\n",
    "    parser.add_argument('--gradient_checkpointing', default=True, type=bool, \n",
    "                        help='Stale neurons are filtered after this many blocks.')\n",
    "    parser.parse_known_args( namespace = namespace )\n",
    "\n"
   ]
  },
  {
   "cell_type": "code",
   "execution_count": 66,
   "id": "eba8e91a-c6d1-4360-973e-190b6bcf0480",
   "metadata": {},
   "outputs": [
    {
     "ename": "AttributeError",
     "evalue": "'types.SimpleNamespace' object has no attribute 'nucleus'",
     "output_type": "error",
     "traceback": [
      "\u001b[0;31m---------------------------------------------------------------------------\u001b[0m",
      "\u001b[0;31mAttributeError\u001b[0m                            Traceback (most recent call last)",
      "\u001b[0;32m<ipython-input-66-5ea36d722af0>\u001b[0m in \u001b[0;36m<module>\u001b[0;34m\u001b[0m\n\u001b[1;32m      1\u001b[0m \u001b[0mconfig\u001b[0m \u001b[0;34m=\u001b[0m \u001b[0mSimpleNamespace\u001b[0m\u001b[0;34m(\u001b[0m\u001b[0;34m)\u001b[0m\u001b[0;34m\u001b[0m\u001b[0;34m\u001b[0m\u001b[0m\n\u001b[0;32m----> 2\u001b[0;31m \u001b[0mpp\u001b[0m \u001b[0;34m=\u001b[0m \u001b[0madd_args\u001b[0m\u001b[0;34m(\u001b[0m \u001b[0mconfig\u001b[0m\u001b[0;34m.\u001b[0m\u001b[0mnucleus\u001b[0m \u001b[0;34m)\u001b[0m\u001b[0;34m\u001b[0m\u001b[0;34m\u001b[0m\u001b[0m\n\u001b[0m",
      "\u001b[0;31mAttributeError\u001b[0m: 'types.SimpleNamespace' object has no attribute 'nucleus'"
     ]
    }
   ],
   "source": [
    "config = SimpleNamespace()\n",
    "config.nucleus = SimpleNamespace()\n",
    "pp = add_args( config.nucleus )"
   ]
  },
  {
   "cell_type": "code",
   "execution_count": 63,
   "id": "9ed07a84-0c70-4539-bafd-0bf0a61d7554",
   "metadata": {},
   "outputs": [
    {
     "data": {
      "text/plain": [
       "namespace(n_head=1,\n",
       "          n_layer=2,\n",
       "          n_inner=8,\n",
       "          activation_function='gelu_new',\n",
       "          resid_pdrop=0.1,\n",
       "          embd_pdrop=0.1,\n",
       "          attn_pdrop=0.1,\n",
       "          layer_norm_epsilon=1e-05,\n",
       "          summary_type='cls_index',\n",
       "          initializer_range=0.02,\n",
       "          summary_use_proj=True,\n",
       "          summary_activation=None,\n",
       "          summary_proj_to_labels=True,\n",
       "          summary_first_dropout=0.1,\n",
       "          n_block_filter=100,\n",
       "          gradient_checkpointing=True)"
      ]
     },
     "execution_count": 63,
     "metadata": {},
     "output_type": "execute_result"
    }
   ],
   "source": [
    "config.nucleus"
   ]
  },
  {
   "cell_type": "code",
   "execution_count": 38,
   "id": "a0aff06e-c3cc-44d9-ad73-0d97153b069a",
   "metadata": {},
   "outputs": [],
   "source": [
    "p = argparse.Namespace()"
   ]
  },
  {
   "cell_type": "code",
   "execution_count": 52,
   "id": "fd68d44d-c287-462f-82a8-95fb3c370b7f",
   "metadata": {},
   "outputs": [],
   "source": [
    "config = SimpleNamespace()"
   ]
  },
  {
   "cell_type": "code",
   "execution_count": 53,
   "id": "8262ecbe-e994-43c7-8e61-8ac44b9a6dff",
   "metadata": {},
   "outputs": [],
   "source": [
    "pp = add_args( config )"
   ]
  },
  {
   "cell_type": "code",
   "execution_count": 55,
   "id": "28a1e014-c6ac-411d-8e2f-3d8d1f1091bf",
   "metadata": {},
   "outputs": [
    {
     "ename": "AttributeError",
     "evalue": "'NoneType' object has no attribute 'nucleus'",
     "output_type": "error",
     "traceback": [
      "\u001b[0;31m---------------------------------------------------------------------------\u001b[0m",
      "\u001b[0;31mAttributeError\u001b[0m                            Traceback (most recent call last)",
      "\u001b[0;32m<ipython-input-55-c152a44f526b>\u001b[0m in \u001b[0;36m<module>\u001b[0;34m\u001b[0m\n\u001b[0;32m----> 1\u001b[0;31m \u001b[0mpp\u001b[0m\u001b[0;34m.\u001b[0m\u001b[0mnucleus\u001b[0m\u001b[0;34m\u001b[0m\u001b[0;34m\u001b[0m\u001b[0m\n\u001b[0m",
      "\u001b[0;31mAttributeError\u001b[0m: 'NoneType' object has no attribute 'nucleus'"
     ]
    }
   ],
   "source": [
    "pp.nucleus"
   ]
  },
  {
   "cell_type": "code",
   "execution_count": 27,
   "id": "035c684d-0a12-4ddc-851c-403b9f69ca50",
   "metadata": {},
   "outputs": [
    {
     "data": {
      "text/plain": [
       "'gelu_new'"
      ]
     },
     "execution_count": 27,
     "metadata": {},
     "output_type": "execute_result"
    }
   ],
   "source": [
    "pp.activation_function"
   ]
  },
  {
   "cell_type": "code",
   "execution_count": 10,
   "id": "bb288a97-c91c-4db1-97ba-7e1dc01825c1",
   "metadata": {},
   "outputs": [
    {
     "ename": "AttributeError",
     "evalue": "'tuple' object has no attribute 'gradient_checkpointing'",
     "output_type": "error",
     "traceback": [
      "\u001b[0;31m---------------------------------------------------------------------------\u001b[0m",
      "\u001b[0;31mAttributeError\u001b[0m                            Traceback (most recent call last)",
      "\u001b[0;32m<ipython-input-10-71d63b63b2f1>\u001b[0m in \u001b[0;36m<module>\u001b[0;34m\u001b[0m\n\u001b[0;32m----> 1\u001b[0;31m \u001b[0mpp\u001b[0m\u001b[0;34m.\u001b[0m\u001b[0mgradient_checkpointing\u001b[0m\u001b[0;34m\u001b[0m\u001b[0;34m\u001b[0m\u001b[0m\n\u001b[0m",
      "\u001b[0;31mAttributeError\u001b[0m: 'tuple' object has no attribute 'gradient_checkpointing'"
     ]
    }
   ],
   "source": [
    "pp.gradient_checkpointing"
   ]
  },
  {
   "cell_type": "code",
   "execution_count": 16,
   "id": "7c0f4448-0a3d-4609-87d1-a3fed0e8541d",
   "metadata": {},
   "outputs": [
    {
     "name": "stdout",
     "output_type": "stream",
     "text": [
      "(Namespace(activation_function='gelu_new', summary_type='cls_index'), ['-f', '/Users/const/Library/Jupyter/runtime/kernel-3d0c3192-f293-4e4b-93d4-213a39c0c13d.json'])\n"
     ]
    }
   ],
   "source": [
    "print (add_args( argparse.Namespace() ))"
   ]
  },
  {
   "cell_type": "code",
   "execution_count": 218,
   "id": "84b8e903-1812-4cb4-9df8-156993ab34c8",
   "metadata": {},
   "outputs": [],
   "source": [
    "%autoreload 2"
   ]
  },
  {
   "cell_type": "code",
   "execution_count": 214,
   "id": "d6d88e49-7eac-49d3-91f4-88d8fe1071d4",
   "metadata": {},
   "outputs": [
    {
     "name": "stdout",
     "output_type": "stream",
     "text": [
      "\n",
      "cat:\n",
      "  dendrite:\n",
      "    pass_gradients: true\n",
      "    receptor_pool:\n",
      "      max_active_receptors: 150\n",
      "      max_worker_threads: 20\n",
      "      receptor:\n",
      "        do_backoff: true\n",
      "        max_backoff: 100\n",
      "        timeout: 3\n",
      "        wallet:\n",
      "          hotkey: default\n",
      "          name: default\n",
      "          path: ~/.bittensor/wallets/\n",
      "\n",
      "\n",
      "dendrite:\n",
      "  pass_gradients: true\n",
      "  receptor_pool:\n",
      "    max_active_receptors: 150\n",
      "    max_worker_threads: 20\n",
      "    receptor:\n",
      "      do_backoff: true\n",
      "      max_backoff: 100\n",
      "      timeout: 3\n",
      "      wallet:\n",
      "        hotkey: default\n",
      "        name: default\n",
      "        path: ~/.bittensor/wallets/\n",
      "\n"
     ]
    }
   ],
   "source": [
    "print(bittensor.dendrite.config( namespace = 'cat.' ))"
   ]
  },
  {
   "cell_type": "code",
   "execution_count": 217,
   "id": "d97612bd-d136-4a93-b650-91e523b96057",
   "metadata": {},
   "outputs": [
    {
     "name": "stdout",
     "output_type": "stream",
     "text": [
      "\n",
      "wallet:\n",
      "  hotkey: default\n",
      "  name: default\n",
      "  path: ~/.bittensor/wallets/\n",
      " \n",
      "\n",
      "wallet:\n",
      "  hotkey: default\n",
      "  name: default\n",
      "  path: ~/.bittensor/wallets/\n",
      " \n",
      "\n",
      "receptor_pool:\n",
      "  max_active_receptors: 150\n",
      "  max_worker_threads: 20\n",
      "  receptor:\n",
      "    do_backoff: true\n",
      "    max_backoff: 100\n",
      "    timeout: 3\n",
      "    wallet:\n",
      "      hotkey: default\n",
      "      name: default\n",
      "      path: ~/.bittensor/wallets/\n",
      " \n",
      "\n",
      "receptor_pool:\n",
      "  max_active_receptors: 150\n",
      "  max_worker_threads: 20\n",
      "  receptor:\n",
      "    do_backoff: true\n",
      "    max_backoff: 100\n",
      "    timeout: 3\n",
      "    wallet:\n",
      "      hotkey: default\n",
      "      name: default\n",
      "      path: ~/.bittensor/wallets/\n",
      " \n",
      "\n",
      "cat:\n",
      "  dendrite:\n",
      "    pass_gradients: true\n",
      "    receptor_pool:\n",
      "      max_active_receptors: 150\n",
      "      max_worker_threads: 20\n",
      "      receptor:\n",
      "        do_backoff: true\n",
      "        max_backoff: 100\n",
      "        timeout: 3\n",
      "        wallet:\n",
      "          hotkey: default\n",
      "          name: default\n",
      "          path: ~/.bittensor/wallets/\n",
      "\n",
      "\n",
      "cat:\n",
      "  dendrite:\n",
      "    pass_gradients: true\n",
      "    receptor_pool:\n",
      "      max_active_receptors: 150\n",
      "      max_worker_threads: 20\n",
      "      receptor:\n",
      "        do_backoff: true\n",
      "        max_backoff: 100\n",
      "        timeout: 3\n",
      "        wallet:\n",
      "          hotkey: default\n",
      "          name: default\n",
      "          path: ~/.bittensor/wallets/\n",
      " cat.\n",
      "\n",
      "dendrite:\n",
      "  pass_gradients: true\n",
      "  receptor_pool:\n",
      "    max_active_receptors: 150\n",
      "    max_worker_threads: 20\n",
      "    receptor:\n",
      "      do_backoff: true\n",
      "      max_backoff: 100\n",
      "      timeout: 3\n",
      "      wallet:\n",
      "        hotkey: default\n",
      "        name: default\n",
      "        path: ~/.bittensor/wallets/\n",
      " cat.\n"
     ]
    },
    {
     "ename": "KeyError",
     "evalue": "'cat'",
     "output_type": "error",
     "traceback": [
      "\u001b[0;31m---------------------------------------------------------------------------\u001b[0m",
      "\u001b[0;31mKeyError\u001b[0m                                  Traceback (most recent call last)",
      "\u001b[0;32m<ipython-input-217-a5f3536271e7>\u001b[0m in \u001b[0;36m<module>\u001b[0;34m\u001b[0m\n\u001b[0;32m----> 1\u001b[0;31m dend = bittensor.dendrite( \n\u001b[0m\u001b[1;32m      2\u001b[0m     \u001b[0mwallet\u001b[0m \u001b[0;34m=\u001b[0m \u001b[0mbittensor\u001b[0m\u001b[0;34m.\u001b[0m\u001b[0mwallet\u001b[0m\u001b[0;34m(\u001b[0m \u001b[0mname\u001b[0m \u001b[0;34m=\u001b[0m \u001b[0;34m'bob'\u001b[0m\u001b[0;34m,\u001b[0m \u001b[0mhotkey\u001b[0m \u001b[0;34m=\u001b[0m \u001b[0;34m'key1'\u001b[0m\u001b[0;34m)\u001b[0m\u001b[0;34m,\u001b[0m\u001b[0;34m\u001b[0m\u001b[0;34m\u001b[0m\u001b[0m\n\u001b[1;32m      3\u001b[0m     receptor_pool = bittensor.receptor_pool (\n\u001b[1;32m      4\u001b[0m         \u001b[0mmax_worker_threads\u001b[0m \u001b[0;34m=\u001b[0m \u001b[0;36m20\u001b[0m\u001b[0;34m,\u001b[0m\u001b[0;34m\u001b[0m\u001b[0;34m\u001b[0m\u001b[0m\n\u001b[1;32m      5\u001b[0m         \u001b[0mmax_active_receptors\u001b[0m \u001b[0;34m=\u001b[0m \u001b[0;36m150\u001b[0m\u001b[0;34m\u001b[0m\u001b[0;34m\u001b[0m\u001b[0m\n",
      "\u001b[0;32m~/Workspace/bittensor/bittensor/_dendrite/__init__.py\u001b[0m in \u001b[0;36m__new__\u001b[0;34m(cls, config, wallet, receptor_pool, thread_pool, max_worker_threads, max_active_receptors, pass_gradients, timeout, do_backoff, max_backoff, namespace)\u001b[0m\n\u001b[1;32m     68\u001b[0m         \"\"\"\n\u001b[1;32m     69\u001b[0m         \u001b[0;32mif\u001b[0m \u001b[0mconfig\u001b[0m \u001b[0;34m==\u001b[0m \u001b[0;32mNone\u001b[0m\u001b[0;34m:\u001b[0m\u001b[0;34m\u001b[0m\u001b[0;34m\u001b[0m\u001b[0m\n\u001b[0;32m---> 70\u001b[0;31m             \u001b[0mconfig\u001b[0m \u001b[0;34m=\u001b[0m \u001b[0mbittensor\u001b[0m\u001b[0;34m.\u001b[0m\u001b[0mconfig\u001b[0m\u001b[0;34m.\u001b[0m\u001b[0mcut_namespace\u001b[0m\u001b[0;34m(\u001b[0m\u001b[0mdendrite\u001b[0m\u001b[0;34m.\u001b[0m\u001b[0mconfig\u001b[0m\u001b[0;34m(\u001b[0m \u001b[0mnamespace\u001b[0m \u001b[0;34m)\u001b[0m\u001b[0;34m,\u001b[0m \u001b[0mnamespace\u001b[0m \u001b[0;34m)\u001b[0m\u001b[0;34m.\u001b[0m\u001b[0mdendrite\u001b[0m\u001b[0;34m\u001b[0m\u001b[0;34m\u001b[0m\u001b[0m\n\u001b[0m\u001b[1;32m     71\u001b[0m         \u001b[0mconfig\u001b[0m\u001b[0;34m.\u001b[0m\u001b[0mpass_gradients\u001b[0m \u001b[0;34m=\u001b[0m \u001b[0mpass_gradients\u001b[0m \u001b[0;32mif\u001b[0m \u001b[0mpass_gradients\u001b[0m \u001b[0;34m!=\u001b[0m \u001b[0;32mNone\u001b[0m \u001b[0;32melse\u001b[0m \u001b[0mconfig\u001b[0m\u001b[0;34m.\u001b[0m\u001b[0mpass_gradients\u001b[0m\u001b[0;34m\u001b[0m\u001b[0;34m\u001b[0m\u001b[0m\n\u001b[1;32m     72\u001b[0m         \u001b[0mconfig\u001b[0m\u001b[0;34m.\u001b[0m\u001b[0mreceptor_pool\u001b[0m\u001b[0;34m.\u001b[0m\u001b[0mmax_worker_threads\u001b[0m \u001b[0;34m=\u001b[0m \u001b[0mmax_worker_threads\u001b[0m \u001b[0;32mif\u001b[0m \u001b[0mmax_worker_threads\u001b[0m \u001b[0;34m!=\u001b[0m \u001b[0;32mNone\u001b[0m \u001b[0;32melse\u001b[0m \u001b[0mconfig\u001b[0m\u001b[0;34m.\u001b[0m\u001b[0mreceptor_pool\u001b[0m\u001b[0;34m.\u001b[0m\u001b[0mmax_worker_threads\u001b[0m\u001b[0;34m\u001b[0m\u001b[0;34m\u001b[0m\u001b[0m\n",
      "\u001b[0;32m~/Workspace/bittensor/bittensor/_config/__init__.py\u001b[0m in \u001b[0;36mcut_namespace\u001b[0;34m(config, namespace)\u001b[0m\n\u001b[1;32m     70\u001b[0m             \u001b[0;32mif\u001b[0m \u001b[0mnamespace_val\u001b[0m \u001b[0;34m==\u001b[0m \u001b[0;34m''\u001b[0m\u001b[0;34m:\u001b[0m\u001b[0;34m\u001b[0m\u001b[0;34m\u001b[0m\u001b[0m\n\u001b[1;32m     71\u001b[0m                 \u001b[0;32mbreak\u001b[0m\u001b[0;34m\u001b[0m\u001b[0;34m\u001b[0m\u001b[0m\n\u001b[0;32m---> 72\u001b[0;31m             \u001b[0mcurrent\u001b[0m \u001b[0;34m=\u001b[0m \u001b[0mcurrent\u001b[0m\u001b[0;34m[\u001b[0m\u001b[0mnamespace_val\u001b[0m\u001b[0;34m]\u001b[0m\u001b[0;34m\u001b[0m\u001b[0;34m\u001b[0m\u001b[0m\n\u001b[0m\u001b[1;32m     73\u001b[0m         \u001b[0;32mreturn\u001b[0m \u001b[0mcurrent\u001b[0m\u001b[0;34m\u001b[0m\u001b[0;34m\u001b[0m\u001b[0m\n\u001b[1;32m     74\u001b[0m \u001b[0;34m\u001b[0m\u001b[0m\n",
      "\u001b[0;31mKeyError\u001b[0m: 'cat'"
     ]
    }
   ],
   "source": [
    "dend = bittensor.dendrite( \n",
    "    wallet = bittensor.wallet( name = 'bob', hotkey = 'key1'), \n",
    "    receptor_pool = bittensor.receptor_pool (\n",
    "        max_worker_threads = 20,\n",
    "        max_active_receptors = 150\n",
    "    ),\n",
    "    namespace = 'cat.'\n",
    ") \n",
    "dend = bittensor.dendrite( wallet = wallet ) "
   ]
  },
  {
   "cell_type": "code",
   "execution_count": 185,
   "id": "639fa583-9974-4f45-ab2e-d2d2c24ef706",
   "metadata": {},
   "outputs": [
    {
     "name": "stdout",
     "output_type": "stream",
     "text": [
      "1\n",
      "2\n"
     ]
    }
   ],
   "source": [
    "\n",
    "dend = bittensor.dendrite()\n",
    "dend2 = bittensor.dendrite()"
   ]
  },
  {
   "cell_type": "code",
   "execution_count": 147,
   "id": "74092867-3304-4d9d-a881-108f88afda5d",
   "metadata": {},
   "outputs": [],
   "source": [
    "import argparse"
   ]
  },
  {
   "cell_type": "code",
   "execution_count": 177,
   "id": "19d56218-cb3c-46f4-ae42-6a1a30dc6b5d",
   "metadata": {},
   "outputs": [
    {
     "ename": "ArgumentError",
     "evalue": "argument --1111: conflicting option string: --1111",
     "output_type": "error",
     "traceback": [
      "\u001b[0;31m---------------------------------------------------------------------------\u001b[0m",
      "\u001b[0;31mArgumentError\u001b[0m                             Traceback (most recent call last)",
      "\u001b[0;32m<ipython-input-177-7813cd86fb23>\u001b[0m in \u001b[0;36m<module>\u001b[0;34m\u001b[0m\n\u001b[1;32m      1\u001b[0m \u001b[0mparser\u001b[0m \u001b[0;34m=\u001b[0m \u001b[0margparse\u001b[0m\u001b[0;34m.\u001b[0m\u001b[0mArgumentParser\u001b[0m\u001b[0;34m(\u001b[0m\u001b[0;34m)\u001b[0m\u001b[0;34m;\u001b[0m\u001b[0;34m\u001b[0m\u001b[0;34m\u001b[0m\u001b[0m\n\u001b[1;32m      2\u001b[0m \u001b[0mparser\u001b[0m\u001b[0;34m.\u001b[0m\u001b[0madd_argument\u001b[0m\u001b[0;34m(\u001b[0m\u001b[0;34m'--1111'\u001b[0m\u001b[0;34m,\u001b[0m \u001b[0mhelp\u001b[0m\u001b[0;34m=\u001b[0m\u001b[0;34m'''Does this dendrite pass gradients by default.'''\u001b[0m\u001b[0;34m)\u001b[0m\u001b[0;34m\u001b[0m\u001b[0;34m\u001b[0m\u001b[0m\n\u001b[0;32m----> 3\u001b[0;31m \u001b[0mparser\u001b[0m\u001b[0;34m.\u001b[0m\u001b[0madd_argument\u001b[0m\u001b[0;34m(\u001b[0m\u001b[0;34m'--1111'\u001b[0m\u001b[0;34m,\u001b[0m \u001b[0mhelp\u001b[0m\u001b[0;34m=\u001b[0m\u001b[0;34m'''Does this dendrite pass gradients by default.'''\u001b[0m\u001b[0;34m)\u001b[0m\u001b[0;34m\u001b[0m\u001b[0;34m\u001b[0m\u001b[0m\n\u001b[0m",
      "\u001b[0;32m/usr/local/Cellar/python@3.8/3.8.10/Frameworks/Python.framework/Versions/3.8/lib/python3.8/argparse.py\u001b[0m in \u001b[0;36madd_argument\u001b[0;34m(self, *args, **kwargs)\u001b[0m\n\u001b[1;32m   1384\u001b[0m                 \u001b[0;32mraise\u001b[0m \u001b[0mValueError\u001b[0m\u001b[0;34m(\u001b[0m\u001b[0;34m\"length of metavar tuple does not match nargs\"\u001b[0m\u001b[0;34m)\u001b[0m\u001b[0;34m\u001b[0m\u001b[0;34m\u001b[0m\u001b[0m\n\u001b[1;32m   1385\u001b[0m \u001b[0;34m\u001b[0m\u001b[0m\n\u001b[0;32m-> 1386\u001b[0;31m         \u001b[0;32mreturn\u001b[0m \u001b[0mself\u001b[0m\u001b[0;34m.\u001b[0m\u001b[0m_add_action\u001b[0m\u001b[0;34m(\u001b[0m\u001b[0maction\u001b[0m\u001b[0;34m)\u001b[0m\u001b[0;34m\u001b[0m\u001b[0;34m\u001b[0m\u001b[0m\n\u001b[0m\u001b[1;32m   1387\u001b[0m \u001b[0;34m\u001b[0m\u001b[0m\n\u001b[1;32m   1388\u001b[0m     \u001b[0;32mdef\u001b[0m \u001b[0madd_argument_group\u001b[0m\u001b[0;34m(\u001b[0m\u001b[0mself\u001b[0m\u001b[0;34m,\u001b[0m \u001b[0;34m*\u001b[0m\u001b[0margs\u001b[0m\u001b[0;34m,\u001b[0m \u001b[0;34m**\u001b[0m\u001b[0mkwargs\u001b[0m\u001b[0;34m)\u001b[0m\u001b[0;34m:\u001b[0m\u001b[0;34m\u001b[0m\u001b[0;34m\u001b[0m\u001b[0m\n",
      "\u001b[0;32m/usr/local/Cellar/python@3.8/3.8.10/Frameworks/Python.framework/Versions/3.8/lib/python3.8/argparse.py\u001b[0m in \u001b[0;36m_add_action\u001b[0;34m(self, action)\u001b[0m\n\u001b[1;32m   1747\u001b[0m     \u001b[0;32mdef\u001b[0m \u001b[0m_add_action\u001b[0m\u001b[0;34m(\u001b[0m\u001b[0mself\u001b[0m\u001b[0;34m,\u001b[0m \u001b[0maction\u001b[0m\u001b[0;34m)\u001b[0m\u001b[0;34m:\u001b[0m\u001b[0;34m\u001b[0m\u001b[0;34m\u001b[0m\u001b[0m\n\u001b[1;32m   1748\u001b[0m         \u001b[0;32mif\u001b[0m \u001b[0maction\u001b[0m\u001b[0;34m.\u001b[0m\u001b[0moption_strings\u001b[0m\u001b[0;34m:\u001b[0m\u001b[0;34m\u001b[0m\u001b[0;34m\u001b[0m\u001b[0m\n\u001b[0;32m-> 1749\u001b[0;31m             \u001b[0mself\u001b[0m\u001b[0;34m.\u001b[0m\u001b[0m_optionals\u001b[0m\u001b[0;34m.\u001b[0m\u001b[0m_add_action\u001b[0m\u001b[0;34m(\u001b[0m\u001b[0maction\u001b[0m\u001b[0;34m)\u001b[0m\u001b[0;34m\u001b[0m\u001b[0;34m\u001b[0m\u001b[0m\n\u001b[0m\u001b[1;32m   1750\u001b[0m         \u001b[0;32melse\u001b[0m\u001b[0;34m:\u001b[0m\u001b[0;34m\u001b[0m\u001b[0;34m\u001b[0m\u001b[0m\n\u001b[1;32m   1751\u001b[0m             \u001b[0mself\u001b[0m\u001b[0;34m.\u001b[0m\u001b[0m_positionals\u001b[0m\u001b[0;34m.\u001b[0m\u001b[0m_add_action\u001b[0m\u001b[0;34m(\u001b[0m\u001b[0maction\u001b[0m\u001b[0;34m)\u001b[0m\u001b[0;34m\u001b[0m\u001b[0;34m\u001b[0m\u001b[0m\n",
      "\u001b[0;32m/usr/local/Cellar/python@3.8/3.8.10/Frameworks/Python.framework/Versions/3.8/lib/python3.8/argparse.py\u001b[0m in \u001b[0;36m_add_action\u001b[0;34m(self, action)\u001b[0m\n\u001b[1;32m   1588\u001b[0m \u001b[0;34m\u001b[0m\u001b[0m\n\u001b[1;32m   1589\u001b[0m     \u001b[0;32mdef\u001b[0m \u001b[0m_add_action\u001b[0m\u001b[0;34m(\u001b[0m\u001b[0mself\u001b[0m\u001b[0;34m,\u001b[0m \u001b[0maction\u001b[0m\u001b[0;34m)\u001b[0m\u001b[0;34m:\u001b[0m\u001b[0;34m\u001b[0m\u001b[0;34m\u001b[0m\u001b[0m\n\u001b[0;32m-> 1590\u001b[0;31m         \u001b[0maction\u001b[0m \u001b[0;34m=\u001b[0m \u001b[0msuper\u001b[0m\u001b[0;34m(\u001b[0m\u001b[0m_ArgumentGroup\u001b[0m\u001b[0;34m,\u001b[0m \u001b[0mself\u001b[0m\u001b[0;34m)\u001b[0m\u001b[0;34m.\u001b[0m\u001b[0m_add_action\u001b[0m\u001b[0;34m(\u001b[0m\u001b[0maction\u001b[0m\u001b[0;34m)\u001b[0m\u001b[0;34m\u001b[0m\u001b[0;34m\u001b[0m\u001b[0m\n\u001b[0m\u001b[1;32m   1591\u001b[0m         \u001b[0mself\u001b[0m\u001b[0;34m.\u001b[0m\u001b[0m_group_actions\u001b[0m\u001b[0;34m.\u001b[0m\u001b[0mappend\u001b[0m\u001b[0;34m(\u001b[0m\u001b[0maction\u001b[0m\u001b[0;34m)\u001b[0m\u001b[0;34m\u001b[0m\u001b[0;34m\u001b[0m\u001b[0m\n\u001b[1;32m   1592\u001b[0m         \u001b[0;32mreturn\u001b[0m \u001b[0maction\u001b[0m\u001b[0;34m\u001b[0m\u001b[0;34m\u001b[0m\u001b[0m\n",
      "\u001b[0;32m/usr/local/Cellar/python@3.8/3.8.10/Frameworks/Python.framework/Versions/3.8/lib/python3.8/argparse.py\u001b[0m in \u001b[0;36m_add_action\u001b[0;34m(self, action)\u001b[0m\n\u001b[1;32m   1398\u001b[0m     \u001b[0;32mdef\u001b[0m \u001b[0m_add_action\u001b[0m\u001b[0;34m(\u001b[0m\u001b[0mself\u001b[0m\u001b[0;34m,\u001b[0m \u001b[0maction\u001b[0m\u001b[0;34m)\u001b[0m\u001b[0;34m:\u001b[0m\u001b[0;34m\u001b[0m\u001b[0;34m\u001b[0m\u001b[0m\n\u001b[1;32m   1399\u001b[0m         \u001b[0;31m# resolve any conflicts\u001b[0m\u001b[0;34m\u001b[0m\u001b[0;34m\u001b[0m\u001b[0;34m\u001b[0m\u001b[0m\n\u001b[0;32m-> 1400\u001b[0;31m         \u001b[0mself\u001b[0m\u001b[0;34m.\u001b[0m\u001b[0m_check_conflict\u001b[0m\u001b[0;34m(\u001b[0m\u001b[0maction\u001b[0m\u001b[0;34m)\u001b[0m\u001b[0;34m\u001b[0m\u001b[0;34m\u001b[0m\u001b[0m\n\u001b[0m\u001b[1;32m   1401\u001b[0m \u001b[0;34m\u001b[0m\u001b[0m\n\u001b[1;32m   1402\u001b[0m         \u001b[0;31m# add to actions list\u001b[0m\u001b[0;34m\u001b[0m\u001b[0;34m\u001b[0m\u001b[0;34m\u001b[0m\u001b[0m\n",
      "\u001b[0;32m/usr/local/Cellar/python@3.8/3.8.10/Frameworks/Python.framework/Versions/3.8/lib/python3.8/argparse.py\u001b[0m in \u001b[0;36m_check_conflict\u001b[0;34m(self, action)\u001b[0m\n\u001b[1;32m   1537\u001b[0m         \u001b[0;32mif\u001b[0m \u001b[0mconfl_optionals\u001b[0m\u001b[0;34m:\u001b[0m\u001b[0;34m\u001b[0m\u001b[0;34m\u001b[0m\u001b[0m\n\u001b[1;32m   1538\u001b[0m             \u001b[0mconflict_handler\u001b[0m \u001b[0;34m=\u001b[0m \u001b[0mself\u001b[0m\u001b[0;34m.\u001b[0m\u001b[0m_get_handler\u001b[0m\u001b[0;34m(\u001b[0m\u001b[0;34m)\u001b[0m\u001b[0;34m\u001b[0m\u001b[0;34m\u001b[0m\u001b[0m\n\u001b[0;32m-> 1539\u001b[0;31m             \u001b[0mconflict_handler\u001b[0m\u001b[0;34m(\u001b[0m\u001b[0maction\u001b[0m\u001b[0;34m,\u001b[0m \u001b[0mconfl_optionals\u001b[0m\u001b[0;34m)\u001b[0m\u001b[0;34m\u001b[0m\u001b[0;34m\u001b[0m\u001b[0m\n\u001b[0m\u001b[1;32m   1540\u001b[0m \u001b[0;34m\u001b[0m\u001b[0m\n\u001b[1;32m   1541\u001b[0m     \u001b[0;32mdef\u001b[0m \u001b[0m_handle_conflict_error\u001b[0m\u001b[0;34m(\u001b[0m\u001b[0mself\u001b[0m\u001b[0;34m,\u001b[0m \u001b[0maction\u001b[0m\u001b[0;34m,\u001b[0m \u001b[0mconflicting_actions\u001b[0m\u001b[0;34m)\u001b[0m\u001b[0;34m:\u001b[0m\u001b[0;34m\u001b[0m\u001b[0;34m\u001b[0m\u001b[0m\n",
      "\u001b[0;32m/usr/local/Cellar/python@3.8/3.8.10/Frameworks/Python.framework/Versions/3.8/lib/python3.8/argparse.py\u001b[0m in \u001b[0;36m_handle_conflict_error\u001b[0;34m(self, action, conflicting_actions)\u001b[0m\n\u001b[1;32m   1546\u001b[0m                                      \u001b[0;32mfor\u001b[0m \u001b[0moption_string\u001b[0m\u001b[0;34m,\u001b[0m \u001b[0maction\u001b[0m\u001b[0;34m\u001b[0m\u001b[0;34m\u001b[0m\u001b[0m\n\u001b[1;32m   1547\u001b[0m                                      in conflicting_actions])\n\u001b[0;32m-> 1548\u001b[0;31m         \u001b[0;32mraise\u001b[0m \u001b[0mArgumentError\u001b[0m\u001b[0;34m(\u001b[0m\u001b[0maction\u001b[0m\u001b[0;34m,\u001b[0m \u001b[0mmessage\u001b[0m \u001b[0;34m%\u001b[0m \u001b[0mconflict_string\u001b[0m\u001b[0;34m)\u001b[0m\u001b[0;34m\u001b[0m\u001b[0;34m\u001b[0m\u001b[0m\n\u001b[0m\u001b[1;32m   1549\u001b[0m \u001b[0;34m\u001b[0m\u001b[0m\n\u001b[1;32m   1550\u001b[0m     \u001b[0;32mdef\u001b[0m \u001b[0m_handle_conflict_resolve\u001b[0m\u001b[0;34m(\u001b[0m\u001b[0mself\u001b[0m\u001b[0;34m,\u001b[0m \u001b[0maction\u001b[0m\u001b[0;34m,\u001b[0m \u001b[0mconflicting_actions\u001b[0m\u001b[0;34m)\u001b[0m\u001b[0;34m:\u001b[0m\u001b[0;34m\u001b[0m\u001b[0;34m\u001b[0m\u001b[0m\n",
      "\u001b[0;31mArgumentError\u001b[0m: argument --1111: conflicting option string: --1111"
     ]
    }
   ],
   "source": [
    "parser = argparse.ArgumentParser(); \n",
    "parser.add_argument('--1111', help='''Does this dendrite pass gradients by default.''')\n",
    "parser.add_argument('--1111', help='''Does this dendrite pass gradients by default.''')\n"
   ]
  },
  {
   "cell_type": "code",
   "execution_count": 174,
   "id": "072a8861-bb66-4872-8944-5ea0b262e49c",
   "metadata": {},
   "outputs": [
    {
     "ename": "ArgumentError",
     "evalue": "argument --foo: conflicting option string: --foo",
     "output_type": "error",
     "traceback": [
      "\u001b[0;31m---------------------------------------------------------------------------\u001b[0m",
      "\u001b[0;31mArgumentError\u001b[0m                             Traceback (most recent call last)",
      "\u001b[0;32m<ipython-input-174-5f6b6dc2ed5f>\u001b[0m in \u001b[0;36m<module>\u001b[0;34m\u001b[0m\n\u001b[1;32m      1\u001b[0m \u001b[0mparser\u001b[0m \u001b[0;34m=\u001b[0m \u001b[0margparse\u001b[0m\u001b[0;34m.\u001b[0m\u001b[0mArgumentParser\u001b[0m\u001b[0;34m(\u001b[0m\u001b[0mprog\u001b[0m\u001b[0;34m=\u001b[0m\u001b[0;34m'PROG'\u001b[0m\u001b[0;34m)\u001b[0m\u001b[0;34m\u001b[0m\u001b[0;34m\u001b[0m\u001b[0m\n\u001b[1;32m      2\u001b[0m \u001b[0mparser\u001b[0m\u001b[0;34m.\u001b[0m\u001b[0madd_argument\u001b[0m\u001b[0;34m(\u001b[0m\u001b[0;34m'--foo'\u001b[0m\u001b[0;34m,\u001b[0m \u001b[0mhelp\u001b[0m\u001b[0;34m=\u001b[0m\u001b[0;34m'old foo help'\u001b[0m\u001b[0;34m)\u001b[0m\u001b[0;34m\u001b[0m\u001b[0;34m\u001b[0m\u001b[0m\n\u001b[0;32m----> 3\u001b[0;31m \u001b[0mparser\u001b[0m\u001b[0;34m.\u001b[0m\u001b[0madd_argument\u001b[0m\u001b[0;34m(\u001b[0m\u001b[0;34m'--foo'\u001b[0m\u001b[0;34m,\u001b[0m \u001b[0mhelp\u001b[0m\u001b[0;34m=\u001b[0m\u001b[0;34m'new foo help'\u001b[0m\u001b[0;34m)\u001b[0m\u001b[0;34m\u001b[0m\u001b[0;34m\u001b[0m\u001b[0m\n\u001b[0m",
      "\u001b[0;32m/usr/local/Cellar/python@3.8/3.8.10/Frameworks/Python.framework/Versions/3.8/lib/python3.8/argparse.py\u001b[0m in \u001b[0;36madd_argument\u001b[0;34m(self, *args, **kwargs)\u001b[0m\n\u001b[1;32m   1384\u001b[0m                 \u001b[0;32mraise\u001b[0m \u001b[0mValueError\u001b[0m\u001b[0;34m(\u001b[0m\u001b[0;34m\"length of metavar tuple does not match nargs\"\u001b[0m\u001b[0;34m)\u001b[0m\u001b[0;34m\u001b[0m\u001b[0;34m\u001b[0m\u001b[0m\n\u001b[1;32m   1385\u001b[0m \u001b[0;34m\u001b[0m\u001b[0m\n\u001b[0;32m-> 1386\u001b[0;31m         \u001b[0;32mreturn\u001b[0m \u001b[0mself\u001b[0m\u001b[0;34m.\u001b[0m\u001b[0m_add_action\u001b[0m\u001b[0;34m(\u001b[0m\u001b[0maction\u001b[0m\u001b[0;34m)\u001b[0m\u001b[0;34m\u001b[0m\u001b[0;34m\u001b[0m\u001b[0m\n\u001b[0m\u001b[1;32m   1387\u001b[0m \u001b[0;34m\u001b[0m\u001b[0m\n\u001b[1;32m   1388\u001b[0m     \u001b[0;32mdef\u001b[0m \u001b[0madd_argument_group\u001b[0m\u001b[0;34m(\u001b[0m\u001b[0mself\u001b[0m\u001b[0;34m,\u001b[0m \u001b[0;34m*\u001b[0m\u001b[0margs\u001b[0m\u001b[0;34m,\u001b[0m \u001b[0;34m**\u001b[0m\u001b[0mkwargs\u001b[0m\u001b[0;34m)\u001b[0m\u001b[0;34m:\u001b[0m\u001b[0;34m\u001b[0m\u001b[0;34m\u001b[0m\u001b[0m\n",
      "\u001b[0;32m/usr/local/Cellar/python@3.8/3.8.10/Frameworks/Python.framework/Versions/3.8/lib/python3.8/argparse.py\u001b[0m in \u001b[0;36m_add_action\u001b[0;34m(self, action)\u001b[0m\n\u001b[1;32m   1747\u001b[0m     \u001b[0;32mdef\u001b[0m \u001b[0m_add_action\u001b[0m\u001b[0;34m(\u001b[0m\u001b[0mself\u001b[0m\u001b[0;34m,\u001b[0m \u001b[0maction\u001b[0m\u001b[0;34m)\u001b[0m\u001b[0;34m:\u001b[0m\u001b[0;34m\u001b[0m\u001b[0;34m\u001b[0m\u001b[0m\n\u001b[1;32m   1748\u001b[0m         \u001b[0;32mif\u001b[0m \u001b[0maction\u001b[0m\u001b[0;34m.\u001b[0m\u001b[0moption_strings\u001b[0m\u001b[0;34m:\u001b[0m\u001b[0;34m\u001b[0m\u001b[0;34m\u001b[0m\u001b[0m\n\u001b[0;32m-> 1749\u001b[0;31m             \u001b[0mself\u001b[0m\u001b[0;34m.\u001b[0m\u001b[0m_optionals\u001b[0m\u001b[0;34m.\u001b[0m\u001b[0m_add_action\u001b[0m\u001b[0;34m(\u001b[0m\u001b[0maction\u001b[0m\u001b[0;34m)\u001b[0m\u001b[0;34m\u001b[0m\u001b[0;34m\u001b[0m\u001b[0m\n\u001b[0m\u001b[1;32m   1750\u001b[0m         \u001b[0;32melse\u001b[0m\u001b[0;34m:\u001b[0m\u001b[0;34m\u001b[0m\u001b[0;34m\u001b[0m\u001b[0m\n\u001b[1;32m   1751\u001b[0m             \u001b[0mself\u001b[0m\u001b[0;34m.\u001b[0m\u001b[0m_positionals\u001b[0m\u001b[0;34m.\u001b[0m\u001b[0m_add_action\u001b[0m\u001b[0;34m(\u001b[0m\u001b[0maction\u001b[0m\u001b[0;34m)\u001b[0m\u001b[0;34m\u001b[0m\u001b[0;34m\u001b[0m\u001b[0m\n",
      "\u001b[0;32m/usr/local/Cellar/python@3.8/3.8.10/Frameworks/Python.framework/Versions/3.8/lib/python3.8/argparse.py\u001b[0m in \u001b[0;36m_add_action\u001b[0;34m(self, action)\u001b[0m\n\u001b[1;32m   1588\u001b[0m \u001b[0;34m\u001b[0m\u001b[0m\n\u001b[1;32m   1589\u001b[0m     \u001b[0;32mdef\u001b[0m \u001b[0m_add_action\u001b[0m\u001b[0;34m(\u001b[0m\u001b[0mself\u001b[0m\u001b[0;34m,\u001b[0m \u001b[0maction\u001b[0m\u001b[0;34m)\u001b[0m\u001b[0;34m:\u001b[0m\u001b[0;34m\u001b[0m\u001b[0;34m\u001b[0m\u001b[0m\n\u001b[0;32m-> 1590\u001b[0;31m         \u001b[0maction\u001b[0m \u001b[0;34m=\u001b[0m \u001b[0msuper\u001b[0m\u001b[0;34m(\u001b[0m\u001b[0m_ArgumentGroup\u001b[0m\u001b[0;34m,\u001b[0m \u001b[0mself\u001b[0m\u001b[0;34m)\u001b[0m\u001b[0;34m.\u001b[0m\u001b[0m_add_action\u001b[0m\u001b[0;34m(\u001b[0m\u001b[0maction\u001b[0m\u001b[0;34m)\u001b[0m\u001b[0;34m\u001b[0m\u001b[0;34m\u001b[0m\u001b[0m\n\u001b[0m\u001b[1;32m   1591\u001b[0m         \u001b[0mself\u001b[0m\u001b[0;34m.\u001b[0m\u001b[0m_group_actions\u001b[0m\u001b[0;34m.\u001b[0m\u001b[0mappend\u001b[0m\u001b[0;34m(\u001b[0m\u001b[0maction\u001b[0m\u001b[0;34m)\u001b[0m\u001b[0;34m\u001b[0m\u001b[0;34m\u001b[0m\u001b[0m\n\u001b[1;32m   1592\u001b[0m         \u001b[0;32mreturn\u001b[0m \u001b[0maction\u001b[0m\u001b[0;34m\u001b[0m\u001b[0;34m\u001b[0m\u001b[0m\n",
      "\u001b[0;32m/usr/local/Cellar/python@3.8/3.8.10/Frameworks/Python.framework/Versions/3.8/lib/python3.8/argparse.py\u001b[0m in \u001b[0;36m_add_action\u001b[0;34m(self, action)\u001b[0m\n\u001b[1;32m   1398\u001b[0m     \u001b[0;32mdef\u001b[0m \u001b[0m_add_action\u001b[0m\u001b[0;34m(\u001b[0m\u001b[0mself\u001b[0m\u001b[0;34m,\u001b[0m \u001b[0maction\u001b[0m\u001b[0;34m)\u001b[0m\u001b[0;34m:\u001b[0m\u001b[0;34m\u001b[0m\u001b[0;34m\u001b[0m\u001b[0m\n\u001b[1;32m   1399\u001b[0m         \u001b[0;31m# resolve any conflicts\u001b[0m\u001b[0;34m\u001b[0m\u001b[0;34m\u001b[0m\u001b[0;34m\u001b[0m\u001b[0m\n\u001b[0;32m-> 1400\u001b[0;31m         \u001b[0mself\u001b[0m\u001b[0;34m.\u001b[0m\u001b[0m_check_conflict\u001b[0m\u001b[0;34m(\u001b[0m\u001b[0maction\u001b[0m\u001b[0;34m)\u001b[0m\u001b[0;34m\u001b[0m\u001b[0;34m\u001b[0m\u001b[0m\n\u001b[0m\u001b[1;32m   1401\u001b[0m \u001b[0;34m\u001b[0m\u001b[0m\n\u001b[1;32m   1402\u001b[0m         \u001b[0;31m# add to actions list\u001b[0m\u001b[0;34m\u001b[0m\u001b[0;34m\u001b[0m\u001b[0;34m\u001b[0m\u001b[0m\n",
      "\u001b[0;32m/usr/local/Cellar/python@3.8/3.8.10/Frameworks/Python.framework/Versions/3.8/lib/python3.8/argparse.py\u001b[0m in \u001b[0;36m_check_conflict\u001b[0;34m(self, action)\u001b[0m\n\u001b[1;32m   1537\u001b[0m         \u001b[0;32mif\u001b[0m \u001b[0mconfl_optionals\u001b[0m\u001b[0;34m:\u001b[0m\u001b[0;34m\u001b[0m\u001b[0;34m\u001b[0m\u001b[0m\n\u001b[1;32m   1538\u001b[0m             \u001b[0mconflict_handler\u001b[0m \u001b[0;34m=\u001b[0m \u001b[0mself\u001b[0m\u001b[0;34m.\u001b[0m\u001b[0m_get_handler\u001b[0m\u001b[0;34m(\u001b[0m\u001b[0;34m)\u001b[0m\u001b[0;34m\u001b[0m\u001b[0;34m\u001b[0m\u001b[0m\n\u001b[0;32m-> 1539\u001b[0;31m             \u001b[0mconflict_handler\u001b[0m\u001b[0;34m(\u001b[0m\u001b[0maction\u001b[0m\u001b[0;34m,\u001b[0m \u001b[0mconfl_optionals\u001b[0m\u001b[0;34m)\u001b[0m\u001b[0;34m\u001b[0m\u001b[0;34m\u001b[0m\u001b[0m\n\u001b[0m\u001b[1;32m   1540\u001b[0m \u001b[0;34m\u001b[0m\u001b[0m\n\u001b[1;32m   1541\u001b[0m     \u001b[0;32mdef\u001b[0m \u001b[0m_handle_conflict_error\u001b[0m\u001b[0;34m(\u001b[0m\u001b[0mself\u001b[0m\u001b[0;34m,\u001b[0m \u001b[0maction\u001b[0m\u001b[0;34m,\u001b[0m \u001b[0mconflicting_actions\u001b[0m\u001b[0;34m)\u001b[0m\u001b[0;34m:\u001b[0m\u001b[0;34m\u001b[0m\u001b[0;34m\u001b[0m\u001b[0m\n",
      "\u001b[0;32m/usr/local/Cellar/python@3.8/3.8.10/Frameworks/Python.framework/Versions/3.8/lib/python3.8/argparse.py\u001b[0m in \u001b[0;36m_handle_conflict_error\u001b[0;34m(self, action, conflicting_actions)\u001b[0m\n\u001b[1;32m   1546\u001b[0m                                      \u001b[0;32mfor\u001b[0m \u001b[0moption_string\u001b[0m\u001b[0;34m,\u001b[0m \u001b[0maction\u001b[0m\u001b[0;34m\u001b[0m\u001b[0;34m\u001b[0m\u001b[0m\n\u001b[1;32m   1547\u001b[0m                                      in conflicting_actions])\n\u001b[0;32m-> 1548\u001b[0;31m         \u001b[0;32mraise\u001b[0m \u001b[0mArgumentError\u001b[0m\u001b[0;34m(\u001b[0m\u001b[0maction\u001b[0m\u001b[0;34m,\u001b[0m \u001b[0mmessage\u001b[0m \u001b[0;34m%\u001b[0m \u001b[0mconflict_string\u001b[0m\u001b[0;34m)\u001b[0m\u001b[0;34m\u001b[0m\u001b[0;34m\u001b[0m\u001b[0m\n\u001b[0m\u001b[1;32m   1549\u001b[0m \u001b[0;34m\u001b[0m\u001b[0m\n\u001b[1;32m   1550\u001b[0m     \u001b[0;32mdef\u001b[0m \u001b[0m_handle_conflict_resolve\u001b[0m\u001b[0;34m(\u001b[0m\u001b[0mself\u001b[0m\u001b[0;34m,\u001b[0m \u001b[0maction\u001b[0m\u001b[0;34m,\u001b[0m \u001b[0mconflicting_actions\u001b[0m\u001b[0;34m)\u001b[0m\u001b[0;34m:\u001b[0m\u001b[0;34m\u001b[0m\u001b[0;34m\u001b[0m\u001b[0m\n",
      "\u001b[0;31mArgumentError\u001b[0m: argument --foo: conflicting option string: --foo"
     ]
    }
   ],
   "source": [
    "parser = argparse.ArgumentParser(prog='PROG')\n",
    "parser.add_argument('--foo', help='old foo help')\n",
    "parser.add_argument('--foo', help='new foo help')"
   ]
  },
  {
   "cell_type": "code",
   "execution_count": 170,
   "id": "2bf6a7e1-3530-49dd-b5e5-748e201d10af",
   "metadata": {},
   "outputs": [
    {
     "data": {
      "text/plain": [
       "{'description': None,\n",
       " 'argument_default': None,\n",
       " 'prefix_chars': '-',\n",
       " 'conflict_handler': 'error',\n",
       " '_registries': {'action': {None: argparse._StoreAction,\n",
       "   'store': argparse._StoreAction,\n",
       "   'store_const': argparse._StoreConstAction,\n",
       "   'store_true': argparse._StoreTrueAction,\n",
       "   'store_false': argparse._StoreFalseAction,\n",
       "   'append': argparse._AppendAction,\n",
       "   'append_const': argparse._AppendConstAction,\n",
       "   'count': argparse._CountAction,\n",
       "   'help': argparse._HelpAction,\n",
       "   'version': argparse._VersionAction,\n",
       "   'parsers': argparse._SubParsersAction,\n",
       "   'extend': argparse._ExtendAction},\n",
       "  'type': {None: <function argparse.ArgumentParser.__init__.<locals>.identity(string)>}},\n",
       " '_actions': [_HelpAction(option_strings=['-h', '--help'], dest='help', nargs=0, const=None, default='==SUPPRESS==', type=None, choices=None, help='show this help message and exit', metavar=None),\n",
       "  _StoreAction(option_strings=[], dest='1111', nargs=None, const=None, default=True, type=<class 'bool'>, choices=None, help='Does this dendrite pass gradients by default.', metavar=None)],\n",
       " '_option_string_actions': {'-h': _HelpAction(option_strings=['-h', '--help'], dest='help', nargs=0, const=None, default='==SUPPRESS==', type=None, choices=None, help='show this help message and exit', metavar=None),\n",
       "  '--help': _HelpAction(option_strings=['-h', '--help'], dest='help', nargs=0, const=None, default='==SUPPRESS==', type=None, choices=None, help='show this help message and exit', metavar=None)},\n",
       " '_action_groups': [<argparse._ArgumentGroup at 0x139c7ba60>,\n",
       "  <argparse._ArgumentGroup at 0x139c7b940>],\n",
       " '_mutually_exclusive_groups': [],\n",
       " '_defaults': {},\n",
       " '_negative_number_matcher': re.compile(r'^-\\d+$|^-\\d*\\.\\d+$', re.UNICODE),\n",
       " '_has_negative_number_optionals': [],\n",
       " 'prog': 'ipykernel_launcher.py',\n",
       " 'usage': None,\n",
       " 'epilog': None,\n",
       " 'formatter_class': argparse.HelpFormatter,\n",
       " 'fromfile_prefix_chars': None,\n",
       " 'add_help': True,\n",
       " 'allow_abbrev': True,\n",
       " '_positionals': <argparse._ArgumentGroup at 0x139c7ba60>,\n",
       " '_optionals': <argparse._ArgumentGroup at 0x139c7b940>,\n",
       " '_subparsers': None}"
      ]
     },
     "execution_count": 170,
     "metadata": {},
     "output_type": "execute_result"
    }
   ],
   "source": [
    "parser.__dict__"
   ]
  },
  {
   "cell_type": "code",
   "execution_count": 159,
   "id": "a2626f56-5576-4ef4-8b96-22f089304ff3",
   "metadata": {},
   "outputs": [
    {
     "name": "stderr",
     "output_type": "stream",
     "text": [
      "usage: ipykernel_launcher.py [-h] 1111 1111\n",
      "ipykernel_launcher.py: error: the following arguments are required: 1111\n"
     ]
    },
    {
     "ename": "SystemExit",
     "evalue": "2",
     "output_type": "error",
     "traceback": [
      "An exception has occurred, use %tb to see the full traceback.\n",
      "\u001b[0;31mSystemExit\u001b[0m\u001b[0;31m:\u001b[0m 2\n"
     ]
    }
   ],
   "source": [
    "parser.parse_known_args()"
   ]
  },
  {
   "cell_type": "code",
   "execution_count": 95,
   "id": "bbea59fd-f7ec-456f-8179-3ca8cc942314",
   "metadata": {},
   "outputs": [
    {
     "name": "stdout",
     "output_type": "stream",
     "text": [
      "\n",
      "hotkey: default\n",
      "name: kusanagi_adam\n",
      "path: ~/.bittensor/wallets/\n",
      "\n"
     ]
    }
   ],
   "source": [
    "wallet = bittensor.wallet(name = 'kusanagi_adam')\n",
    "print (wallet.config)"
   ]
  },
  {
   "cell_type": "code",
   "execution_count": 16,
   "id": "439ed1f1-4fa0-4e15-9c64-30458f1b6900",
   "metadata": {},
   "outputs": [
    {
     "name": "stdout",
     "output_type": "stream",
     "text": [
      "\n",
      "local_ip: 127.0.0.1\n",
      "local_port: 8091\n",
      "max_workers: 10\n",
      "maximum_concurrent_rpcs: 400\n",
      "wallet:\n",
      "  hotkey: cat\n",
      "  name: default\n",
      "  path: ~/.bittensor/wallets/\n",
      "\n"
     ]
    }
   ],
   "source": [
    "meta = bittensor.axon( wallet = wallet )\n",
    "print (meta.config)"
   ]
  },
  {
   "cell_type": "code",
   "execution_count": 71,
   "id": "980792ca-124c-400b-a589-7d8266e6985e",
   "metadata": {},
   "outputs": [
    {
     "name": "stdout",
     "output_type": "stream",
     "text": [
      "\n",
      "axon:\n",
      "  local_ip: 127.0.0.1\n",
      "  local_port: 8091\n",
      "  max_workers: 10\n",
      "  maximum_concurrent_rpcs: 400\n",
      "  wallet:\n",
      "    hotkey: default\n",
      "    name: default\n",
      "    path: ~/.bittensor/wallets/\n",
      "\n"
     ]
    }
   ],
   "source": []
  },
  {
   "cell_type": "code",
   "execution_count": 62,
   "id": "f5e854d9-50c6-44eb-858a-f0b9e872a915",
   "metadata": {},
   "outputs": [
    {
     "name": "stdout",
     "output_type": "stream",
     "text": [
      "\n",
      "hotkey: default\n",
      "name: default\n",
      "path: ~/.bittensor/wallets/\n",
      "\n"
     ]
    }
   ],
   "source": [
    "print(bittensor.wallet.config())"
   ]
  },
  {
   "cell_type": "code",
   "execution_count": 158,
   "id": "9afb1cb8-0936-4d8a-a15d-1a6fbbde6ed2",
   "metadata": {},
   "outputs": [
    {
     "data": {
      "text/plain": [
       "Config({'dendrite': Config({'receptor_pool': Config({'receptor': Config({'wallet': Config({'name': 'default', 'hotkey': 'default', 'path': '~/.bittensor/wallets/'}), 'timeout': 3, 'do_backoff': True, 'max_backoff': 100}), 'max_worker_threads': 20, 'max_active_tcp_connections': 150}), 'pass_gradients': True})})"
      ]
     },
     "execution_count": 158,
     "metadata": {},
     "output_type": "execute_result"
    }
   ],
   "source": []
  },
  {
   "cell_type": "code",
   "execution_count": 151,
   "id": "c2ffad9c-4097-4377-b18b-17a5010c404d",
   "metadata": {},
   "outputs": [
    {
     "name": "stdout",
     "output_type": "stream",
     "text": [
      "usage: ipykernel_launcher.py [-h] [--dendrite.receptor_pool.receptor.wallet.name DENDRITE.RECEPTOR_POOL.RECEPTOR.WALLET.NAME] [--dendrite.receptor_pool.receptor.wallet.hotkey DENDRITE.RECEPTOR_POOL.RECEPTOR.WALLET.HOTKEY]\n",
      "                             [--dendrite.receptor_pool.receptor.wallet.path DENDRITE.RECEPTOR_POOL.RECEPTOR.WALLET.PATH] [--dendrite.receptor_pool.receptor.timeout DENDRITE.RECEPTOR_POOL.RECEPTOR.TIMEOUT]\n",
      "                             [--dendrite.receptor_pool.receptor.do_backoff DENDRITE.RECEPTOR_POOL.RECEPTOR.DO_BACKOFF] [--dendrite.receptor_pool.receptor.max_backoff DENDRITE.RECEPTOR_POOL.RECEPTOR.MAX_BACKOFF]\n",
      "                             [--dendrite.receptor_pool.max_worker_threads DENDRITE.RECEPTOR_POOL.MAX_WORKER_THREADS] [--dendrite.receptor_pool.max_active_tcp_connections DENDRITE.RECEPTOR_POOL.MAX_ACTIVE_TCP_CONNECTIONS]\n",
      "                             [--dendrite.pass_gradients DENDRITE.PASS_GRADIENTS]\n",
      "\n",
      "optional arguments:\n",
      "  -h, --help            show this help message and exit\n",
      "  --dendrite.receptor_pool.receptor.wallet.name DENDRITE.RECEPTOR_POOL.RECEPTOR.WALLET.NAME\n",
      "                        The name of the wallet to unlock for running bittensor\n",
      "  --dendrite.receptor_pool.receptor.wallet.hotkey DENDRITE.RECEPTOR_POOL.RECEPTOR.WALLET.HOTKEY\n",
      "                        The name of the wallet's hotkey.\n",
      "  --dendrite.receptor_pool.receptor.wallet.path DENDRITE.RECEPTOR_POOL.RECEPTOR.WALLET.PATH\n",
      "                        The path to your bittensor wallets\n",
      "  --dendrite.receptor_pool.receptor.timeout DENDRITE.RECEPTOR_POOL.RECEPTOR.TIMEOUT\n",
      "                        The per request RPC timeout. a.k.a the maximum request time.\n",
      "  --dendrite.receptor_pool.receptor.do_backoff DENDRITE.RECEPTOR_POOL.RECEPTOR.DO_BACKOFF\n",
      "                        Neurons who return non successful return codes are periodically not called with a multiplicative backoff. The backoff doubles until max_backoff and then halves on ever sequential successful request.\n",
      "  --dendrite.receptor_pool.receptor.max_backoff DENDRITE.RECEPTOR_POOL.RECEPTOR.MAX_BACKOFF\n",
      "                        The backoff doubles until this saturation point.\n",
      "  --dendrite.receptor_pool.max_worker_threads DENDRITE.RECEPTOR_POOL.MAX_WORKER_THREADS\n",
      "                        Max number of concurrent threads used for sending RPC requests.\n",
      "  --dendrite.receptor_pool.max_active_tcp_connections DENDRITE.RECEPTOR_POOL.MAX_ACTIVE_TCP_CONNECTIONS\n",
      "                        Max number of concurrently active receptors / tcp-connections\n",
      "  --dendrite.pass_gradients DENDRITE.PASS_GRADIENTS\n",
      "                        Does this dendrite pass gradients by default.\n"
     ]
    }
   ],
   "source": [
    "parser.print_help()"
   ]
  },
  {
   "cell_type": "code",
   "execution_count": 147,
   "id": "31acdbb3-44a7-41a1-a6c9-4a6e6d45d6e4",
   "metadata": {},
   "outputs": [
    {
     "name": "stdout",
     "output_type": "stream",
     "text": [
      "usage: ipykernel_launcher.py [-h] [--dendrite.receptor_pool.receptor.wallet.name DENDRITE.RECEPTOR_POOL.RECEPTOR.WALLET.NAME] [--dendrite.receptor_pool.receptor.wallet.hotkey DENDRITE.RECEPTOR_POOL.RECEPTOR.WALLET.HOTKEY]\n",
      "                             [--dendrite.receptor_pool.receptor.wallet.path DENDRITE.RECEPTOR_POOL.RECEPTOR.WALLET.PATH] [--dendrite.receptor_pool.receptor.timeout DENDRITE.RECEPTOR_POOL.RECEPTOR.TIMEOUT]\n",
      "                             [--dendrite.receptor_pool.receptor.do_backoff DENDRITE.RECEPTOR_POOL.RECEPTOR.DO_BACKOFF] [--dendrite.receptor_pool.receptor.max_backoff DENDRITE.RECEPTOR_POOL.RECEPTOR.MAX_BACKOFF]\n",
      "                             [--dendrite.receptor_pool.max_worker_threads DENDRITE.RECEPTOR_POOL.MAX_WORKER_THREADS] [--dendrite.receptor_pool.max_active_tcp_connections DENDRITE.RECEPTOR_POOL.MAX_ACTIVE_TCP_CONNECTIONS]\n",
      "                             [--dendrite.pass_gradients DENDRITE.PASS_GRADIENTS]\n",
      "\n",
      "optional arguments:\n",
      "  -h, --help            show this help message and exit\n",
      "  --dendrite.receptor_pool.receptor.wallet.name DENDRITE.RECEPTOR_POOL.RECEPTOR.WALLET.NAME\n",
      "                        The name of the wallet to unlock for running bittensor\n",
      "  --dendrite.receptor_pool.receptor.wallet.hotkey DENDRITE.RECEPTOR_POOL.RECEPTOR.WALLET.HOTKEY\n",
      "                        The name of the wallet's hotkey.\n",
      "  --dendrite.receptor_pool.receptor.wallet.path DENDRITE.RECEPTOR_POOL.RECEPTOR.WALLET.PATH\n",
      "                        The path to your bittensor wallets\n",
      "  --dendrite.receptor_pool.receptor.timeout DENDRITE.RECEPTOR_POOL.RECEPTOR.TIMEOUT\n",
      "                        The per request RPC timeout. a.k.a the maximum request time.\n",
      "  --dendrite.receptor_pool.receptor.do_backoff DENDRITE.RECEPTOR_POOL.RECEPTOR.DO_BACKOFF\n",
      "                        Neurons who return non successful return codes are periodically not called with a multiplicative backoff. The backoff doubles until max_backoff and then halves on ever sequential successful request.\n",
      "  --dendrite.receptor_pool.receptor.max_backoff DENDRITE.RECEPTOR_POOL.RECEPTOR.MAX_BACKOFF\n",
      "                        The backoff doubles until this saturation point.\n",
      "  --dendrite.receptor_pool.max_worker_threads DENDRITE.RECEPTOR_POOL.MAX_WORKER_THREADS\n",
      "                        Max number of concurrent threads used for sending RPC requests.\n",
      "  --dendrite.receptor_pool.max_active_tcp_connections DENDRITE.RECEPTOR_POOL.MAX_ACTIVE_TCP_CONNECTIONS\n",
      "                        Max number of concurrently active receptors / tcp-connections\n",
      "  --dendrite.pass_gradients DENDRITE.PASS_GRADIENTS\n",
      "                        Does this dendrite pass gradients by default.\n"
     ]
    }
   ],
   "source": []
  },
  {
   "cell_type": "code",
   "execution_count": 140,
   "id": "aa14becd-9344-4be9-9bc1-1f5239d4b53d",
   "metadata": {},
   "outputs": [],
   "source": [
    "dend = bittensor.dendrite.config()"
   ]
  },
  {
   "cell_type": "code",
   "execution_count": 143,
   "id": "ed9335c1-af40-4b45-99cf-3aaa63ec6905",
   "metadata": {},
   "outputs": [
    {
     "name": "stdout",
     "output_type": "stream",
     "text": [
      "\n",
      "dendrite:\n",
      "  pass_gradients: true\n",
      "  receptor_pool:\n",
      "    receptor:\n",
      "      wallet:\n",
      "        name: default\n",
      "\n"
     ]
    }
   ],
   "source": [
    "print(dend)"
   ]
  },
  {
   "cell_type": "code",
   "execution_count": 137,
   "id": "17bc9101-149c-4a23-b9b1-194ef2042896",
   "metadata": {},
   "outputs": [
    {
     "ename": "AttributeError",
     "evalue": "'NoneType' object has no attribute 'config'",
     "output_type": "error",
     "traceback": [
      "\u001b[0;31m---------------------------------------------------------------------------\u001b[0m",
      "\u001b[0;31mAttributeError\u001b[0m                            Traceback (most recent call last)",
      "\u001b[0;32m<ipython-input-137-c84f0b6e3aaf>\u001b[0m in \u001b[0;36m<module>\u001b[0;34m\u001b[0m\n\u001b[0;32m----> 1\u001b[0;31m \u001b[0mprint\u001b[0m \u001b[0;34m(\u001b[0m\u001b[0mdend\u001b[0m\u001b[0;34m.\u001b[0m\u001b[0mconfig\u001b[0m\u001b[0;34m)\u001b[0m\u001b[0;34m\u001b[0m\u001b[0;34m\u001b[0m\u001b[0m\n\u001b[0m",
      "\u001b[0;31mAttributeError\u001b[0m: 'NoneType' object has no attribute 'config'"
     ]
    }
   ],
   "source": [
    "print (dend.config)"
   ]
  },
  {
   "cell_type": "code",
   "execution_count": 98,
   "id": "764eda73-85da-4afb-ac15-c8e44b14840e",
   "metadata": {},
   "outputs": [],
   "source": [
    "endpoint_A = bittensor.endpoint( \n",
    "    uid = 0, \n",
    "    hotkey = '0', \n",
    "    ip = '0.0.0.0', \n",
    "    ip_type = 4, \n",
    "    port = 8080 , \n",
    "    modality = 0, \n",
    "    coldkey = 'N/A'\n",
    ")"
   ]
  },
  {
   "cell_type": "code",
   "execution_count": 110,
   "id": "6a34cbf2-dcda-4afd-9811-438090336f30",
   "metadata": {},
   "outputs": [
    {
     "name": "stdout",
     "output_type": "stream",
     "text": [
      "\u001b[34m\u001b[1mDEBUG   \u001b[0m|\u001b[36mbittensor._receptor.receptor_impl\u001b[0m:\u001b[36m_call_forward\u001b[0m:\u001b[36m278\u001b[0m - \u001b[34m\u001b[1m\u001b[37mDendrite\u001b[0m\u001b[34m\u001b[1m \u001b[32mForward Request\u001b[0m\u001b[34m\u001b[1m ---> \u001b[37mto\u001b[0m\u001b[34m\u001b[1m:/ipv4/0.0.0.0:8080, \u001b[37minputs\u001b[0m\u001b[34m\u001b[1m:torch.Size([10, 10]), \u001b[37mmode\u001b[0m\u001b[34m\u001b[1m:0\u001b[0m\n",
      "\u001b[34m\u001b[1mDEBUG   \u001b[0m|\u001b[36mbittensor._receptor.receptor_impl\u001b[0m:\u001b[36m_call_forward\u001b[0m:\u001b[36m314\u001b[0m - \u001b[34m\u001b[1m\u001b[37mDendrite\u001b[0m\u001b[34m\u001b[1m \u001b[32mForward Response\u001b[0m\u001b[34m\u001b[1m <--- \u001b[37mcode\u001b[0m\u001b[34m\u001b[1m:\u001b[33mUnavailable\u001b[0m\u001b[34m\u001b[1m, \u001b[37mfrom\u001b[0m\u001b[34m\u001b[1m:/ipv4/0.0.0.0:8080\u001b[0m\n"
     ]
    }
   ],
   "source": [
    "response, code = dend.forward_text( endpoints = [endpoint_A], inputs = [torch.zeros([10,10], dtype=torch.int64)])"
   ]
  },
  {
   "cell_type": "code",
   "execution_count": 112,
   "id": "e9ca13d6-607c-45a3-9e08-d63d460c71eb",
   "metadata": {},
   "outputs": [
    {
     "data": {
      "text/plain": [
       "tensor([3])"
      ]
     },
     "execution_count": 112,
     "metadata": {},
     "output_type": "execute_result"
    }
   ],
   "source": [
    "code"
   ]
  },
  {
   "cell_type": "code",
   "execution_count": 42,
   "id": "1ea47130-c4c3-4a57-8089-1fa2f30ac4a3",
   "metadata": {},
   "outputs": [
    {
     "data": {
      "text/plain": [
       "True"
      ]
     },
     "execution_count": 42,
     "metadata": {},
     "output_type": "execute_result"
    }
   ],
   "source": [
    "isinstance( endpoint_A, bittensor._endpoint.endpoint_impl.Endpoint)"
   ]
  },
  {
   "cell_type": "code",
   "execution_count": 40,
   "id": "2015840d-ec5f-44cf-bb95-b9d546c62914",
   "metadata": {},
   "outputs": [],
   "source": [
    "pool = bittensor.receptor_pool.config()"
   ]
  },
  {
   "cell_type": "code",
   "execution_count": 41,
   "id": "acce1314-a7ae-4eed-b769-a8e83a19a89c",
   "metadata": {},
   "outputs": [
    {
     "data": {
      "text/plain": [
       "Config({'wallet': Config({'name': 'default', 'hotkey': 'default', 'path': '~/.bittensor/wallets/'}), 'receptor': Config({'timeout': 3, 'do_backoff': True, 'max_backoff': 100}), 'receptor_pool': Config({'max_worker_threads': 20, 'max_active_tcp_connections': 150})})"
      ]
     },
     "execution_count": 41,
     "metadata": {},
     "output_type": "execute_result"
    }
   ],
   "source": [
    "pool"
   ]
  },
  {
   "cell_type": "code",
   "execution_count": null,
   "id": "f8dd6392-7fce-46f2-877e-37daf79d5cde",
   "metadata": {},
   "outputs": [],
   "source": []
  }
 ],
 "metadata": {
  "kernelspec": {
   "display_name": "Python 3",
   "language": "python",
   "name": "python3"
  },
  "language_info": {
   "codemirror_mode": {
    "name": "ipython",
    "version": 3
   },
   "file_extension": ".py",
   "mimetype": "text/x-python",
   "name": "python",
   "nbconvert_exporter": "python",
   "pygments_lexer": "ipython3",
   "version": "3.8.10"
  }
 },
 "nbformat": 4,
 "nbformat_minor": 5
}
