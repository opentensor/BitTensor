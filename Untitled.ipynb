{
 "cells": [
  {
   "cell_type": "code",
   "execution_count": 8,
   "id": "407d1c32-60f3-4189-94e3-09901c257608",
   "metadata": {},
   "outputs": [],
   "source": [
    "import torch\n",
    "import bittensor"
   ]
  },
  {
   "cell_type": "code",
   "execution_count": 2,
   "id": "e0ca74db-2e8c-4473-86ce-84041742b670",
   "metadata": {},
   "outputs": [],
   "source": [
    "meta = bittensor.metagraph.Metagraph()\n",
    "meta.load()\n",
    "meta.sync()\n",
    "meta.save()\n"
   ]
  },
  {
   "cell_type": "code",
   "execution_count": 3,
   "id": "982c9b76-1223-427a-adf3-d17ff6311503",
   "metadata": {},
   "outputs": [],
   "source": [
    "meta.load_from_path( '~/.bittensor/kusanagi.pt')"
   ]
  },
  {
   "cell_type": "code",
   "execution_count": 11,
   "id": "80f4e774-b6b7-496d-b49c-426efae51cff",
   "metadata": {},
   "outputs": [
    {
     "data": {
      "text/plain": [
       "tensor(446.6198)"
      ]
     },
     "execution_count": 11,
     "metadata": {},
     "output_type": "execute_result"
    }
   ],
   "source": [
    "torch.mean(meta.S)"
   ]
  },
  {
   "cell_type": "code",
   "execution_count": 14,
   "id": "0798888b-139f-49e7-a529-4b8ae71c7a7c",
   "metadata": {},
   "outputs": [
    {
     "name": "stdout",
     "output_type": "stream",
     "text": [
      "Collecting matplot\n",
      "  Downloading matplot-0.1.9-py2.py3-none-any.whl (5.0 kB)\n",
      "Collecting pyloco>=0.0.134\n",
      "  Downloading pyloco-0.0.139-py2.py3-none-any.whl (60 kB)\n",
      "\u001b[K     |████████████████████████████████| 60 kB 729 kB/s eta 0:00:01\n",
      "\u001b[?25hCollecting matplotlib>=3.1.1\n",
      "  Downloading matplotlib-3.4.1-cp38-cp38-macosx_10_9_x86_64.whl (7.2 MB)\n",
      "\u001b[K     |████████████████████████████████| 7.2 MB 7.6 MB/s eta 0:00:01\n",
      "\u001b[?25hCollecting kiwisolver>=1.0.1\n",
      "  Downloading kiwisolver-1.3.1-cp38-cp38-macosx_10_9_x86_64.whl (61 kB)\n",
      "\u001b[K     |████████████████████████████████| 61 kB 262 kB/s eta 0:00:011\n",
      "\u001b[?25hRequirement already satisfied: pillow>=6.2.0 in /usr/local/lib/python3.8/site-packages (from matplotlib>=3.1.1->matplot) (8.2.0)\n",
      "Collecting cycler>=0.10\n",
      "  Using cached cycler-0.10.0-py2.py3-none-any.whl (6.5 kB)\n",
      "Requirement already satisfied: pyparsing>=2.2.1 in /usr/local/lib/python3.8/site-packages (from matplotlib>=3.1.1->matplot) (2.4.7)\n",
      "Requirement already satisfied: numpy>=1.16 in /usr/local/lib/python3.8/site-packages (from matplotlib>=3.1.1->matplot) (1.20.2)\n",
      "Requirement already satisfied: python-dateutil>=2.7 in /usr/local/lib/python3.8/site-packages (from matplotlib>=3.1.1->matplot) (2.8.1)\n",
      "Requirement already satisfied: six in /Users/const/Library/Python/3.8/lib/python/site-packages (from cycler>=0.10->matplotlib>=3.1.1->matplot) (1.15.0)\n",
      "Collecting ushlex\n",
      "  Downloading ushlex-0.99.1.tar.gz (4.7 kB)\n",
      "Collecting twine\n",
      "  Downloading twine-3.4.1-py3-none-any.whl (34 kB)\n",
      "Requirement already satisfied: websocket-client in /usr/local/lib/python3.8/site-packages (from pyloco>=0.0.134->matplot) (0.59.0)\n",
      "Collecting SimpleWebSocketServer\n",
      "  Downloading SimpleWebsocketServer-0.1.1.tar.gz (8.0 kB)\n",
      "Collecting typing\n",
      "  Downloading typing-3.7.4.3.tar.gz (78 kB)\n",
      "\u001b[K     |████████████████████████████████| 78 kB 10.1 MB/s eta 0:00:01\n",
      "\u001b[?25hCollecting importlib-metadata>=3.6\n",
      "  Using cached importlib_metadata-4.0.1-py3-none-any.whl (16 kB)\n",
      "Collecting keyring>=15.1\n",
      "  Downloading keyring-23.0.1-py3-none-any.whl (33 kB)\n",
      "Requirement already satisfied: requests>=2.20 in /usr/local/lib/python3.8/site-packages (from twine->pyloco>=0.0.134->matplot) (2.25.1)\n",
      "Collecting rfc3986>=1.4.0\n",
      "  Downloading rfc3986-1.5.0-py2.py3-none-any.whl (31 kB)\n",
      "Requirement already satisfied: tqdm>=4.14 in /usr/local/lib/python3.8/site-packages (from twine->pyloco>=0.0.134->matplot) (4.49.0)\n",
      "Collecting readme-renderer>=21.0\n",
      "  Downloading readme_renderer-29.0-py2.py3-none-any.whl (15 kB)\n",
      "Collecting pkginfo>=1.4.2\n",
      "  Downloading pkginfo-1.7.0-py2.py3-none-any.whl (25 kB)\n",
      "Collecting colorama>=0.4.3\n",
      "  Using cached colorama-0.4.4-py2.py3-none-any.whl (16 kB)\n",
      "Collecting requests-toolbelt!=0.9.0,>=0.8.0\n",
      "  Using cached requests_toolbelt-0.9.1-py2.py3-none-any.whl (54 kB)\n",
      "Collecting zipp>=0.5\n",
      "  Using cached zipp-3.4.1-py3-none-any.whl (5.2 kB)\n",
      "Requirement already satisfied: bleach>=2.1.0 in /usr/local/lib/python3.8/site-packages (from readme-renderer>=21.0->twine->pyloco>=0.0.134->matplot) (3.3.0)\n",
      "Requirement already satisfied: Pygments>=2.5.1 in /usr/local/lib/python3.8/site-packages (from readme-renderer>=21.0->twine->pyloco>=0.0.134->matplot) (2.9.0)\n",
      "Collecting docutils>=0.13.1\n",
      "  Downloading docutils-0.17.1-py2.py3-none-any.whl (575 kB)\n",
      "\u001b[K     |████████████████████████████████| 575 kB 7.9 MB/s eta 0:00:01\n",
      "\u001b[?25hRequirement already satisfied: packaging in /usr/local/lib/python3.8/site-packages (from bleach>=2.1.0->readme-renderer>=21.0->twine->pyloco>=0.0.134->matplot) (20.9)\n",
      "Requirement already satisfied: webencodings in /usr/local/lib/python3.8/site-packages (from bleach>=2.1.0->readme-renderer>=21.0->twine->pyloco>=0.0.134->matplot) (0.5.1)\n",
      "Requirement already satisfied: chardet<5,>=3.0.2 in /usr/local/lib/python3.8/site-packages (from requests>=2.20->twine->pyloco>=0.0.134->matplot) (4.0.0)\n",
      "Requirement already satisfied: urllib3<1.27,>=1.21.1 in /usr/local/lib/python3.8/site-packages (from requests>=2.20->twine->pyloco>=0.0.134->matplot) (1.26.4)\n",
      "Requirement already satisfied: idna<3,>=2.5 in /usr/local/lib/python3.8/site-packages (from requests>=2.20->twine->pyloco>=0.0.134->matplot) (2.10)\n",
      "Requirement already satisfied: certifi>=2017.4.17 in /usr/local/lib/python3.8/site-packages (from requests>=2.20->twine->pyloco>=0.0.134->matplot) (2020.12.5)\n",
      "Building wheels for collected packages: SimpleWebSocketServer, typing, ushlex\n",
      "  Building wheel for SimpleWebSocketServer (setup.py) ... \u001b[?25ldone\n",
      "\u001b[?25h  Created wheel for SimpleWebSocketServer: filename=SimpleWebSocketServer-0.1.1-py3-none-any.whl size=9492 sha256=d0aa229207deeb0232271a40b8867c171f63e142ea1fe0c08ceb4dc7e5f9a8c5\n",
      "  Stored in directory: /Users/const/Library/Caches/pip/wheels/02/28/f3/c9739708d8bf7bbbf1e1f5328113363458c229cfe2e23e5f72\n",
      "  Building wheel for typing (setup.py) ... \u001b[?25ldone\n",
      "\u001b[?25h  Created wheel for typing: filename=typing-3.7.4.3-py3-none-any.whl size=26308 sha256=6c1103b1f3dede653052edcc2d5cd80be0f463e99f8295217486c8806043021a\n",
      "  Stored in directory: /Users/const/Library/Caches/pip/wheels/5e/5d/01/3083e091b57809dad979ea543def62d9d878950e3e74f0c930\n",
      "  Building wheel for ushlex (setup.py) ... \u001b[?25ldone\n",
      "\u001b[?25h  Created wheel for ushlex: filename=ushlex-0.99.1-py3-none-any.whl size=4415 sha256=10e3aa8b6963b81134bc10db91530df78a42404c7f32b10fab2e1c94514dd3c5\n",
      "  Stored in directory: /Users/const/Library/Caches/pip/wheels/d1/fd/c1/1a3ae6a14d03618418c757b09c0b55dcb07bb3409a6780a127\n",
      "Successfully built SimpleWebSocketServer typing ushlex\n",
      "Installing collected packages: zipp, importlib-metadata, docutils, rfc3986, requests-toolbelt, readme-renderer, pkginfo, keyring, colorama, ushlex, typing, twine, SimpleWebSocketServer, kiwisolver, cycler, pyloco, matplotlib, matplot\n",
      "Successfully installed SimpleWebSocketServer-0.1.1 colorama-0.4.4 cycler-0.10.0 docutils-0.17.1 importlib-metadata-4.0.1 keyring-23.0.1 kiwisolver-1.3.1 matplot-0.1.9 matplotlib-3.4.1 pkginfo-1.7.0 pyloco-0.0.139 readme-renderer-29.0 requests-toolbelt-0.9.1 rfc3986-1.5.0 twine-3.4.1 typing-3.7.4.3 ushlex-0.99.1 zipp-3.4.1\n"
     ]
    }
   ],
   "source": [
    "! pip3 install matplot\n",
    "import matplotlib.pyplot as plt"
   ]
  },
  {
   "cell_type": "code",
   "execution_count": 17,
   "id": "b1d181e4-55d8-4626-a7db-dd3b2e6a6c15",
   "metadata": {},
   "outputs": [
    {
     "data": {
      "text/plain": [
       "(array([519.,  67.,  34.,  34.,  23.,  16.,  18.,   9.,  18.,  13.,   7.,\n",
       "          6.,   7.,   0.,   3.,   3.,   2.,   2.,   1.,   2.,   2.,   2.,\n",
       "          1.,   0.,   1.,   0.,   1.,   0.,   0.,   2.,   1.,   2.,   1.,\n",
       "          2.,   1.,   0.,   3.,   1.,   1.,   3.,   1.,   3.,   0.,   0.,\n",
       "          1.,   1.,   0.,   0.,   0.,   1.]),\n",
       " array([6.83399513e-02, 1.43242090e+02, 2.86415841e+02, 4.29589591e+02,\n",
       "        5.72763342e+02, 7.15937092e+02, 8.59110842e+02, 1.00228459e+03,\n",
       "        1.14545834e+03, 1.28863209e+03, 1.43180584e+03, 1.57497959e+03,\n",
       "        1.71815334e+03, 1.86132710e+03, 2.00450085e+03, 2.14767460e+03,\n",
       "        2.29084835e+03, 2.43402210e+03, 2.57719585e+03, 2.72036960e+03,\n",
       "        2.86354335e+03, 3.00671710e+03, 3.14989085e+03, 3.29306460e+03,\n",
       "        3.43623835e+03, 3.57941210e+03, 3.72258585e+03, 3.86575960e+03,\n",
       "        4.00893335e+03, 4.15210710e+03, 4.29528085e+03, 4.43845460e+03,\n",
       "        4.58162835e+03, 4.72480210e+03, 4.86797585e+03, 5.01114960e+03,\n",
       "        5.15432335e+03, 5.29749710e+03, 5.44067085e+03, 5.58384461e+03,\n",
       "        5.72701836e+03, 5.87019211e+03, 6.01336586e+03, 6.15653961e+03,\n",
       "        6.29971336e+03, 6.44288711e+03, 6.58606086e+03, 6.72923461e+03,\n",
       "        6.87240836e+03, 7.01558211e+03, 7.15875586e+03]),\n",
       " <BarContainer object of 50 artists>)"
      ]
     },
     "execution_count": 17,
     "metadata": {},
     "output_type": "execute_result"
    },
    {
     "data": {
      "image/png": "[encoded data removed]",
      "text/plain": [
       "<Figure size 432x288 with 1 Axes>"
      ]
     },
     "metadata": {
      "needs_background": "light"
     },
     "output_type": "display_data"
    }
   ],
   "source": [
    "plt.hist( meta.S.tolist(),50)"
   ]
  },
  {
   "cell_type": "code",
   "execution_count": 20,
   "id": "2fd580d4-3802-4b1b-ab9a-3dde6b464653",
   "metadata": {},
   "outputs": [
    {
     "data": {
      "text/plain": [
       "(array([591.,  74.,  44.,  25.,  20.,  14.,  11.,   6.,   8.,   1.,   2.,\n",
       "          2.,   4.,   1.,   2.,   1.,   0.,   4.,   1.,   2.,   0.,   0.,\n",
       "          1.,   0.,   1.]),\n",
       " array([3.56193624e-07, 4.70806660e-04, 9.41257126e-04, 1.41170759e-03,\n",
       "        1.88215806e-03, 2.35260852e-03, 2.82305899e-03, 3.29350946e-03,\n",
       "        3.76395992e-03, 4.23441039e-03, 4.70486085e-03, 5.17531132e-03,\n",
       "        5.64576179e-03, 6.11621225e-03, 6.58666272e-03, 7.05711319e-03,\n",
       "        7.52756365e-03, 7.99801412e-03, 8.46846458e-03, 8.93891505e-03,\n",
       "        9.40936552e-03, 9.87981598e-03, 1.03502664e-02, 1.08207169e-02,\n",
       "        1.12911674e-02, 1.17616178e-02]),\n",
       " <BarContainer object of 25 artists>)"
      ]
     },
     "execution_count": 20,
     "metadata": {},
     "output_type": "execute_result"
    },
    {
     "data": {
      "image/png": "[encoded data removed]",
      "text/plain": [
       "<Figure size 432x288 with 1 Axes>"
      ]
     },
     "metadata": {
      "needs_background": "light"
     },
     "output_type": "display_data"
    }
   ],
   "source": [
    "plt.hist( meta.I.tolist(),25)"
   ]
  },
  {
   "cell_type": "code",
   "execution_count": 26,
   "id": "56bad0e2-bbe3-4ccf-b78b-0d42bd1301e9",
   "metadata": {},
   "outputs": [
    {
     "data": {
      "text/plain": [
       "tensor(145186)"
      ]
     },
     "execution_count": 26,
     "metadata": {},
     "output_type": "execute_result"
    }
   ],
   "source": [
    "torch.min(meta.lastemit)"
   ]
  },
  {
   "cell_type": "code",
   "execution_count": null,
   "id": "e65c4549-c9dc-4089-84c8-d744c4e43032",
   "metadata": {},
   "outputs": [],
   "source": []
  }
 ],
 "metadata": {
  "kernelspec": {
   "display_name": "Python 3",
   "language": "python",
   "name": "python3"
  },
  "language_info": {
   "codemirror_mode": {
    "name": "ipython",
    "version": 3
   },
   "file_extension": ".py",
   "mimetype": "text/x-python",
   "name": "python",
   "nbconvert_exporter": "python",
   "pygments_lexer": "ipython3",
   "version": "3.8.10"
  }
 },
 "nbformat": 4,
 "nbformat_minor": 5
}
