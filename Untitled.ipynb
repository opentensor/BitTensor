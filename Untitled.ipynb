{
 "cells": [
  {
   "cell_type": "code",
   "execution_count": 96,
   "id": "a00ab473-f3d0-42c8-add2-36adffa00202",
   "metadata": {},
   "outputs": [
    {
     "name": "stdout",
     "output_type": "stream",
     "text": [
      "The autoreload extension is already loaded. To reload it, use:\n",
      "  %reload_ext autoreload\n"
     ]
    },
    {
     "name": "stderr",
     "output_type": "stream",
     "text": [
      "[autoreload of bittensor._wallet.wallet_impl failed: Traceback (most recent call last):\n",
      "  File \"/usr/local/lib/python3.8/site-packages/IPython/extensions/autoreload.py\", line 245, in check\n",
      "    superreload(m, reload, self.old_objects)\n",
      "  File \"/usr/local/lib/python3.8/site-packages/IPython/extensions/autoreload.py\", line 394, in superreload\n",
      "    module = reload(module)\n",
      "  File \"/usr/local/Cellar/python@3.8/3.8.10/Frameworks/Python.framework/Versions/3.8/lib/python3.8/imp.py\", line 314, in reload\n",
      "    return importlib.reload(module)\n",
      "  File \"/usr/local/Cellar/python@3.8/3.8.10/Frameworks/Python.framework/Versions/3.8/lib/python3.8/importlib/__init__.py\", line 169, in reload\n",
      "    _bootstrap._exec(spec, module)\n",
      "  File \"<frozen importlib._bootstrap>\", line 604, in _exec\n",
      "  File \"<frozen importlib._bootstrap_external>\", line 848, in exec_module\n",
      "  File \"<frozen importlib._bootstrap>\", line 219, in _call_with_frames_removed\n",
      "  File \"/Users/const/Workspace/bittensor/bittensor/_wallet/wallet_impl.py\", line 35, in <module>\n",
      "    class Wallet():\n",
      "  File \"/Users/const/Workspace/bittensor/bittensor/_wallet/wallet_impl.py\", line 129, in Wallet\n",
      "    def hotkey(self) -> bittensor._substrate.Keypair:\n",
      "AttributeError: module 'bittensor' has no attribute '_substrate'\n",
      "]\n"
     ]
    }
   ],
   "source": [
    "import bittensor\n",
    "import torch\n",
    "bittensor.__debug_on__ = True\n",
    "%load_ext autoreload"
   ]
  },
  {
   "cell_type": "code",
   "execution_count": 109,
   "id": "84b8e903-1812-4cb4-9df8-156993ab34c8",
   "metadata": {},
   "outputs": [],
   "source": [
    "%autoreload 2"
   ]
  },
  {
   "cell_type": "code",
   "execution_count": 112,
   "id": "439ed1f1-4fa0-4e15-9c64-30458f1b6900",
   "metadata": {},
   "outputs": [
    {
     "name": "stdout",
     "output_type": "stream",
     "text": [
      "\n",
      "local_ip: 127.0.0.1\n",
      "local_port: 8091\n",
      "max_workers: 10\n",
      "maximum_concurrent_rpcs: 400\n",
      "wallet:\n",
      "  hotkey: default\n",
      "  name: default\n",
      "  path: ~/.bittensor/wallets/\n",
      "\n"
     ]
    }
   ],
   "source": [
    "meta = bittensor.axon()\n",
    "print (meta.config)"
   ]
  },
  {
   "cell_type": "code",
   "execution_count": 71,
   "id": "980792ca-124c-400b-a589-7d8266e6985e",
   "metadata": {},
   "outputs": [
    {
     "name": "stdout",
     "output_type": "stream",
     "text": [
      "\n",
      "axon:\n",
      "  local_ip: 127.0.0.1\n",
      "  local_port: 8091\n",
      "  max_workers: 10\n",
      "  maximum_concurrent_rpcs: 400\n",
      "  wallet:\n",
      "    hotkey: default\n",
      "    name: default\n",
      "    path: ~/.bittensor/wallets/\n",
      "\n"
     ]
    }
   ],
   "source": []
  },
  {
   "cell_type": "code",
   "execution_count": 62,
   "id": "f5e854d9-50c6-44eb-858a-f0b9e872a915",
   "metadata": {},
   "outputs": [
    {
     "name": "stdout",
     "output_type": "stream",
     "text": [
      "\n",
      "hotkey: default\n",
      "name: default\n",
      "path: ~/.bittensor/wallets/\n",
      "\n"
     ]
    }
   ],
   "source": [
    "print(bittensor.wallet.config())"
   ]
  },
  {
   "cell_type": "code",
   "execution_count": 158,
   "id": "9afb1cb8-0936-4d8a-a15d-1a6fbbde6ed2",
   "metadata": {},
   "outputs": [
    {
     "data": {
      "text/plain": [
       "Config({'dendrite': Config({'receptor_pool': Config({'receptor': Config({'wallet': Config({'name': 'default', 'hotkey': 'default', 'path': '~/.bittensor/wallets/'}), 'timeout': 3, 'do_backoff': True, 'max_backoff': 100}), 'max_worker_threads': 20, 'max_active_tcp_connections': 150}), 'pass_gradients': True})})"
      ]
     },
     "execution_count": 158,
     "metadata": {},
     "output_type": "execute_result"
    }
   ],
   "source": []
  },
  {
   "cell_type": "code",
   "execution_count": 151,
   "id": "c2ffad9c-4097-4377-b18b-17a5010c404d",
   "metadata": {},
   "outputs": [
    {
     "name": "stdout",
     "output_type": "stream",
     "text": [
      "usage: ipykernel_launcher.py [-h] [--dendrite.receptor_pool.receptor.wallet.name DENDRITE.RECEPTOR_POOL.RECEPTOR.WALLET.NAME] [--dendrite.receptor_pool.receptor.wallet.hotkey DENDRITE.RECEPTOR_POOL.RECEPTOR.WALLET.HOTKEY]\n",
      "                             [--dendrite.receptor_pool.receptor.wallet.path DENDRITE.RECEPTOR_POOL.RECEPTOR.WALLET.PATH] [--dendrite.receptor_pool.receptor.timeout DENDRITE.RECEPTOR_POOL.RECEPTOR.TIMEOUT]\n",
      "                             [--dendrite.receptor_pool.receptor.do_backoff DENDRITE.RECEPTOR_POOL.RECEPTOR.DO_BACKOFF] [--dendrite.receptor_pool.receptor.max_backoff DENDRITE.RECEPTOR_POOL.RECEPTOR.MAX_BACKOFF]\n",
      "                             [--dendrite.receptor_pool.max_worker_threads DENDRITE.RECEPTOR_POOL.MAX_WORKER_THREADS] [--dendrite.receptor_pool.max_active_tcp_connections DENDRITE.RECEPTOR_POOL.MAX_ACTIVE_TCP_CONNECTIONS]\n",
      "                             [--dendrite.pass_gradients DENDRITE.PASS_GRADIENTS]\n",
      "\n",
      "optional arguments:\n",
      "  -h, --help            show this help message and exit\n",
      "  --dendrite.receptor_pool.receptor.wallet.name DENDRITE.RECEPTOR_POOL.RECEPTOR.WALLET.NAME\n",
      "                        The name of the wallet to unlock for running bittensor\n",
      "  --dendrite.receptor_pool.receptor.wallet.hotkey DENDRITE.RECEPTOR_POOL.RECEPTOR.WALLET.HOTKEY\n",
      "                        The name of the wallet's hotkey.\n",
      "  --dendrite.receptor_pool.receptor.wallet.path DENDRITE.RECEPTOR_POOL.RECEPTOR.WALLET.PATH\n",
      "                        The path to your bittensor wallets\n",
      "  --dendrite.receptor_pool.receptor.timeout DENDRITE.RECEPTOR_POOL.RECEPTOR.TIMEOUT\n",
      "                        The per request RPC timeout. a.k.a the maximum request time.\n",
      "  --dendrite.receptor_pool.receptor.do_backoff DENDRITE.RECEPTOR_POOL.RECEPTOR.DO_BACKOFF\n",
      "                        Neurons who return non successful return codes are periodically not called with a multiplicative backoff. The backoff doubles until max_backoff and then halves on ever sequential successful request.\n",
      "  --dendrite.receptor_pool.receptor.max_backoff DENDRITE.RECEPTOR_POOL.RECEPTOR.MAX_BACKOFF\n",
      "                        The backoff doubles until this saturation point.\n",
      "  --dendrite.receptor_pool.max_worker_threads DENDRITE.RECEPTOR_POOL.MAX_WORKER_THREADS\n",
      "                        Max number of concurrent threads used for sending RPC requests.\n",
      "  --dendrite.receptor_pool.max_active_tcp_connections DENDRITE.RECEPTOR_POOL.MAX_ACTIVE_TCP_CONNECTIONS\n",
      "                        Max number of concurrently active receptors / tcp-connections\n",
      "  --dendrite.pass_gradients DENDRITE.PASS_GRADIENTS\n",
      "                        Does this dendrite pass gradients by default.\n"
     ]
    }
   ],
   "source": [
    "parser.print_help()"
   ]
  },
  {
   "cell_type": "code",
   "execution_count": 147,
   "id": "31acdbb3-44a7-41a1-a6c9-4a6e6d45d6e4",
   "metadata": {},
   "outputs": [
    {
     "name": "stdout",
     "output_type": "stream",
     "text": [
      "usage: ipykernel_launcher.py [-h] [--dendrite.receptor_pool.receptor.wallet.name DENDRITE.RECEPTOR_POOL.RECEPTOR.WALLET.NAME] [--dendrite.receptor_pool.receptor.wallet.hotkey DENDRITE.RECEPTOR_POOL.RECEPTOR.WALLET.HOTKEY]\n",
      "                             [--dendrite.receptor_pool.receptor.wallet.path DENDRITE.RECEPTOR_POOL.RECEPTOR.WALLET.PATH] [--dendrite.receptor_pool.receptor.timeout DENDRITE.RECEPTOR_POOL.RECEPTOR.TIMEOUT]\n",
      "                             [--dendrite.receptor_pool.receptor.do_backoff DENDRITE.RECEPTOR_POOL.RECEPTOR.DO_BACKOFF] [--dendrite.receptor_pool.receptor.max_backoff DENDRITE.RECEPTOR_POOL.RECEPTOR.MAX_BACKOFF]\n",
      "                             [--dendrite.receptor_pool.max_worker_threads DENDRITE.RECEPTOR_POOL.MAX_WORKER_THREADS] [--dendrite.receptor_pool.max_active_tcp_connections DENDRITE.RECEPTOR_POOL.MAX_ACTIVE_TCP_CONNECTIONS]\n",
      "                             [--dendrite.pass_gradients DENDRITE.PASS_GRADIENTS]\n",
      "\n",
      "optional arguments:\n",
      "  -h, --help            show this help message and exit\n",
      "  --dendrite.receptor_pool.receptor.wallet.name DENDRITE.RECEPTOR_POOL.RECEPTOR.WALLET.NAME\n",
      "                        The name of the wallet to unlock for running bittensor\n",
      "  --dendrite.receptor_pool.receptor.wallet.hotkey DENDRITE.RECEPTOR_POOL.RECEPTOR.WALLET.HOTKEY\n",
      "                        The name of the wallet's hotkey.\n",
      "  --dendrite.receptor_pool.receptor.wallet.path DENDRITE.RECEPTOR_POOL.RECEPTOR.WALLET.PATH\n",
      "                        The path to your bittensor wallets\n",
      "  --dendrite.receptor_pool.receptor.timeout DENDRITE.RECEPTOR_POOL.RECEPTOR.TIMEOUT\n",
      "                        The per request RPC timeout. a.k.a the maximum request time.\n",
      "  --dendrite.receptor_pool.receptor.do_backoff DENDRITE.RECEPTOR_POOL.RECEPTOR.DO_BACKOFF\n",
      "                        Neurons who return non successful return codes are periodically not called with a multiplicative backoff. The backoff doubles until max_backoff and then halves on ever sequential successful request.\n",
      "  --dendrite.receptor_pool.receptor.max_backoff DENDRITE.RECEPTOR_POOL.RECEPTOR.MAX_BACKOFF\n",
      "                        The backoff doubles until this saturation point.\n",
      "  --dendrite.receptor_pool.max_worker_threads DENDRITE.RECEPTOR_POOL.MAX_WORKER_THREADS\n",
      "                        Max number of concurrent threads used for sending RPC requests.\n",
      "  --dendrite.receptor_pool.max_active_tcp_connections DENDRITE.RECEPTOR_POOL.MAX_ACTIVE_TCP_CONNECTIONS\n",
      "                        Max number of concurrently active receptors / tcp-connections\n",
      "  --dendrite.pass_gradients DENDRITE.PASS_GRADIENTS\n",
      "                        Does this dendrite pass gradients by default.\n"
     ]
    }
   ],
   "source": []
  },
  {
   "cell_type": "code",
   "execution_count": 140,
   "id": "aa14becd-9344-4be9-9bc1-1f5239d4b53d",
   "metadata": {},
   "outputs": [],
   "source": [
    "dend = bittensor.dendrite.config()"
   ]
  },
  {
   "cell_type": "code",
   "execution_count": 143,
   "id": "ed9335c1-af40-4b45-99cf-3aaa63ec6905",
   "metadata": {},
   "outputs": [
    {
     "name": "stdout",
     "output_type": "stream",
     "text": [
      "\n",
      "dendrite:\n",
      "  pass_gradients: true\n",
      "  receptor_pool:\n",
      "    receptor:\n",
      "      wallet:\n",
      "        name: default\n",
      "\n"
     ]
    }
   ],
   "source": [
    "print(dend)"
   ]
  },
  {
   "cell_type": "code",
   "execution_count": 137,
   "id": "17bc9101-149c-4a23-b9b1-194ef2042896",
   "metadata": {},
   "outputs": [
    {
     "ename": "AttributeError",
     "evalue": "'NoneType' object has no attribute 'config'",
     "output_type": "error",
     "traceback": [
      "\u001b[0;31m---------------------------------------------------------------------------\u001b[0m",
      "\u001b[0;31mAttributeError\u001b[0m                            Traceback (most recent call last)",
      "\u001b[0;32m<ipython-input-137-c84f0b6e3aaf>\u001b[0m in \u001b[0;36m<module>\u001b[0;34m\u001b[0m\n\u001b[0;32m----> 1\u001b[0;31m \u001b[0mprint\u001b[0m \u001b[0;34m(\u001b[0m\u001b[0mdend\u001b[0m\u001b[0;34m.\u001b[0m\u001b[0mconfig\u001b[0m\u001b[0;34m)\u001b[0m\u001b[0;34m\u001b[0m\u001b[0;34m\u001b[0m\u001b[0m\n\u001b[0m",
      "\u001b[0;31mAttributeError\u001b[0m: 'NoneType' object has no attribute 'config'"
     ]
    }
   ],
   "source": [
    "print (dend.config)"
   ]
  },
  {
   "cell_type": "code",
   "execution_count": 98,
   "id": "764eda73-85da-4afb-ac15-c8e44b14840e",
   "metadata": {},
   "outputs": [],
   "source": [
    "endpoint_A = bittensor.endpoint( \n",
    "    uid = 0, \n",
    "    hotkey = '0', \n",
    "    ip = '0.0.0.0', \n",
    "    ip_type = 4, \n",
    "    port = 8080 , \n",
    "    modality = 0, \n",
    "    coldkey = 'N/A'\n",
    ")"
   ]
  },
  {
   "cell_type": "code",
   "execution_count": 110,
   "id": "6a34cbf2-dcda-4afd-9811-438090336f30",
   "metadata": {},
   "outputs": [
    {
     "name": "stdout",
     "output_type": "stream",
     "text": [
      "\u001b[34m\u001b[1mDEBUG   \u001b[0m|\u001b[36mbittensor._receptor.receptor_impl\u001b[0m:\u001b[36m_call_forward\u001b[0m:\u001b[36m278\u001b[0m - \u001b[34m\u001b[1m\u001b[37mDendrite\u001b[0m\u001b[34m\u001b[1m \u001b[32mForward Request\u001b[0m\u001b[34m\u001b[1m ---> \u001b[37mto\u001b[0m\u001b[34m\u001b[1m:/ipv4/0.0.0.0:8080, \u001b[37minputs\u001b[0m\u001b[34m\u001b[1m:torch.Size([10, 10]), \u001b[37mmode\u001b[0m\u001b[34m\u001b[1m:0\u001b[0m\n",
      "\u001b[34m\u001b[1mDEBUG   \u001b[0m|\u001b[36mbittensor._receptor.receptor_impl\u001b[0m:\u001b[36m_call_forward\u001b[0m:\u001b[36m314\u001b[0m - \u001b[34m\u001b[1m\u001b[37mDendrite\u001b[0m\u001b[34m\u001b[1m \u001b[32mForward Response\u001b[0m\u001b[34m\u001b[1m <--- \u001b[37mcode\u001b[0m\u001b[34m\u001b[1m:\u001b[33mUnavailable\u001b[0m\u001b[34m\u001b[1m, \u001b[37mfrom\u001b[0m\u001b[34m\u001b[1m:/ipv4/0.0.0.0:8080\u001b[0m\n"
     ]
    }
   ],
   "source": [
    "response, code = dend.forward_text( endpoints = [endpoint_A], inputs = [torch.zeros([10,10], dtype=torch.int64)])"
   ]
  },
  {
   "cell_type": "code",
   "execution_count": 112,
   "id": "e9ca13d6-607c-45a3-9e08-d63d460c71eb",
   "metadata": {},
   "outputs": [
    {
     "data": {
      "text/plain": [
       "tensor([3])"
      ]
     },
     "execution_count": 112,
     "metadata": {},
     "output_type": "execute_result"
    }
   ],
   "source": [
    "code"
   ]
  },
  {
   "cell_type": "code",
   "execution_count": 42,
   "id": "1ea47130-c4c3-4a57-8089-1fa2f30ac4a3",
   "metadata": {},
   "outputs": [
    {
     "data": {
      "text/plain": [
       "True"
      ]
     },
     "execution_count": 42,
     "metadata": {},
     "output_type": "execute_result"
    }
   ],
   "source": [
    "isinstance( endpoint_A, bittensor._endpoint.endpoint_impl.Endpoint)"
   ]
  },
  {
   "cell_type": "code",
   "execution_count": 40,
   "id": "2015840d-ec5f-44cf-bb95-b9d546c62914",
   "metadata": {},
   "outputs": [],
   "source": [
    "pool = bittensor.receptor_pool.config()"
   ]
  },
  {
   "cell_type": "code",
   "execution_count": 41,
   "id": "acce1314-a7ae-4eed-b769-a8e83a19a89c",
   "metadata": {},
   "outputs": [
    {
     "data": {
      "text/plain": [
       "Config({'wallet': Config({'name': 'default', 'hotkey': 'default', 'path': '~/.bittensor/wallets/'}), 'receptor': Config({'timeout': 3, 'do_backoff': True, 'max_backoff': 100}), 'receptor_pool': Config({'max_worker_threads': 20, 'max_active_tcp_connections': 150})})"
      ]
     },
     "execution_count": 41,
     "metadata": {},
     "output_type": "execute_result"
    }
   ],
   "source": [
    "pool"
   ]
  },
  {
   "cell_type": "code",
   "execution_count": null,
   "id": "f8dd6392-7fce-46f2-877e-37daf79d5cde",
   "metadata": {},
   "outputs": [],
   "source": []
  }
 ],
 "metadata": {
  "kernelspec": {
   "display_name": "Python 3",
   "language": "python",
   "name": "python3"
  },
  "language_info": {
   "codemirror_mode": {
    "name": "ipython",
    "version": 3
   },
   "file_extension": ".py",
   "mimetype": "text/x-python",
   "name": "python",
   "nbconvert_exporter": "python",
   "pygments_lexer": "ipython3",
   "version": "3.8.10"
  }
 },
 "nbformat": 4,
 "nbformat_minor": 5
}
