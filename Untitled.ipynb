{
 "cells": [
  {
   "cell_type": "code",
   "execution_count": 4,
   "id": "767ba616-cc69-44ae-a301-50f5cc5244cf",
   "metadata": {},
   "outputs": [
    {
     "name": "stdout",
     "output_type": "stream",
     "text": [
      "Collecting rich\n",
      "  Downloading rich-10.1.0-py3-none-any.whl (201 kB)\n",
      "\u001b[K     |████████████████████████████████| 201 kB 1.1 MB/s eta 0:00:01\n",
      "\u001b[?25hRequirement already satisfied: typing-extensions<4.0.0,>=3.7.4 in /usr/local/lib/python3.8/site-packages (from rich) (3.10.0.0)\n",
      "Requirement already satisfied: colorama<0.5.0,>=0.4.0 in /usr/local/lib/python3.8/site-packages (from rich) (0.4.4)\n",
      "Requirement already satisfied: pygments<3.0.0,>=2.6.0 in /usr/local/lib/python3.8/site-packages (from rich) (2.9.0)\n",
      "Collecting commonmark<0.10.0,>=0.9.0\n",
      "  Using cached commonmark-0.9.1-py2.py3-none-any.whl (51 kB)\n",
      "Installing collected packages: commonmark, rich\n",
      "Successfully installed commonmark-0.9.1 rich-10.1.0\n"
     ]
    }
   ],
   "source": [
    "! pip3 install rich"
   ]
  },
  {
   "cell_type": "code",
   "execution_count": 5,
   "id": "73254dfe-09e9-4d63-95dd-c4740c1538a4",
   "metadata": {},
   "outputs": [
    {
     "data": {
      "text/html": [
       "<pre style=\"white-space:pre;overflow-x:auto;line-height:normal;font-family:Menlo,'DejaVu Sans Mono',consolas,'Courier New',monospace\"><span style=\"font-style: italic\">                          Star Wars Movies                           </span>\n",
       "┏━━━━━━━━━━━━━━┳━━━━━━━━━━━━━━━━━━━━━━━━━━━━━━━━━━━┳━━━━━━━━━━━━━━━━┓\n",
       "┃<span style=\"font-weight: bold\">     Released </span>┃<span style=\"font-weight: bold\"> Title                             </span>┃<span style=\"font-weight: bold\">     Box Office </span>┃\n",
       "┡━━━━━━━━━━━━━━╇━━━━━━━━━━━━━━━━━━━━━━━━━━━━━━━━━━━╇━━━━━━━━━━━━━━━━┩\n",
       "│<span style=\"color: #008080; text-decoration-color: #008080\"> Dec 20, 2019 </span>│<span style=\"color: #800080; text-decoration-color: #800080\"> Star Wars: The Rise of Skywalker  </span>│<span style=\"color: #008000; text-decoration-color: #008000\">   $952,110,690 </span>│\n",
       "│<span style=\"color: #008080; text-decoration-color: #008080\"> May 25, 2018 </span>│<span style=\"color: #800080; text-decoration-color: #800080\"> Solo: A Star Wars Story           </span>│<span style=\"color: #008000; text-decoration-color: #008000\">   $393,151,347 </span>│\n",
       "│<span style=\"color: #008080; text-decoration-color: #008080\"> Dec 15, 2017 </span>│<span style=\"color: #800080; text-decoration-color: #800080\"> Star Wars Ep. V111: The Last Jedi </span>│<span style=\"color: #008000; text-decoration-color: #008000\"> $1,332,539,889 </span>│\n",
       "│<span style=\"color: #008080; text-decoration-color: #008080\"> Dec 16, 2016 </span>│<span style=\"color: #800080; text-decoration-color: #800080\"> Rogue One: A Star Wars Story      </span>│<span style=\"color: #008000; text-decoration-color: #008000\"> $1,332,439,889 </span>│\n",
       "└──────────────┴───────────────────────────────────┴────────────────┘\n",
       "</pre>\n"
      ],
      "text/plain": [
       "\u001b[3m                          Star Wars Movies                           \u001b[0m\n",
       "┏━━━━━━━━━━━━━━┳━━━━━━━━━━━━━━━━━━━━━━━━━━━━━━━━━━━┳━━━━━━━━━━━━━━━━┓\n",
       "┃\u001b[1m \u001b[0m\u001b[1m    Released\u001b[0m\u001b[1m \u001b[0m┃\u001b[1m \u001b[0m\u001b[1mTitle                            \u001b[0m\u001b[1m \u001b[0m┃\u001b[1m \u001b[0m\u001b[1m    Box Office\u001b[0m\u001b[1m \u001b[0m┃\n",
       "┡━━━━━━━━━━━━━━╇━━━━━━━━━━━━━━━━━━━━━━━━━━━━━━━━━━━╇━━━━━━━━━━━━━━━━┩\n",
       "│\u001b[36m \u001b[0m\u001b[36mDec 20, 2019\u001b[0m\u001b[36m \u001b[0m│\u001b[35m \u001b[0m\u001b[35mStar Wars: The Rise of Skywalker \u001b[0m\u001b[35m \u001b[0m│\u001b[32m \u001b[0m\u001b[32m  $952,110,690\u001b[0m\u001b[32m \u001b[0m│\n",
       "│\u001b[36m \u001b[0m\u001b[36mMay 25, 2018\u001b[0m\u001b[36m \u001b[0m│\u001b[35m \u001b[0m\u001b[35mSolo: A Star Wars Story          \u001b[0m\u001b[35m \u001b[0m│\u001b[32m \u001b[0m\u001b[32m  $393,151,347\u001b[0m\u001b[32m \u001b[0m│\n",
       "│\u001b[36m \u001b[0m\u001b[36mDec 15, 2017\u001b[0m\u001b[36m \u001b[0m│\u001b[35m \u001b[0m\u001b[35mStar Wars Ep. V111: The Last Jedi\u001b[0m\u001b[35m \u001b[0m│\u001b[32m \u001b[0m\u001b[32m$1,332,539,889\u001b[0m\u001b[32m \u001b[0m│\n",
       "│\u001b[36m \u001b[0m\u001b[36mDec 16, 2016\u001b[0m\u001b[36m \u001b[0m│\u001b[35m \u001b[0m\u001b[35mRogue One: A Star Wars Story     \u001b[0m\u001b[35m \u001b[0m│\u001b[32m \u001b[0m\u001b[32m$1,332,439,889\u001b[0m\u001b[32m \u001b[0m│\n",
       "└──────────────┴───────────────────────────────────┴────────────────┘\n"
      ]
     },
     "metadata": {},
     "output_type": "display_data"
    }
   ],
   "source": [
    "import rich\n",
    "from rich.console import Console\n",
    "from rich.table import Table\n",
    "\n",
    "table = Table(title=\"Star Wars Movies\")\n",
    "\n",
    "table.add_column(\"Released\", justify=\"right\", style=\"cyan\", no_wrap=True)\n",
    "table.add_column(\"Title\", style=\"magenta\")\n",
    "table.add_column(\"Box Office\", justify=\"right\", style=\"green\")\n",
    "\n",
    "table.add_row(\"Dec 20, 2019\", \"Star Wars: The Rise of Skywalker\", \"$952,110,690\")\n",
    "table.add_row(\"May 25, 2018\", \"Solo: A Star Wars Story\", \"$393,151,347\")\n",
    "table.add_row(\"Dec 15, 2017\", \"Star Wars Ep. V111: The Last Jedi\", \"$1,332,539,889\")\n",
    "table.add_row(\"Dec 16, 2016\", \"Rogue One: A Star Wars Story\", \"$1,332,439,889\")\n",
    "\n",
    "console = Console()\n",
    "console.print(table)"
   ]
  },
  {
   "cell_type": "code",
   "execution_count": 9,
   "id": "05f37dd9-b70c-403d-ac5d-8e4ea9f62d39",
   "metadata": {},
   "outputs": [],
   "source": [
    "from rich import print\n",
    "from rich.table import Table\n",
    "from loguru import logger\n",
    "\n",
    "grid = Table.grid(expand=True)\n",
    "grid.add_column()\n",
    "grid.add_column(justify=\"right\")\n",
    "grid.add_row(\"Raising shields\", \"[bold magenta]COMPLETED [green]:heavy_check_mark:\")\n",
    "\n",
    "st = "
   ]
  },
  {
   "cell_type": "code",
   "execution_count": 13,
   "id": "5f54ee18-99e7-43da-bf62-9555bc1ed2c6",
   "metadata": {},
   "outputs": [
    {
     "data": {
      "text/plain": [
       "'<rich.table.Table object at 0x108323610>'"
      ]
     },
     "execution_count": 13,
     "metadata": {},
     "output_type": "execute_result"
    }
   ],
   "source": [
    "grid.__str__()"
   ]
  },
  {
   "cell_type": "code",
   "execution_count": 41,
   "id": "a3964a54-0604-420d-8f9b-58e6eeac4586",
   "metadata": {},
   "outputs": [
    {
     "data": {
      "text/html": [
       "<pre style=\"white-space:pre;overflow-x:auto;line-height:normal;font-family:Menlo,'DejaVu Sans Mono',consolas,'Courier New',monospace\"></pre>\n"
      ],
      "text/plain": []
     },
     "metadata": {},
     "output_type": "display_data"
    },
    {
     "data": {
      "text/html": [
       "<pre style=\"white-space:pre;overflow-x:auto;line-height:normal;font-family:Menlo,'DejaVu Sans Mono',consolas,'Courier New',monospace\"><span style=\"font-style: italic\">                                 </span>🍿<span style=\"font-style: italic\"> Star Wars Box Office </span>🍿<span style=\"font-style: italic\">                                  </span>\n",
       "<span style=\"color: #ffff00; text-decoration-color: #ffff00\">                                                                                             </span>\n",
       "<span style=\"color: #ffff00; text-decoration-color: #ffff00\"> </span><span style=\"color: #008080; text-decoration-color: #008080; font-weight: bold\">Release Date </span><span style=\"color: #ffff00; text-decoration-color: #ffff00\"> </span><span style=\"color: #800080; text-decoration-color: #800080; font-weight: bold\"> Title                      </span><span style=\"color: #ffff00; text-decoration-color: #ffff00\"> </span><span style=\"color: #800000; text-decoration-color: #800000; font-weight: bold\">       Budget </span><span style=\"color: #ffff00; text-decoration-color: #ffff00\"> </span><span style=\"color: #008000; text-decoration-color: #008000; font-weight: bold\"> Opening Weekend </span><span style=\"color: #ffff00; text-decoration-color: #ffff00\"> </span><span style=\"color: #000080; text-decoration-color: #000080; font-weight: bold\">     Box Office</span><span style=\"color: #ffff00; text-decoration-color: #ffff00\"> </span>\n",
       "<span style=\"color: #ffff00; text-decoration-color: #ffff00\"> ─────────────────────────────────────────────────────────────────────────────────────────── </span>\n",
       "<span style=\"color: #ffff00; text-decoration-color: #ffff00\"> </span><span style=\"color: #008080; text-decoration-color: #008080\">May 25, 1977 </span><span style=\"color: #ffff00; text-decoration-color: #ffff00\"> </span><span style=\"color: #800080; text-decoration-color: #800080\"> Star Wars Ep. </span><span style=\"color: #800080; text-decoration-color: #800080; font-weight: bold\">IV</span><span style=\"color: #800080; text-decoration-color: #800080\">: </span><span style=\"color: #800080; text-decoration-color: #800080; font-style: italic\">A New </span><span style=\"color: #800080; text-decoration-color: #800080\">   </span><span style=\"color: #ffff00; text-decoration-color: #ffff00\"> </span><span style=\"color: #800000; text-decoration-color: #800000\">  $11,000,000 </span><span style=\"color: #ffff00; text-decoration-color: #ffff00\"> </span><span style=\"color: #008000; text-decoration-color: #008000\">      $1,554,475 </span><span style=\"color: #ffff00; text-decoration-color: #ffff00\"> </span><span style=\"color: #000080; text-decoration-color: #000080\">   $775,398,007</span><span style=\"color: #ffff00; text-decoration-color: #ffff00\"> </span>\n",
       "<span style=\"color: #ffff00; text-decoration-color: #ffff00\"> </span>             <span style=\"color: #ffff00; text-decoration-color: #ffff00\"> </span><span style=\"color: #800080; text-decoration-color: #800080\"> </span><span style=\"color: #800080; text-decoration-color: #800080; font-style: italic\">Hope</span><span style=\"color: #800080; text-decoration-color: #800080\">                       </span><span style=\"color: #ffff00; text-decoration-color: #ffff00\"> </span>              <span style=\"color: #ffff00; text-decoration-color: #ffff00\"> </span>                 <span style=\"color: #ffff00; text-decoration-color: #ffff00\"> </span>               <span style=\"color: #ffff00; text-decoration-color: #ffff00\"> </span>\n",
       "<span style=\"color: #ffff00; text-decoration-color: #ffff00\"> </span><span style=\"color: #7fbfbf; text-decoration-color: #7fbfbf\">May 21, 1980 </span><span style=\"color: #ffff00; text-decoration-color: #ffff00\"> </span><span style=\"color: #bf7fbf; text-decoration-color: #bf7fbf\"> Star Wars Ep. </span><span style=\"color: #bf7fbf; text-decoration-color: #bf7fbf; font-weight: bold\">V</span><span style=\"color: #bf7fbf; text-decoration-color: #bf7fbf\">: </span><span style=\"color: #bf7fbf; text-decoration-color: #bf7fbf; font-style: italic\">The </span><span style=\"color: #bf7fbf; text-decoration-color: #bf7fbf\">      </span><span style=\"color: #ffff00; text-decoration-color: #ffff00\"> </span><span style=\"color: #bf7f7f; text-decoration-color: #bf7f7f\">  $23,000,000 </span><span style=\"color: #ffff00; text-decoration-color: #ffff00\"> </span><span style=\"color: #7fbf7f; text-decoration-color: #7fbf7f\">      $4,910,483 </span><span style=\"color: #ffff00; text-decoration-color: #ffff00\"> </span><span style=\"color: #7f7fbf; text-decoration-color: #7f7fbf\">   $547,969,004</span><span style=\"color: #ffff00; text-decoration-color: #ffff00\"> </span>\n",
       "<span style=\"color: #ffff00; text-decoration-color: #ffff00\"> </span><span style=\"color: #7f7f7f; text-decoration-color: #7f7f7f\">             </span><span style=\"color: #ffff00; text-decoration-color: #ffff00\"> </span><span style=\"color: #bf7fbf; text-decoration-color: #bf7fbf\"> </span><span style=\"color: #bf7fbf; text-decoration-color: #bf7fbf; font-style: italic\">Empire Strikes Back</span><span style=\"color: #bf7fbf; text-decoration-color: #bf7fbf\">        </span><span style=\"color: #ffff00; text-decoration-color: #ffff00\"> </span><span style=\"color: #7f7f7f; text-decoration-color: #7f7f7f\">              </span><span style=\"color: #ffff00; text-decoration-color: #ffff00\"> </span><span style=\"color: #7f7f7f; text-decoration-color: #7f7f7f\">                 </span><span style=\"color: #ffff00; text-decoration-color: #ffff00\"> </span><span style=\"color: #7f7f7f; text-decoration-color: #7f7f7f\">               </span><span style=\"color: #ffff00; text-decoration-color: #ffff00\"> </span>\n",
       "<span style=\"color: #ffff00; text-decoration-color: #ffff00\"> </span><span style=\"color: #008080; text-decoration-color: #008080\">May 25, 1983 </span><span style=\"color: #ffff00; text-decoration-color: #ffff00\"> </span><span style=\"color: #800080; text-decoration-color: #800080\"> Star Wars Ep. </span><span style=\"color: #800080; text-decoration-color: #800080; font-weight: bold\">VI</span><span style=\"color: #800080; text-decoration-color: #800080\">: </span><span style=\"color: #800080; text-decoration-color: #800080; font-style: italic\">Return </span><span style=\"color: #800080; text-decoration-color: #800080\">  </span><span style=\"color: #ffff00; text-decoration-color: #ffff00\"> </span><span style=\"color: #800000; text-decoration-color: #800000\">  $32,500,000 </span><span style=\"color: #ffff00; text-decoration-color: #ffff00\"> </span><span style=\"color: #008000; text-decoration-color: #008000\">     $23,019,618 </span><span style=\"color: #ffff00; text-decoration-color: #ffff00\"> </span><span style=\"color: #000080; text-decoration-color: #000080\">   $475,106,177</span><span style=\"color: #ffff00; text-decoration-color: #ffff00\"> </span>\n",
       "<span style=\"color: #ffff00; text-decoration-color: #ffff00\"> </span>             <span style=\"color: #ffff00; text-decoration-color: #ffff00\"> </span><span style=\"color: #800080; text-decoration-color: #800080\"> </span><span style=\"color: #800080; text-decoration-color: #800080; font-style: italic\">of the Jedi</span><span style=\"color: #800080; text-decoration-color: #800080\">                </span><span style=\"color: #ffff00; text-decoration-color: #ffff00\"> </span>              <span style=\"color: #ffff00; text-decoration-color: #ffff00\"> </span>                 <span style=\"color: #ffff00; text-decoration-color: #ffff00\"> </span>               <span style=\"color: #ffff00; text-decoration-color: #ffff00\"> </span>\n",
       "<span style=\"color: #ffff00; text-decoration-color: #ffff00\"> </span><span style=\"color: #7fbfbf; text-decoration-color: #7fbfbf\">May 19, 1999 </span><span style=\"color: #ffff00; text-decoration-color: #ffff00\"> </span><span style=\"color: #bf7fbf; text-decoration-color: #bf7fbf\"> Star Wars Ep. </span><span style=\"color: #bf7fbf; text-decoration-color: #bf7fbf; font-weight: bold\">I</span><span style=\"color: #bf7fbf; text-decoration-color: #bf7fbf\">: </span><span style=\"color: #bf7fbf; text-decoration-color: #bf7fbf; font-style: italic\">The </span><span style=\"color: #bf7fbf; text-decoration-color: #bf7fbf\">      </span><span style=\"color: #ffff00; text-decoration-color: #ffff00\"> </span><span style=\"color: #bf7f7f; text-decoration-color: #bf7f7f\"> $115,000,000 </span><span style=\"color: #ffff00; text-decoration-color: #ffff00\"> </span><span style=\"color: #7fbf7f; text-decoration-color: #7fbf7f\">     $64,810,870 </span><span style=\"color: #ffff00; text-decoration-color: #ffff00\"> </span><span style=\"color: #7f7fbf; text-decoration-color: #7f7fbf\"> $1,027,044,677</span><span style=\"color: #ffff00; text-decoration-color: #ffff00\"> </span>\n",
       "<span style=\"color: #ffff00; text-decoration-color: #ffff00\"> </span><span style=\"color: #7f7f7f; text-decoration-color: #7f7f7f\">             </span><span style=\"color: #ffff00; text-decoration-color: #ffff00\"> </span><span style=\"color: #bf7fbf; text-decoration-color: #bf7fbf\"> </span><span style=\"color: #bf7fbf; text-decoration-color: #bf7fbf; font-style: italic\">phantom Menace</span><span style=\"color: #bf7fbf; text-decoration-color: #bf7fbf\">             </span><span style=\"color: #ffff00; text-decoration-color: #ffff00\"> </span><span style=\"color: #7f7f7f; text-decoration-color: #7f7f7f\">              </span><span style=\"color: #ffff00; text-decoration-color: #ffff00\"> </span><span style=\"color: #7f7f7f; text-decoration-color: #7f7f7f\">                 </span><span style=\"color: #ffff00; text-decoration-color: #ffff00\"> </span><span style=\"color: #7f7f7f; text-decoration-color: #7f7f7f\">               </span><span style=\"color: #ffff00; text-decoration-color: #ffff00\"> </span>\n",
       "<span style=\"color: #ffff00; text-decoration-color: #ffff00\"> </span><span style=\"color: #008080; text-decoration-color: #008080\">May 16, 2002 </span><span style=\"color: #ffff00; text-decoration-color: #ffff00\"> </span><span style=\"color: #800080; text-decoration-color: #800080\"> Star Wars Ep. </span><span style=\"color: #800080; text-decoration-color: #800080; font-weight: bold\">II</span><span style=\"color: #800080; text-decoration-color: #800080\">: </span><span style=\"color: #800080; text-decoration-color: #800080; font-style: italic\">Attack </span><span style=\"color: #800080; text-decoration-color: #800080\">  </span><span style=\"color: #ffff00; text-decoration-color: #ffff00\"> </span><span style=\"color: #800000; text-decoration-color: #800000\"> $115,000,000 </span><span style=\"color: #ffff00; text-decoration-color: #ffff00\"> </span><span style=\"color: #008000; text-decoration-color: #008000\">     $80,027,814 </span><span style=\"color: #ffff00; text-decoration-color: #ffff00\"> </span><span style=\"color: #000080; text-decoration-color: #000080\">   $656,695,615</span><span style=\"color: #ffff00; text-decoration-color: #ffff00\"> </span>\n",
       "<span style=\"color: #ffff00; text-decoration-color: #ffff00\"> </span>             <span style=\"color: #ffff00; text-decoration-color: #ffff00\"> </span><span style=\"color: #800080; text-decoration-color: #800080\"> </span><span style=\"color: #800080; text-decoration-color: #800080; font-style: italic\">of the Clones</span><span style=\"color: #800080; text-decoration-color: #800080\">              </span><span style=\"color: #ffff00; text-decoration-color: #ffff00\"> </span>              <span style=\"color: #ffff00; text-decoration-color: #ffff00\"> </span>                 <span style=\"color: #ffff00; text-decoration-color: #ffff00\"> </span>               <span style=\"color: #ffff00; text-decoration-color: #ffff00\"> </span>\n",
       "<span style=\"color: #ffff00; text-decoration-color: #ffff00\"> </span><span style=\"color: #7fbfbf; text-decoration-color: #7fbfbf\">May 19, 2005 </span><span style=\"color: #ffff00; text-decoration-color: #ffff00\"> </span><span style=\"color: #bf7fbf; text-decoration-color: #bf7fbf\"> Star Wars Ep. </span><span style=\"color: #bf7fbf; text-decoration-color: #bf7fbf; font-weight: bold\">III</span><span style=\"color: #bf7fbf; text-decoration-color: #bf7fbf\">: </span><span style=\"color: #bf7fbf; text-decoration-color: #bf7fbf; font-style: italic\">Revenge</span><span style=\"color: #bf7fbf; text-decoration-color: #bf7fbf\"> </span><span style=\"color: #ffff00; text-decoration-color: #ffff00\"> </span><span style=\"color: #bf7f7f; text-decoration-color: #bf7f7f\"> $115,500,000 </span><span style=\"color: #ffff00; text-decoration-color: #ffff00\"> </span><span style=\"color: #7fbf7f; text-decoration-color: #7fbf7f\">    $380,270,577 </span><span style=\"color: #ffff00; text-decoration-color: #ffff00\"> </span><span style=\"color: #7f7fbf; text-decoration-color: #7f7fbf\">   $848,998,877</span><span style=\"color: #ffff00; text-decoration-color: #ffff00\"> </span>\n",
       "<span style=\"color: #ffff00; text-decoration-color: #ffff00\"> </span><span style=\"color: #7f7f7f; text-decoration-color: #7f7f7f\">             </span><span style=\"color: #ffff00; text-decoration-color: #ffff00\"> </span><span style=\"color: #bf7fbf; text-decoration-color: #bf7fbf\"> </span><span style=\"color: #bf7fbf; text-decoration-color: #bf7fbf; font-style: italic\">of the Sith</span><span style=\"color: #bf7fbf; text-decoration-color: #bf7fbf\">                </span><span style=\"color: #ffff00; text-decoration-color: #ffff00\"> </span><span style=\"color: #7f7f7f; text-decoration-color: #7f7f7f\">              </span><span style=\"color: #ffff00; text-decoration-color: #ffff00\"> </span><span style=\"color: #7f7f7f; text-decoration-color: #7f7f7f\">                 </span><span style=\"color: #ffff00; text-decoration-color: #ffff00\"> </span><span style=\"color: #7f7f7f; text-decoration-color: #7f7f7f\">               </span><span style=\"color: #ffff00; text-decoration-color: #ffff00\"> </span>\n",
       "<span style=\"color: #ffff00; text-decoration-color: #ffff00\">                                                                                             </span>\n",
       "<span style=\"color: #ffff00; text-decoration-color: #ffff00\"> </span><span style=\"font-weight: bold\">             </span><span style=\"color: #ffff00; text-decoration-color: #ffff00\"> </span><span style=\"font-weight: bold\">                      Total </span><span style=\"color: #ffff00; text-decoration-color: #ffff00\"> </span><span style=\"color: #ff0000; text-decoration-color: #ff0000; font-weight: bold\"> </span><span style=\"color: #ff0000; text-decoration-color: #ff0000; font-weight: bold; text-decoration: underline\">$412,000,000</span><span style=\"color: #ff0000; text-decoration-color: #ff0000; font-weight: bold\"> </span><span style=\"color: #ffff00; text-decoration-color: #ffff00\"> </span><span style=\"color: #00ff00; text-decoration-color: #00ff00; font-weight: bold\">    </span><span style=\"color: #00ff00; text-decoration-color: #00ff00; font-weight: bold; text-decoration: underline\">$577,703,455</span><span style=\"color: #00ff00; text-decoration-color: #00ff00; font-weight: bold\"> </span><span style=\"color: #ffff00; text-decoration-color: #ffff00\"> </span><span style=\"color: #0000ff; text-decoration-color: #0000ff; font-weight: bold\"> </span><span style=\"color: #0000ff; text-decoration-color: #0000ff; font-weight: bold; text-decoration: underline\">$4,331,212,357</span><span style=\"color: #ffff00; text-decoration-color: #ffff00\"> </span>\n",
       "<span style=\"color: #ffff00; text-decoration-color: #ffff00\">                                                                                             </span>\n",
       "<span style=\"color: #7f7f7f; text-decoration-color: #7f7f7f; font-style: italic\">                                       Made with </span><span style=\"color: #800080; text-decoration-color: #800080; font-weight: bold; font-style: italic\">Rich</span><span style=\"color: #7f7f7f; text-decoration-color: #7f7f7f; font-style: italic\">                                        </span>\n",
       "</pre>\n"
      ],
      "text/plain": [
       "\u001b[3m                                 \u001b[0m🍿\u001b[3m Star Wars Box Office \u001b[0m🍿\u001b[3m                                  \u001b[0m\n",
       "\u001b[93m                                                                                             \u001b[0m\n",
       "\u001b[93m \u001b[0m\u001b[1;36mRelease Date\u001b[0m\u001b[1;36m \u001b[0m\u001b[93m \u001b[0m\u001b[1;35m \u001b[0m\u001b[1;35mTitle                     \u001b[0m\u001b[1;35m \u001b[0m\u001b[93m \u001b[0m\u001b[1;31m \u001b[0m\u001b[1;31m      Budget\u001b[0m\u001b[1;31m \u001b[0m\u001b[93m \u001b[0m\u001b[1;32m \u001b[0m\u001b[1;32mOpening Weekend\u001b[0m\u001b[1;32m \u001b[0m\u001b[93m \u001b[0m\u001b[1;34m \u001b[0m\u001b[1;34m    Box Office\u001b[0m\u001b[93m \u001b[0m\n",
       "\u001b[93m ─────────────────────────────────────────────────────────────────────────────────────────── \u001b[0m\n",
       "\u001b[93m \u001b[0m\u001b[36mMay 25, 1977\u001b[0m\u001b[36m \u001b[0m\u001b[93m \u001b[0m\u001b[35m \u001b[0m\u001b[35mStar Wars Ep. \u001b[0m\u001b[1;35mIV\u001b[0m\u001b[35m: \u001b[0m\u001b[3;35mA New \u001b[0m\u001b[35m  \u001b[0m\u001b[35m \u001b[0m\u001b[93m \u001b[0m\u001b[31m \u001b[0m\u001b[31m $11,000,000\u001b[0m\u001b[31m \u001b[0m\u001b[93m \u001b[0m\u001b[32m \u001b[0m\u001b[32m     $1,554,475\u001b[0m\u001b[32m \u001b[0m\u001b[93m \u001b[0m\u001b[34m \u001b[0m\u001b[34m  $775,398,007\u001b[0m\u001b[93m \u001b[0m\n",
       "\u001b[93m \u001b[0m             \u001b[93m \u001b[0m\u001b[35m \u001b[0m\u001b[3;35mHope\u001b[0m\u001b[35m                      \u001b[0m\u001b[35m \u001b[0m\u001b[93m \u001b[0m              \u001b[93m \u001b[0m                 \u001b[93m \u001b[0m               \u001b[93m \u001b[0m\n",
       "\u001b[93m \u001b[0m\u001b[2;36mMay 21, 1980\u001b[0m\u001b[2;36m \u001b[0m\u001b[93m \u001b[0m\u001b[2;35m \u001b[0m\u001b[2;35mStar Wars Ep. \u001b[0m\u001b[1;2;35mV\u001b[0m\u001b[2;35m: \u001b[0m\u001b[2;3;35mThe \u001b[0m\u001b[2;35m     \u001b[0m\u001b[2;35m \u001b[0m\u001b[93m \u001b[0m\u001b[2;31m \u001b[0m\u001b[2;31m $23,000,000\u001b[0m\u001b[2;31m \u001b[0m\u001b[93m \u001b[0m\u001b[2;32m \u001b[0m\u001b[2;32m     $4,910,483\u001b[0m\u001b[2;32m \u001b[0m\u001b[93m \u001b[0m\u001b[2;34m \u001b[0m\u001b[2;34m  $547,969,004\u001b[0m\u001b[93m \u001b[0m\n",
       "\u001b[93m \u001b[0m\u001b[2m             \u001b[0m\u001b[93m \u001b[0m\u001b[2;35m \u001b[0m\u001b[2;3;35mEmpire Strikes Back\u001b[0m\u001b[2;35m       \u001b[0m\u001b[2;35m \u001b[0m\u001b[93m \u001b[0m\u001b[2m              \u001b[0m\u001b[93m \u001b[0m\u001b[2m                 \u001b[0m\u001b[93m \u001b[0m\u001b[2m               \u001b[0m\u001b[93m \u001b[0m\n",
       "\u001b[93m \u001b[0m\u001b[36mMay 25, 1983\u001b[0m\u001b[36m \u001b[0m\u001b[93m \u001b[0m\u001b[35m \u001b[0m\u001b[35mStar Wars Ep. \u001b[0m\u001b[1;35mVI\u001b[0m\u001b[35m: \u001b[0m\u001b[3;35mReturn \u001b[0m\u001b[35m \u001b[0m\u001b[35m \u001b[0m\u001b[93m \u001b[0m\u001b[31m \u001b[0m\u001b[31m $32,500,000\u001b[0m\u001b[31m \u001b[0m\u001b[93m \u001b[0m\u001b[32m \u001b[0m\u001b[32m    $23,019,618\u001b[0m\u001b[32m \u001b[0m\u001b[93m \u001b[0m\u001b[34m \u001b[0m\u001b[34m  $475,106,177\u001b[0m\u001b[93m \u001b[0m\n",
       "\u001b[93m \u001b[0m             \u001b[93m \u001b[0m\u001b[35m \u001b[0m\u001b[3;35mof the Jedi\u001b[0m\u001b[35m               \u001b[0m\u001b[35m \u001b[0m\u001b[93m \u001b[0m              \u001b[93m \u001b[0m                 \u001b[93m \u001b[0m               \u001b[93m \u001b[0m\n",
       "\u001b[93m \u001b[0m\u001b[2;36mMay 19, 1999\u001b[0m\u001b[2;36m \u001b[0m\u001b[93m \u001b[0m\u001b[2;35m \u001b[0m\u001b[2;35mStar Wars Ep. \u001b[0m\u001b[1;2;35mI\u001b[0m\u001b[2;35m: \u001b[0m\u001b[2;3;35mThe \u001b[0m\u001b[2;35m     \u001b[0m\u001b[2;35m \u001b[0m\u001b[93m \u001b[0m\u001b[2;31m \u001b[0m\u001b[2;31m$115,000,000\u001b[0m\u001b[2;31m \u001b[0m\u001b[93m \u001b[0m\u001b[2;32m \u001b[0m\u001b[2;32m    $64,810,870\u001b[0m\u001b[2;32m \u001b[0m\u001b[93m \u001b[0m\u001b[2;34m \u001b[0m\u001b[2;34m$1,027,044,677\u001b[0m\u001b[93m \u001b[0m\n",
       "\u001b[93m \u001b[0m\u001b[2m             \u001b[0m\u001b[93m \u001b[0m\u001b[2;35m \u001b[0m\u001b[2;3;35mphantom Menace\u001b[0m\u001b[2;35m            \u001b[0m\u001b[2;35m \u001b[0m\u001b[93m \u001b[0m\u001b[2m              \u001b[0m\u001b[93m \u001b[0m\u001b[2m                 \u001b[0m\u001b[93m \u001b[0m\u001b[2m               \u001b[0m\u001b[93m \u001b[0m\n",
       "\u001b[93m \u001b[0m\u001b[36mMay 16, 2002\u001b[0m\u001b[36m \u001b[0m\u001b[93m \u001b[0m\u001b[35m \u001b[0m\u001b[35mStar Wars Ep. \u001b[0m\u001b[1;35mII\u001b[0m\u001b[35m: \u001b[0m\u001b[3;35mAttack \u001b[0m\u001b[35m \u001b[0m\u001b[35m \u001b[0m\u001b[93m \u001b[0m\u001b[31m \u001b[0m\u001b[31m$115,000,000\u001b[0m\u001b[31m \u001b[0m\u001b[93m \u001b[0m\u001b[32m \u001b[0m\u001b[32m    $80,027,814\u001b[0m\u001b[32m \u001b[0m\u001b[93m \u001b[0m\u001b[34m \u001b[0m\u001b[34m  $656,695,615\u001b[0m\u001b[93m \u001b[0m\n",
       "\u001b[93m \u001b[0m             \u001b[93m \u001b[0m\u001b[35m \u001b[0m\u001b[3;35mof the Clones\u001b[0m\u001b[35m             \u001b[0m\u001b[35m \u001b[0m\u001b[93m \u001b[0m              \u001b[93m \u001b[0m                 \u001b[93m \u001b[0m               \u001b[93m \u001b[0m\n",
       "\u001b[93m \u001b[0m\u001b[2;36mMay 19, 2005\u001b[0m\u001b[2;36m \u001b[0m\u001b[93m \u001b[0m\u001b[2;35m \u001b[0m\u001b[2;35mStar Wars Ep. \u001b[0m\u001b[1;2;35mIII\u001b[0m\u001b[2;35m: \u001b[0m\u001b[2;3;35mRevenge\u001b[0m\u001b[2;35m \u001b[0m\u001b[93m \u001b[0m\u001b[2;31m \u001b[0m\u001b[2;31m$115,500,000\u001b[0m\u001b[2;31m \u001b[0m\u001b[93m \u001b[0m\u001b[2;32m \u001b[0m\u001b[2;32m   $380,270,577\u001b[0m\u001b[2;32m \u001b[0m\u001b[93m \u001b[0m\u001b[2;34m \u001b[0m\u001b[2;34m  $848,998,877\u001b[0m\u001b[93m \u001b[0m\n",
       "\u001b[93m \u001b[0m\u001b[2m             \u001b[0m\u001b[93m \u001b[0m\u001b[2;35m \u001b[0m\u001b[2;3;35mof the Sith\u001b[0m\u001b[2;35m               \u001b[0m\u001b[2;35m \u001b[0m\u001b[93m \u001b[0m\u001b[2m              \u001b[0m\u001b[93m \u001b[0m\u001b[2m                 \u001b[0m\u001b[93m \u001b[0m\u001b[2m               \u001b[0m\u001b[93m \u001b[0m\n",
       "\u001b[93m                                                                                             \u001b[0m\n",
       "\u001b[93m \u001b[0m\u001b[1m            \u001b[0m\u001b[1m \u001b[0m\u001b[93m \u001b[0m\u001b[1m \u001b[0m\u001b[1m                     \u001b[0m\u001b[1mTotal\u001b[0m\u001b[1m \u001b[0m\u001b[93m \u001b[0m\u001b[1;91m \u001b[0m\u001b[1;4;91m$412,000,000\u001b[0m\u001b[1;91m \u001b[0m\u001b[93m \u001b[0m\u001b[1;92m \u001b[0m\u001b[1;92m   \u001b[0m\u001b[1;4;92m$577,703,455\u001b[0m\u001b[1;92m \u001b[0m\u001b[93m \u001b[0m\u001b[1;94m \u001b[0m\u001b[1;4;94m$4,331,212,357\u001b[0m\u001b[93m \u001b[0m\n",
       "\u001b[93m                                                                                             \u001b[0m\n",
       "\u001b[2;3m                                       Made with \u001b[0m\u001b[1;3;35mRich\u001b[0m\u001b[2;3m                                        \u001b[0m\n"
      ]
     },
     "metadata": {},
     "output_type": "display_data"
    }
   ],
   "source": [
    "\n",
    "  \n",
    "\"\"\"Same as the table_movie.py but uses Live to update\"\"\"\n",
    "import time\n",
    "from contextlib import contextmanager\n",
    "\n",
    "from rich import box\n",
    "from rich.align import Align\n",
    "from rich.console import Console\n",
    "from rich.live import Live\n",
    "from rich.measure import Measurement\n",
    "from rich.table import Table\n",
    "from rich.text import Text\n",
    "\n",
    "TABLE_DATA = [\n",
    "    [\n",
    "        \"May 25, 1977\",\n",
    "        \"Star Wars Ep. [b]IV[/]: [i]A New Hope\",\n",
    "        \"$11,000,000\",\n",
    "        \"$1,554,475\",\n",
    "        \"$775,398,007\",\n",
    "    ],\n",
    "    [\n",
    "        \"May 21, 1980\",\n",
    "        \"Star Wars Ep. [b]V[/]: [i]The Empire Strikes Back\",\n",
    "        \"$23,000,000\",\n",
    "        \"$4,910,483\",\n",
    "        \"$547,969,004\",\n",
    "    ],\n",
    "    [\n",
    "        \"May 25, 1983\",\n",
    "        \"Star Wars Ep. [b]VI[/b]: [i]Return of the Jedi\",\n",
    "        \"$32,500,000\",\n",
    "        \"$23,019,618\",\n",
    "        \"$475,106,177\",\n",
    "    ],\n",
    "    [\n",
    "        \"May 19, 1999\",\n",
    "        \"Star Wars Ep. [b]I[/b]: [i]The phantom Menace\",\n",
    "        \"$115,000,000\",\n",
    "        \"$64,810,870\",\n",
    "        \"$1,027,044,677\",\n",
    "    ],\n",
    "    [\n",
    "        \"May 16, 2002\",\n",
    "        \"Star Wars Ep. [b]II[/b]: [i]Attack of the Clones\",\n",
    "        \"$115,000,000\",\n",
    "        \"$80,027,814\",\n",
    "        \"$656,695,615\",\n",
    "    ],\n",
    "    [\n",
    "        \"May 19, 2005\",\n",
    "        \"Star Wars Ep. [b]III[/b]: [i]Revenge of the Sith\",\n",
    "        \"$115,500,000\",\n",
    "        \"$380,270,577\",\n",
    "        \"$848,998,877\",\n",
    "    ],\n",
    "]\n",
    "\n",
    "console = Console()\n",
    "\n",
    "BEAT_TIME = 0.04\n",
    "\n",
    "\n",
    "table = Table(show_footer=False)\n",
    "table_centered = Align.center(table)\n",
    "\n",
    "console.clear()\n",
    "\n",
    "table.add_column(\"Release Date\", no_wrap=True)\n",
    "table.add_column(\"Title\", Text.from_markup(\"[b]Total\", justify=\"right\"))\n",
    "\n",
    "table.add_column(\"Budget\", \"[u]$412,000,000\", no_wrap=True)\n",
    "table.add_column(\"Opening Weekend\", \"[u]$577,703,455\", no_wrap=True)\n",
    "table.add_column(\"Box Office\", \"[u]$4,331,212,357\", no_wrap=True)\n",
    "table.title = \"Star Wars Box Office\"\n",
    "\n",
    "table.title = (\n",
    "    \"[not italic]:popcorn:[/] Star Wars Box Office [not italic]:popcorn:[/]\"\n",
    ")\n",
    "\n",
    "table.caption = \"Made with Rich\"\n",
    "table.caption = \"Made with [b]Rich[/b]\"\n",
    "table.caption = \"Made with [b magenta not dim]Rich[/]\"\n",
    "\n",
    "for row in TABLE_DATA:\n",
    "    table.add_row(*row)\n",
    "\n",
    "table.show_footer = True\n",
    "\n",
    "table.columns[2].justify = \"right\"\n",
    "table.columns[3].justify = \"right\"\n",
    "table.columns[4].justify = \"right\"\n",
    "table.columns[2].header_style = \"bold red\"\n",
    "table.columns[3].header_style = \"bold green\"\n",
    "table.columns[4].header_style = \"bold blue\"\n",
    "table.columns[2].style = \"red\"\n",
    "table.columns[3].style = \"green\"\n",
    "table.columns[4].style = \"blue\"\n",
    "table.columns[0].style = \"cyan\"\n",
    "table.columns[0].header_style = \"bold cyan\"\n",
    "table.columns[1].style = \"magenta\"\n",
    "table.columns[1].header_style = \"bold magenta\"\n",
    "table.columns[2].footer_style = \"bright_red\"\n",
    "table.columns[3].footer_style = \"bright_green\"\n",
    "table.columns[4].footer_style = \"bright_blue\"\n",
    "table.row_styles = [\"none\", \"dim\"]\n",
    "\n",
    "table.border_style = \"bright_yellow\"\n",
    "\n",
    "# for box in [\n",
    "#     box.SQUARE,\n",
    "#     box.MINIMAL,\n",
    "#     box.SIMPLE,\n",
    "#     box.SIMPLE_HEAD,\n",
    "# ]:\n",
    "table.box = box.SIMPLE_HEAD\n",
    "table.pad_edge = False\n",
    "\n",
    "\n",
    "table.width = None\n",
    "\n",
    "console = Console()\n",
    "console.print(table)\n"
   ]
  },
  {
   "cell_type": "code",
   "execution_count": 42,
   "id": "83cff97e-c80a-41d5-a738-97d7fa262c09",
   "metadata": {},
   "outputs": [],
   "source": [
    "import bittensor"
   ]
  },
  {
   "cell_type": "code",
   "execution_count": 43,
   "id": "303540cb-cf9e-4c0d-9d91-2962b74280cc",
   "metadata": {},
   "outputs": [],
   "source": [
    "meta = bittensor.metagraph.Metagraph()\n",
    "meta.load()"
   ]
  },
  {
   "cell_type": "code",
   "execution_count": 119,
   "id": "53822e07-66f2-4dd1-81ff-ef6e641099fa",
   "metadata": {},
   "outputs": [],
   "source": [
    "wallet = bittensor.wallet.Wallet( path = \"~/.bittensor/wallets/jello_wallets\", name = 'jello' )"
   ]
  },
  {
   "cell_type": "code",
   "execution_count": 120,
   "id": "a38019d6-f6ab-45ea-842a-f63b292b958c",
   "metadata": {},
   "outputs": [
    {
     "name": "stdout",
     "output_type": "stream",
     "text": [
      "\u001b[32m\u001b[1mLoaded coldkey.pub: \u001b[36m0x645d0d10a4a91e56ca6d2fa23d84abfa3b0289c4abcd5992bc55019ee7d04534\u001b[0m\u001b[32m\u001b[1m\u001b[0m\n"
     ]
    }
   ],
   "source": [
    "owned_neurons = [] \n",
    "neuron_endpoints = meta.neuron_endpoints\n",
    "for uid, cold in enumerate(meta.coldkeys):\n",
    "    if cold == wallet.coldkeypub:\n",
    "        owned_neurons.append( neuron_endpoints[uid] )"
   ]
  },
  {
   "cell_type": "code",
   "execution_count": 160,
   "id": "44c918a9-26bc-4fc3-add6-03db614b6497",
   "metadata": {},
   "outputs": [],
   "source": [
    "TABLE_DATA = []\n",
    "\n",
    "total_stake = 0\n",
    "total_rank = 0\n",
    "total_incentive = 0\n",
    "for neuron in owned_neurons:\n",
    "    uid = neuron.uid\n",
    "    stake = meta.S[ uid ].item()\n",
    "    rank = meta.R[ uid ].item()\n",
    "    incentive = meta.I[ uid ].item()\n",
    "    lastemit = int(meta.block - meta.lastemit[ uid ])\n",
    "    lastemit = \"[bold green]\" + str(lastemit) if lastemit < 2500 else \"[bold red]\" + str(lastemit)\n",
    "    row = [str(neuron.uid), neuron.ip + ':' + str(neuron.port), '{:.5}'.format(stake),'{:.5}'.format(rank),  '{:.5}'.format(incentive * 14400), str(lastemit), neuron.hotkey]\n",
    "    TABLE_DATA.append(row)\n",
    "    total_stake += stake\n",
    "    total_rank += rank\n",
    "    total_incentive += incentive * 14400\n",
    "    \n",
    "total_neurons = len(owned_neurons)\n",
    "total_stake = '{:.7}'.format(total_stake)\n",
    "total_rank = '{:.7}'.format(total_rank)\n",
    "total_incentive = '{:.7}'.format(total_incentive)\n",
    "    \n"
   ]
  },
  {
   "cell_type": "code",
   "execution_count": 165,
   "id": "5df5f16c-c680-4a46-ad28-78766918c22e",
   "metadata": {},
   "outputs": [
    {
     "data": {
      "text/html": [
       "<pre style=\"white-space:pre;overflow-x:auto;line-height:normal;font-family:Menlo,'DejaVu Sans Mono',consolas,'Courier New',monospace\"></pre>\n"
      ],
      "text/plain": []
     },
     "metadata": {},
     "output_type": "display_data"
    },
    {
     "data": {
      "text/html": [
       "<pre style=\"white-space:pre;overflow-x:auto;line-height:normal;font-family:Menlo,'DejaVu Sans Mono',consolas,'Courier New',monospace\"><span style=\"font-style: italic\">                                          Neurons:                                           </span>\n",
       "<span style=\"color: #000000; text-decoration-color: #000000; font-weight: bold; text-decoration: overline\">UID</span><span style=\"font-weight: bold\">  </span><span style=\"color: #000000; text-decoration-color: #000000; font-weight: bold; text-decoration: overline\">IP</span><span style=\"font-weight: bold\">                    </span><span style=\"color: #000000; text-decoration-color: #000000; font-weight: bold; text-decoration: overline\">STAKE (τ)</span><span style=\"font-weight: bold\">    </span><span style=\"color: #000000; text-decoration-color: #000000; font-weight: bold; text-decoration: overline\">RANK (τ)</span><span style=\"font-weight: bold\">  </span><span style=\"color: #000000; text-decoration-color: #000000; font-weight: bold; text-decoration: overline\">INCENTIVE (τ/day)</span><span style=\"font-weight: bold\">  </span><span style=\"color: #000000; text-decoration-color: #000000; font-weight: bold; text-decoration: overline\">LastEmit (blocks)</span><span style=\"font-weight: bold\">  </span><span style=\"color: #000000; text-decoration-color: #000000; font-weight: bold; text-decoration: overline\">HOTK…</span>\n",
       "<span style=\"color: #7f7fbf; text-decoration-color: #7f7fbf\">524 </span><span style=\"color: #808000; text-decoration-color: #808000\"> 159.203.78.16:9992   </span><span style=\"color: #008000; text-decoration-color: #008000\">    2.0967      3.1389           0.060105 </span>            <span style=\"color: #800000; text-decoration-color: #800000; font-weight: bold\">275653</span> <span style=\"color: #7f7fbf; text-decoration-color: #7f7fbf\"> 0x70…</span>\n",
       "<span style=\"color: #7f7fbf; text-decoration-color: #7f7fbf\">525 </span><span style=\"color: #808000; text-decoration-color: #808000\"> 159.203.78.16:9994   </span><span style=\"color: #008000; text-decoration-color: #008000\">   0.83819      6.1216            0.11722 </span>            <span style=\"color: #800000; text-decoration-color: #800000; font-weight: bold\">275650</span> <span style=\"color: #7f7fbf; text-decoration-color: #7f7fbf\"> 0x66…</span>\n",
       "<span style=\"color: #7f7fbf; text-decoration-color: #7f7fbf\">526 </span><span style=\"color: #808000; text-decoration-color: #808000\"> 159.203.78.16:9993   </span><span style=\"color: #008000; text-decoration-color: #008000\">     0.703      1.0284           0.019692 </span>            <span style=\"color: #800000; text-decoration-color: #800000; font-weight: bold\">275647</span> <span style=\"color: #7f7fbf; text-decoration-color: #7f7fbf\"> 0x28…</span>\n",
       "<span style=\"color: #7f7fbf; text-decoration-color: #7f7fbf\">527 </span><span style=\"color: #808000; text-decoration-color: #808000\"> 159.203.78.16:9995   </span><span style=\"color: #008000; text-decoration-color: #008000\">    1.8902      5.9614            0.11415 </span>            <span style=\"color: #800000; text-decoration-color: #800000; font-weight: bold\">275644</span> <span style=\"color: #7f7fbf; text-decoration-color: #7f7fbf\"> 0xa4…</span>\n",
       "<span style=\"color: #7f7fbf; text-decoration-color: #7f7fbf\">528 </span><span style=\"color: #808000; text-decoration-color: #808000\"> 159.203.78.16:9996   </span><span style=\"color: #008000; text-decoration-color: #008000\">    1.0282      3.0766           0.058912 </span>            <span style=\"color: #800000; text-decoration-color: #800000; font-weight: bold\">275641</span> <span style=\"color: #7f7fbf; text-decoration-color: #7f7fbf\"> 0x84…</span>\n",
       "<span style=\"color: #7f7fbf; text-decoration-color: #7f7fbf\">529 </span><span style=\"color: #808000; text-decoration-color: #808000\"> 159.203.78.16:9991   </span><span style=\"color: #008000; text-decoration-color: #008000\">    6.7626      2291.6              43.88 </span>               <span style=\"color: #008000; text-decoration-color: #008000; font-weight: bold\">896</span> <span style=\"color: #7f7fbf; text-decoration-color: #7f7fbf\"> 0xe6…</span>\n",
       "<span style=\"color: #7f7fbf; text-decoration-color: #7f7fbf\">530 </span><span style=\"color: #808000; text-decoration-color: #808000\"> 104.131.49.208:9992  </span><span style=\"color: #008000; text-decoration-color: #008000\">   0.83078      5.8338            0.11171 </span>            <span style=\"color: #800000; text-decoration-color: #800000; font-weight: bold\">275635</span> <span style=\"color: #7f7fbf; text-decoration-color: #7f7fbf\"> 0x28…</span>\n",
       "<span style=\"color: #7f7fbf; text-decoration-color: #7f7fbf\">531 </span><span style=\"color: #808000; text-decoration-color: #808000\"> 104.131.49.208:9993  </span><span style=\"color: #008000; text-decoration-color: #008000\">    7.9865      21.021            0.40252 </span>            <span style=\"color: #800000; text-decoration-color: #800000; font-weight: bold\">275632</span> <span style=\"color: #7f7fbf; text-decoration-color: #7f7fbf\"> 0x28…</span>\n",
       "<span style=\"color: #7f7fbf; text-decoration-color: #7f7fbf\">532 </span><span style=\"color: #808000; text-decoration-color: #808000\"> 104.131.49.208:9994  </span><span style=\"color: #008000; text-decoration-color: #008000\">    1.9281      7.7153            0.14774 </span>            <span style=\"color: #800000; text-decoration-color: #800000; font-weight: bold\">275629</span> <span style=\"color: #7f7fbf; text-decoration-color: #7f7fbf\"> 0x9a…</span>\n",
       "<span style=\"color: #7f7fbf; text-decoration-color: #7f7fbf\">533 </span><span style=\"color: #808000; text-decoration-color: #808000\"> 104.131.49.208:9995  </span><span style=\"color: #008000; text-decoration-color: #008000\">     2.152      2.5374           0.048587 </span>            <span style=\"color: #800000; text-decoration-color: #800000; font-weight: bold\">351753</span> <span style=\"color: #7f7fbf; text-decoration-color: #7f7fbf\"> 0x10…</span>\n",
       "<span style=\"color: #7f7fbf; text-decoration-color: #7f7fbf\">534 </span><span style=\"color: #808000; text-decoration-color: #808000\"> 104.131.49.208:9991  </span><span style=\"color: #008000; text-decoration-color: #008000\">    10.263      4083.8             78.199 </span>              <span style=\"color: #800000; text-decoration-color: #800000; font-weight: bold\">3223</span> <span style=\"color: #7f7fbf; text-decoration-color: #7f7fbf\"> 0x56…</span>\n",
       "<span style=\"color: #7f7fbf; text-decoration-color: #7f7fbf\">535 </span><span style=\"color: #808000; text-decoration-color: #808000\"> 104.131.49.208:9996  </span><span style=\"color: #008000; text-decoration-color: #008000\">    1.0295      1.3679           0.026193 </span>            <span style=\"color: #800000; text-decoration-color: #800000; font-weight: bold\">351739</span> <span style=\"color: #7f7fbf; text-decoration-color: #7f7fbf\"> 0x00…</span>\n",
       "<span style=\"color: #7f7fbf; text-decoration-color: #7f7fbf\">536 </span><span style=\"color: #808000; text-decoration-color: #808000\"> 159.203.78.24:9992   </span><span style=\"color: #008000; text-decoration-color: #008000\">    4.8467      4.9792           0.095344 </span>            <span style=\"color: #800000; text-decoration-color: #800000; font-weight: bold\">351690</span> <span style=\"color: #7f7fbf; text-decoration-color: #7f7fbf\"> 0x86…</span>\n",
       "<span style=\"color: #7f7fbf; text-decoration-color: #7f7fbf\">537 </span><span style=\"color: #808000; text-decoration-color: #808000\"> 159.203.78.24:9994   </span><span style=\"color: #008000; text-decoration-color: #008000\">    2.3069      3.3237           0.063644 </span>            <span style=\"color: #800000; text-decoration-color: #800000; font-weight: bold\">351690</span> <span style=\"color: #7f7fbf; text-decoration-color: #7f7fbf\"> 0xe8…</span>\n",
       "<span style=\"color: #7f7fbf; text-decoration-color: #7f7fbf\">538 </span><span style=\"color: #808000; text-decoration-color: #808000\"> 159.203.78.24:9993   </span><span style=\"color: #008000; text-decoration-color: #008000\">    10.533      11.937            0.22858 </span>            <span style=\"color: #800000; text-decoration-color: #800000; font-weight: bold\">234132</span> <span style=\"color: #7f7fbf; text-decoration-color: #7f7fbf\"> 0x7e…</span>\n",
       "<span style=\"color: #7f7fbf; text-decoration-color: #7f7fbf\">539 </span><span style=\"color: #808000; text-decoration-color: #808000\"> 159.203.78.24:9995   </span><span style=\"color: #008000; text-decoration-color: #008000\">    2.4996      2.2316           0.042731 </span>            <span style=\"color: #800000; text-decoration-color: #800000; font-weight: bold\">333823</span> <span style=\"color: #7f7fbf; text-decoration-color: #7f7fbf\"> 0x22…</span>\n",
       "<span style=\"color: #7f7fbf; text-decoration-color: #7f7fbf\">540 </span><span style=\"color: #808000; text-decoration-color: #808000\"> 159.203.78.24:9991   </span><span style=\"color: #008000; text-decoration-color: #008000\">    6.6909      463.22             8.8699 </span>               <span style=\"color: #008000; text-decoration-color: #008000; font-weight: bold\">454</span> <span style=\"color: #7f7fbf; text-decoration-color: #7f7fbf\"> 0xa2…</span>\n",
       "<span style=\"color: #7f7fbf; text-decoration-color: #7f7fbf\">541 </span><span style=\"color: #808000; text-decoration-color: #808000\"> 159.203.78.24:9996   </span><span style=\"color: #008000; text-decoration-color: #008000\">    1.7353      2.2774           0.043609 </span>            <span style=\"color: #800000; text-decoration-color: #800000; font-weight: bold\">351665</span> <span style=\"color: #7f7fbf; text-decoration-color: #7f7fbf\"> 0x4c…</span>\n",
       "<span style=\"color: #7f7fbf; text-decoration-color: #7f7fbf\">542 </span><span style=\"color: #808000; text-decoration-color: #808000\"> 104.131.108.5:9992   </span><span style=\"color: #008000; text-decoration-color: #008000\">    2.6809      2.7914           0.053452 </span>            <span style=\"color: #800000; text-decoration-color: #800000; font-weight: bold\">351590</span> <span style=\"color: #7f7fbf; text-decoration-color: #7f7fbf\"> 0x12…</span>\n",
       "<span style=\"color: #7f7fbf; text-decoration-color: #7f7fbf\">543 </span><span style=\"color: #808000; text-decoration-color: #808000\"> 104.131.108.5:9994   </span><span style=\"color: #008000; text-decoration-color: #008000\">     12.26      7.1483            0.13688 </span>            <span style=\"color: #800000; text-decoration-color: #800000; font-weight: bold\">294683</span> <span style=\"color: #7f7fbf; text-decoration-color: #7f7fbf\"> 0x0e…</span>\n",
       "<span style=\"color: #7f7fbf; text-decoration-color: #7f7fbf\">544 </span><span style=\"color: #808000; text-decoration-color: #808000\"> 104.131.108.5:9993   </span><span style=\"color: #008000; text-decoration-color: #008000\">     7.315      7.5005            0.14362 </span>            <span style=\"color: #800000; text-decoration-color: #800000; font-weight: bold\">263347</span> <span style=\"color: #7f7fbf; text-decoration-color: #7f7fbf\"> 0x28…</span>\n",
       "<span style=\"color: #7f7fbf; text-decoration-color: #7f7fbf\">545 </span><span style=\"color: #808000; text-decoration-color: #808000\"> 104.131.108.5:9995   </span><span style=\"color: #008000; text-decoration-color: #008000\">    3.5039      2.9416           0.056326 </span>            <span style=\"color: #800000; text-decoration-color: #800000; font-weight: bold\">302359</span> <span style=\"color: #7f7fbf; text-decoration-color: #7f7fbf\"> 0xca…</span>\n",
       "<span style=\"color: #7f7fbf; text-decoration-color: #7f7fbf\">546 </span><span style=\"color: #808000; text-decoration-color: #808000\"> 104.131.108.5:9996   </span><span style=\"color: #008000; text-decoration-color: #008000\">    1.4668      2.5049           0.047965 </span>            <span style=\"color: #800000; text-decoration-color: #800000; font-weight: bold\">351566</span> <span style=\"color: #7f7fbf; text-decoration-color: #7f7fbf\"> 0x36…</span>\n",
       "<span style=\"color: #7f7fbf; text-decoration-color: #7f7fbf\">547 </span><span style=\"color: #808000; text-decoration-color: #808000\"> 104.131.78.115:9991  </span><span style=\"color: #008000; text-decoration-color: #008000\">    3.2213      151.89             2.9084 </span>              <span style=\"color: #008000; text-decoration-color: #008000; font-weight: bold\">2342</span> <span style=\"color: #7f7fbf; text-decoration-color: #7f7fbf\"> 0x48…</span>\n",
       "<span style=\"color: #7f7fbf; text-decoration-color: #7f7fbf\">548 </span><span style=\"color: #808000; text-decoration-color: #808000\"> 104.131.78.115:9992  </span><span style=\"color: #008000; text-decoration-color: #008000\">    1.0571      1.1759           0.022516 </span>            <span style=\"color: #800000; text-decoration-color: #800000; font-weight: bold\">351544</span> <span style=\"color: #7f7fbf; text-decoration-color: #7f7fbf\"> 0xf2…</span>\n",
       "<span style=\"color: #7f7fbf; text-decoration-color: #7f7fbf\">549 </span><span style=\"color: #808000; text-decoration-color: #808000\"> 104.131.78.115:9994  </span><span style=\"color: #008000; text-decoration-color: #008000\">    10.123      8.3093            0.15911 </span>            <span style=\"color: #800000; text-decoration-color: #800000; font-weight: bold\">310413</span> <span style=\"color: #7f7fbf; text-decoration-color: #7f7fbf\"> 0xfe…</span>\n",
       "<span style=\"color: #7f7fbf; text-decoration-color: #7f7fbf\">550 </span><span style=\"color: #808000; text-decoration-color: #808000\"> 104.131.78.115:9993  </span><span style=\"color: #008000; text-decoration-color: #008000\">    12.352      11.138            0.21327 </span>            <span style=\"color: #800000; text-decoration-color: #800000; font-weight: bold\">243129</span> <span style=\"color: #7f7fbf; text-decoration-color: #7f7fbf\"> 0x80…</span>\n",
       "<span style=\"color: #7f7fbf; text-decoration-color: #7f7fbf\">551 </span><span style=\"color: #808000; text-decoration-color: #808000\"> 104.131.78.115:9995  </span><span style=\"color: #008000; text-decoration-color: #008000\">    3.6604      4.4049           0.084346 </span>            <span style=\"color: #800000; text-decoration-color: #800000; font-weight: bold\">299055</span> <span style=\"color: #7f7fbf; text-decoration-color: #7f7fbf\"> 0x08…</span>\n",
       "<span style=\"color: #7f7fbf; text-decoration-color: #7f7fbf\">552 </span><span style=\"color: #808000; text-decoration-color: #808000\"> 104.131.78.115:9996  </span><span style=\"color: #008000; text-decoration-color: #008000\">    4.8393      5.8484            0.11199 </span>            <span style=\"color: #800000; text-decoration-color: #800000; font-weight: bold\">351524</span> <span style=\"color: #7f7fbf; text-decoration-color: #7f7fbf\"> 0xc8…</span>\n",
       "<span style=\"color: #7f7fbf; text-decoration-color: #7f7fbf\">553 </span><span style=\"color: #808000; text-decoration-color: #808000\"> 104.236.30.109:9992  </span><span style=\"color: #008000; text-decoration-color: #008000\">    1.1709      2.3594           0.045179 </span>            <span style=\"color: #800000; text-decoration-color: #800000; font-weight: bold\">351313</span> <span style=\"color: #7f7fbf; text-decoration-color: #7f7fbf\"> 0xf8…</span>\n",
       "<span style=\"color: #7f7fbf; text-decoration-color: #7f7fbf\">554 </span><span style=\"color: #808000; text-decoration-color: #808000\"> 104.236.30.109:9994  </span><span style=\"color: #008000; text-decoration-color: #008000\">    7.8588      7.8878            0.15104 </span>            <span style=\"color: #800000; text-decoration-color: #800000; font-weight: bold\">299065</span> <span style=\"color: #7f7fbf; text-decoration-color: #7f7fbf\"> 0x0a…</span>\n",
       "<span style=\"color: #7f7fbf; text-decoration-color: #7f7fbf\">555 </span><span style=\"color: #808000; text-decoration-color: #808000\"> 104.236.30.109:9993  </span><span style=\"color: #008000; text-decoration-color: #008000\">    2.2843      2.3913           0.045789 </span>            <span style=\"color: #800000; text-decoration-color: #800000; font-weight: bold\">351312</span> <span style=\"color: #7f7fbf; text-decoration-color: #7f7fbf\"> 0xe2…</span>\n",
       "<span style=\"color: #7f7fbf; text-decoration-color: #7f7fbf\">556 </span><span style=\"color: #808000; text-decoration-color: #808000\"> 104.236.30.109:9995  </span><span style=\"color: #008000; text-decoration-color: #008000\">    3.8045      3.0923           0.059213 </span>            <span style=\"color: #800000; text-decoration-color: #800000; font-weight: bold\">297433</span> <span style=\"color: #7f7fbf; text-decoration-color: #7f7fbf\"> 0x62…</span>\n",
       "<span style=\"color: #7f7fbf; text-decoration-color: #7f7fbf\">557 </span><span style=\"color: #808000; text-decoration-color: #808000\"> 104.236.30.102:9992  </span><span style=\"color: #008000; text-decoration-color: #008000\">    4.4008      4.5071           0.086303 </span>            <span style=\"color: #800000; text-decoration-color: #800000; font-weight: bold\">351296</span> <span style=\"color: #7f7fbf; text-decoration-color: #7f7fbf\"> 0x7a…</span>\n",
       "<span style=\"color: #7f7fbf; text-decoration-color: #7f7fbf\">558 </span><span style=\"color: #808000; text-decoration-color: #808000\"> 104.236.30.102:9994  </span><span style=\"color: #008000; text-decoration-color: #008000\">    15.037      7.4052             0.1418 </span>            <span style=\"color: #800000; text-decoration-color: #800000; font-weight: bold\">298301</span> <span style=\"color: #7f7fbf; text-decoration-color: #7f7fbf\"> 0x3e…</span>\n",
       "<span style=\"color: #7f7fbf; text-decoration-color: #7f7fbf\">559 </span><span style=\"color: #808000; text-decoration-color: #808000\"> 104.236.30.102:9993  </span><span style=\"color: #008000; text-decoration-color: #008000\">    13.636      16.726            0.32027 </span>            <span style=\"color: #800000; text-decoration-color: #800000; font-weight: bold\">275794</span> <span style=\"color: #7f7fbf; text-decoration-color: #7f7fbf\"> 0xe2…</span>\n",
       "<span style=\"color: #7f7fbf; text-decoration-color: #7f7fbf\">560 </span><span style=\"color: #808000; text-decoration-color: #808000\"> 104.236.30.102:9995  </span><span style=\"color: #008000; text-decoration-color: #008000\">     7.188      4.0434           0.077425 </span>            <span style=\"color: #800000; text-decoration-color: #800000; font-weight: bold\">332460</span> <span style=\"color: #7f7fbf; text-decoration-color: #7f7fbf\"> 0xcc…</span>\n",
       "<span style=\"color: #7f7fbf; text-decoration-color: #7f7fbf\">561 </span><span style=\"color: #808000; text-decoration-color: #808000\"> 104.236.30.109:9991  </span><span style=\"color: #008000; text-decoration-color: #008000\">    29.637  1.0914e+04             208.99 </span>              <span style=\"color: #008000; text-decoration-color: #008000; font-weight: bold\">1419</span> <span style=\"color: #7f7fbf; text-decoration-color: #7f7fbf\"> 0x1e…</span>\n",
       "<span style=\"color: #7f7fbf; text-decoration-color: #7f7fbf\">562 </span><span style=\"color: #808000; text-decoration-color: #808000\"> 104.236.30.109:9996  </span><span style=\"color: #008000; text-decoration-color: #008000\">     5.184      5.2985            0.10146 </span>            <span style=\"color: #800000; text-decoration-color: #800000; font-weight: bold\">351286</span> <span style=\"color: #7f7fbf; text-decoration-color: #7f7fbf\"> 0x8e…</span>\n",
       "<span style=\"color: #7f7fbf; text-decoration-color: #7f7fbf\">563 </span><span style=\"color: #808000; text-decoration-color: #808000\"> 104.236.30.102:9991  </span><span style=\"color: #008000; text-decoration-color: #008000\">    73.164      5266.3             100.84 </span>              <span style=\"color: #008000; text-decoration-color: #008000; font-weight: bold\">1885</span> <span style=\"color: #7f7fbf; text-decoration-color: #7f7fbf\"> 0x18…</span>\n",
       "<span style=\"color: #7f7fbf; text-decoration-color: #7f7fbf\">564 </span><span style=\"color: #808000; text-decoration-color: #808000\"> 104.236.30.102:9996  </span><span style=\"color: #008000; text-decoration-color: #008000\">    1.5839      1.6905            0.03237 </span>            <span style=\"color: #800000; text-decoration-color: #800000; font-weight: bold\">351270</span> <span style=\"color: #7f7fbf; text-decoration-color: #7f7fbf\"> 0xe6…</span>\n",
       "<span style=\"color: #7f7fbf; text-decoration-color: #7f7fbf\">565 </span><span style=\"color: #808000; text-decoration-color: #808000\"> 104.131.174.154:9992 </span><span style=\"color: #008000; text-decoration-color: #008000\">    1.0654      1.2284           0.023522 </span>            <span style=\"color: #800000; text-decoration-color: #800000; font-weight: bold\">351234</span> <span style=\"color: #7f7fbf; text-decoration-color: #7f7fbf\"> 0x3a…</span>\n",
       "<span style=\"color: #7f7fbf; text-decoration-color: #7f7fbf\">566 </span><span style=\"color: #808000; text-decoration-color: #808000\"> 104.131.174.154:9994 </span><span style=\"color: #008000; text-decoration-color: #008000\">    7.5804      7.7221            0.14786 </span>            <span style=\"color: #800000; text-decoration-color: #800000; font-weight: bold\">351234</span> <span style=\"color: #7f7fbf; text-decoration-color: #7f7fbf\"> 0x4c…</span>\n",
       "<span style=\"color: #7f7fbf; text-decoration-color: #7f7fbf\">567 </span><span style=\"color: #808000; text-decoration-color: #808000\"> 104.131.174.154:9993 </span><span style=\"color: #008000; text-decoration-color: #008000\">    20.002       12.15            0.23265 </span>            <span style=\"color: #800000; text-decoration-color: #800000; font-weight: bold\">263342</span> <span style=\"color: #7f7fbf; text-decoration-color: #7f7fbf\"> 0x80…</span>\n",
       "<span style=\"color: #7f7fbf; text-decoration-color: #7f7fbf\">568 </span><span style=\"color: #808000; text-decoration-color: #808000\"> 104.131.174.154:9995 </span><span style=\"color: #008000; text-decoration-color: #008000\">    4.8138      3.3034           0.063254 </span>            <span style=\"color: #800000; text-decoration-color: #800000; font-weight: bold\">332162</span> <span style=\"color: #7f7fbf; text-decoration-color: #7f7fbf\"> 0xc0…</span>\n",
       "<span style=\"color: #7f7fbf; text-decoration-color: #7f7fbf\">569 </span><span style=\"color: #808000; text-decoration-color: #808000\"> 104.131.174.154:9991 </span><span style=\"color: #008000; text-decoration-color: #008000\">    12.638      1559.5             29.861 </span>              <span style=\"color: #800000; text-decoration-color: #800000; font-weight: bold\">6663</span> <span style=\"color: #7f7fbf; text-decoration-color: #7f7fbf\"> 0xbc…</span>\n",
       "<span style=\"color: #7f7fbf; text-decoration-color: #7f7fbf\">570 </span><span style=\"color: #808000; text-decoration-color: #808000\"> 104.131.174.154:9996 </span><span style=\"color: #008000; text-decoration-color: #008000\">     2.627      3.6297           0.069503 </span>            <span style=\"color: #800000; text-decoration-color: #800000; font-weight: bold\">351214</span> <span style=\"color: #7f7fbf; text-decoration-color: #7f7fbf\"> 0xda…</span>\n",
       "<span style=\"color: #7f7fbf; text-decoration-color: #7f7fbf\">571 </span><span style=\"color: #808000; text-decoration-color: #808000\"> 104.131.172.170:9992 </span><span style=\"color: #008000; text-decoration-color: #008000\">    8.9261      5.7149            0.10943 </span>            <span style=\"color: #800000; text-decoration-color: #800000; font-weight: bold\">334839</span> <span style=\"color: #7f7fbf; text-decoration-color: #7f7fbf\"> 0x02…</span>\n",
       "<span style=\"color: #7f7fbf; text-decoration-color: #7f7fbf\">572 </span><span style=\"color: #808000; text-decoration-color: #808000\"> 104.131.172.170:9993 </span><span style=\"color: #008000; text-decoration-color: #008000\">    20.214       19.67            0.37664 </span>            <span style=\"color: #800000; text-decoration-color: #800000; font-weight: bold\">287082</span> <span style=\"color: #7f7fbf; text-decoration-color: #7f7fbf\"> 0x38…</span>\n",
       "<span style=\"color: #7f7fbf; text-decoration-color: #7f7fbf\">573 </span><span style=\"color: #808000; text-decoration-color: #808000\"> 104.131.172.170:9991 </span><span style=\"color: #008000; text-decoration-color: #008000\">    1.3032      1.4274           0.027332 </span>            <span style=\"color: #800000; text-decoration-color: #800000; font-weight: bold\">350981</span> <span style=\"color: #7f7fbf; text-decoration-color: #7f7fbf\"> 0x2e…</span>\n",
       "<span style=\"color: #7f7fbf; text-decoration-color: #7f7fbf\">574 </span><span style=\"color: #808000; text-decoration-color: #808000\"> 104.236.18.197:9992  </span><span style=\"color: #008000; text-decoration-color: #008000\">    6.1012      6.2208            0.11912 </span>            <span style=\"color: #800000; text-decoration-color: #800000; font-weight: bold\">335121</span> <span style=\"color: #7f7fbf; text-decoration-color: #7f7fbf\"> 0x6a…</span>\n",
       "<span style=\"color: #7f7fbf; text-decoration-color: #7f7fbf\">575 </span><span style=\"color: #808000; text-decoration-color: #808000\"> 104.236.18.197:9993  </span><span style=\"color: #008000; text-decoration-color: #008000\">    13.755      8.9356             0.1711 </span>            <span style=\"color: #800000; text-decoration-color: #800000; font-weight: bold\">292293</span> <span style=\"color: #7f7fbf; text-decoration-color: #7f7fbf\"> 0xc2…</span>\n",
       "<span style=\"color: #7f7fbf; text-decoration-color: #7f7fbf\">576 </span><span style=\"color: #808000; text-decoration-color: #808000\"> 104.236.18.197:9991  </span><span style=\"color: #008000; text-decoration-color: #008000\">    3.2775      4.2759           0.081876 </span>            <span style=\"color: #800000; text-decoration-color: #800000; font-weight: bold\">350957</span> <span style=\"color: #7f7fbf; text-decoration-color: #7f7fbf\"> 0x62…</span>\n",
       "<span style=\"color: #000000; text-decoration-color: #000000; font-weight: bold; text-decoration: overline\">53  </span><span style=\"font-weight: bold\">                      </span><span style=\"color: #000000; text-decoration-color: #000000; font-weight: bold; text-decoration: overline\">   395.853    24996.42             478.64 </span><span style=\"font-weight: bold\">                         </span>\n",
       "</pre>\n"
      ],
      "text/plain": [
       "\u001b[3m                                          Neurons:                                           \u001b[0m\n",
       "\u001b[1;53;30mUID\u001b[0m\u001b[1m \u001b[0m\u001b[1m \u001b[0m\u001b[1;53;30mIP\u001b[0m\u001b[1m                  \u001b[0m\u001b[1m \u001b[0m\u001b[1m \u001b[0m\u001b[1;53;30mSTAKE (τ)\u001b[0m\u001b[1m \u001b[0m\u001b[1m \u001b[0m\u001b[1m  \u001b[0m\u001b[1;53;30mRANK (τ)\u001b[0m\u001b[1m \u001b[0m\u001b[1m \u001b[0m\u001b[1;53;30mINCENTIVE (τ/day)\u001b[0m\u001b[1m \u001b[0m\u001b[1m \u001b[0m\u001b[1;53;30mLastEmit (blocks)\u001b[0m\u001b[1m \u001b[0m\u001b[1m \u001b[0m\u001b[1;53;30mHOTK…\u001b[0m\n",
       "\u001b[2;34m524\u001b[0m\u001b[2;34m \u001b[0m\u001b[33m \u001b[0m\u001b[33m159.203.78.16:9992  \u001b[0m\u001b[33m \u001b[0m\u001b[32m \u001b[0m\u001b[32m   2.0967\u001b[0m\u001b[32m \u001b[0m\u001b[32m \u001b[0m\u001b[32m    3.1389\u001b[0m\u001b[32m \u001b[0m\u001b[32m \u001b[0m\u001b[32m         0.060105\u001b[0m\u001b[32m \u001b[0m            \u001b[1;31m275653\u001b[0m \u001b[2;34m \u001b[0m\u001b[2;34m0x70…\u001b[0m\n",
       "\u001b[2;34m525\u001b[0m\u001b[2;34m \u001b[0m\u001b[33m \u001b[0m\u001b[33m159.203.78.16:9994  \u001b[0m\u001b[33m \u001b[0m\u001b[32m \u001b[0m\u001b[32m  0.83819\u001b[0m\u001b[32m \u001b[0m\u001b[32m \u001b[0m\u001b[32m    6.1216\u001b[0m\u001b[32m \u001b[0m\u001b[32m \u001b[0m\u001b[32m          0.11722\u001b[0m\u001b[32m \u001b[0m            \u001b[1;31m275650\u001b[0m \u001b[2;34m \u001b[0m\u001b[2;34m0x66…\u001b[0m\n",
       "\u001b[2;34m526\u001b[0m\u001b[2;34m \u001b[0m\u001b[33m \u001b[0m\u001b[33m159.203.78.16:9993  \u001b[0m\u001b[33m \u001b[0m\u001b[32m \u001b[0m\u001b[32m    0.703\u001b[0m\u001b[32m \u001b[0m\u001b[32m \u001b[0m\u001b[32m    1.0284\u001b[0m\u001b[32m \u001b[0m\u001b[32m \u001b[0m\u001b[32m         0.019692\u001b[0m\u001b[32m \u001b[0m            \u001b[1;31m275647\u001b[0m \u001b[2;34m \u001b[0m\u001b[2;34m0x28…\u001b[0m\n",
       "\u001b[2;34m527\u001b[0m\u001b[2;34m \u001b[0m\u001b[33m \u001b[0m\u001b[33m159.203.78.16:9995  \u001b[0m\u001b[33m \u001b[0m\u001b[32m \u001b[0m\u001b[32m   1.8902\u001b[0m\u001b[32m \u001b[0m\u001b[32m \u001b[0m\u001b[32m    5.9614\u001b[0m\u001b[32m \u001b[0m\u001b[32m \u001b[0m\u001b[32m          0.11415\u001b[0m\u001b[32m \u001b[0m            \u001b[1;31m275644\u001b[0m \u001b[2;34m \u001b[0m\u001b[2;34m0xa4…\u001b[0m\n",
       "\u001b[2;34m528\u001b[0m\u001b[2;34m \u001b[0m\u001b[33m \u001b[0m\u001b[33m159.203.78.16:9996  \u001b[0m\u001b[33m \u001b[0m\u001b[32m \u001b[0m\u001b[32m   1.0282\u001b[0m\u001b[32m \u001b[0m\u001b[32m \u001b[0m\u001b[32m    3.0766\u001b[0m\u001b[32m \u001b[0m\u001b[32m \u001b[0m\u001b[32m         0.058912\u001b[0m\u001b[32m \u001b[0m            \u001b[1;31m275641\u001b[0m \u001b[2;34m \u001b[0m\u001b[2;34m0x84…\u001b[0m\n",
       "\u001b[2;34m529\u001b[0m\u001b[2;34m \u001b[0m\u001b[33m \u001b[0m\u001b[33m159.203.78.16:9991  \u001b[0m\u001b[33m \u001b[0m\u001b[32m \u001b[0m\u001b[32m   6.7626\u001b[0m\u001b[32m \u001b[0m\u001b[32m \u001b[0m\u001b[32m    2291.6\u001b[0m\u001b[32m \u001b[0m\u001b[32m \u001b[0m\u001b[32m            43.88\u001b[0m\u001b[32m \u001b[0m               \u001b[1;32m896\u001b[0m \u001b[2;34m \u001b[0m\u001b[2;34m0xe6…\u001b[0m\n",
       "\u001b[2;34m530\u001b[0m\u001b[2;34m \u001b[0m\u001b[33m \u001b[0m\u001b[33m104.131.49.208:9992 \u001b[0m\u001b[33m \u001b[0m\u001b[32m \u001b[0m\u001b[32m  0.83078\u001b[0m\u001b[32m \u001b[0m\u001b[32m \u001b[0m\u001b[32m    5.8338\u001b[0m\u001b[32m \u001b[0m\u001b[32m \u001b[0m\u001b[32m          0.11171\u001b[0m\u001b[32m \u001b[0m            \u001b[1;31m275635\u001b[0m \u001b[2;34m \u001b[0m\u001b[2;34m0x28…\u001b[0m\n",
       "\u001b[2;34m531\u001b[0m\u001b[2;34m \u001b[0m\u001b[33m \u001b[0m\u001b[33m104.131.49.208:9993 \u001b[0m\u001b[33m \u001b[0m\u001b[32m \u001b[0m\u001b[32m   7.9865\u001b[0m\u001b[32m \u001b[0m\u001b[32m \u001b[0m\u001b[32m    21.021\u001b[0m\u001b[32m \u001b[0m\u001b[32m \u001b[0m\u001b[32m          0.40252\u001b[0m\u001b[32m \u001b[0m            \u001b[1;31m275632\u001b[0m \u001b[2;34m \u001b[0m\u001b[2;34m0x28…\u001b[0m\n",
       "\u001b[2;34m532\u001b[0m\u001b[2;34m \u001b[0m\u001b[33m \u001b[0m\u001b[33m104.131.49.208:9994 \u001b[0m\u001b[33m \u001b[0m\u001b[32m \u001b[0m\u001b[32m   1.9281\u001b[0m\u001b[32m \u001b[0m\u001b[32m \u001b[0m\u001b[32m    7.7153\u001b[0m\u001b[32m \u001b[0m\u001b[32m \u001b[0m\u001b[32m          0.14774\u001b[0m\u001b[32m \u001b[0m            \u001b[1;31m275629\u001b[0m \u001b[2;34m \u001b[0m\u001b[2;34m0x9a…\u001b[0m\n",
       "\u001b[2;34m533\u001b[0m\u001b[2;34m \u001b[0m\u001b[33m \u001b[0m\u001b[33m104.131.49.208:9995 \u001b[0m\u001b[33m \u001b[0m\u001b[32m \u001b[0m\u001b[32m    2.152\u001b[0m\u001b[32m \u001b[0m\u001b[32m \u001b[0m\u001b[32m    2.5374\u001b[0m\u001b[32m \u001b[0m\u001b[32m \u001b[0m\u001b[32m         0.048587\u001b[0m\u001b[32m \u001b[0m            \u001b[1;31m351753\u001b[0m \u001b[2;34m \u001b[0m\u001b[2;34m0x10…\u001b[0m\n",
       "\u001b[2;34m534\u001b[0m\u001b[2;34m \u001b[0m\u001b[33m \u001b[0m\u001b[33m104.131.49.208:9991 \u001b[0m\u001b[33m \u001b[0m\u001b[32m \u001b[0m\u001b[32m   10.263\u001b[0m\u001b[32m \u001b[0m\u001b[32m \u001b[0m\u001b[32m    4083.8\u001b[0m\u001b[32m \u001b[0m\u001b[32m \u001b[0m\u001b[32m           78.199\u001b[0m\u001b[32m \u001b[0m              \u001b[1;31m3223\u001b[0m \u001b[2;34m \u001b[0m\u001b[2;34m0x56…\u001b[0m\n",
       "\u001b[2;34m535\u001b[0m\u001b[2;34m \u001b[0m\u001b[33m \u001b[0m\u001b[33m104.131.49.208:9996 \u001b[0m\u001b[33m \u001b[0m\u001b[32m \u001b[0m\u001b[32m   1.0295\u001b[0m\u001b[32m \u001b[0m\u001b[32m \u001b[0m\u001b[32m    1.3679\u001b[0m\u001b[32m \u001b[0m\u001b[32m \u001b[0m\u001b[32m         0.026193\u001b[0m\u001b[32m \u001b[0m            \u001b[1;31m351739\u001b[0m \u001b[2;34m \u001b[0m\u001b[2;34m0x00…\u001b[0m\n",
       "\u001b[2;34m536\u001b[0m\u001b[2;34m \u001b[0m\u001b[33m \u001b[0m\u001b[33m159.203.78.24:9992  \u001b[0m\u001b[33m \u001b[0m\u001b[32m \u001b[0m\u001b[32m   4.8467\u001b[0m\u001b[32m \u001b[0m\u001b[32m \u001b[0m\u001b[32m    4.9792\u001b[0m\u001b[32m \u001b[0m\u001b[32m \u001b[0m\u001b[32m         0.095344\u001b[0m\u001b[32m \u001b[0m            \u001b[1;31m351690\u001b[0m \u001b[2;34m \u001b[0m\u001b[2;34m0x86…\u001b[0m\n",
       "\u001b[2;34m537\u001b[0m\u001b[2;34m \u001b[0m\u001b[33m \u001b[0m\u001b[33m159.203.78.24:9994  \u001b[0m\u001b[33m \u001b[0m\u001b[32m \u001b[0m\u001b[32m   2.3069\u001b[0m\u001b[32m \u001b[0m\u001b[32m \u001b[0m\u001b[32m    3.3237\u001b[0m\u001b[32m \u001b[0m\u001b[32m \u001b[0m\u001b[32m         0.063644\u001b[0m\u001b[32m \u001b[0m            \u001b[1;31m351690\u001b[0m \u001b[2;34m \u001b[0m\u001b[2;34m0xe8…\u001b[0m\n",
       "\u001b[2;34m538\u001b[0m\u001b[2;34m \u001b[0m\u001b[33m \u001b[0m\u001b[33m159.203.78.24:9993  \u001b[0m\u001b[33m \u001b[0m\u001b[32m \u001b[0m\u001b[32m   10.533\u001b[0m\u001b[32m \u001b[0m\u001b[32m \u001b[0m\u001b[32m    11.937\u001b[0m\u001b[32m \u001b[0m\u001b[32m \u001b[0m\u001b[32m          0.22858\u001b[0m\u001b[32m \u001b[0m            \u001b[1;31m234132\u001b[0m \u001b[2;34m \u001b[0m\u001b[2;34m0x7e…\u001b[0m\n",
       "\u001b[2;34m539\u001b[0m\u001b[2;34m \u001b[0m\u001b[33m \u001b[0m\u001b[33m159.203.78.24:9995  \u001b[0m\u001b[33m \u001b[0m\u001b[32m \u001b[0m\u001b[32m   2.4996\u001b[0m\u001b[32m \u001b[0m\u001b[32m \u001b[0m\u001b[32m    2.2316\u001b[0m\u001b[32m \u001b[0m\u001b[32m \u001b[0m\u001b[32m         0.042731\u001b[0m\u001b[32m \u001b[0m            \u001b[1;31m333823\u001b[0m \u001b[2;34m \u001b[0m\u001b[2;34m0x22…\u001b[0m\n",
       "\u001b[2;34m540\u001b[0m\u001b[2;34m \u001b[0m\u001b[33m \u001b[0m\u001b[33m159.203.78.24:9991  \u001b[0m\u001b[33m \u001b[0m\u001b[32m \u001b[0m\u001b[32m   6.6909\u001b[0m\u001b[32m \u001b[0m\u001b[32m \u001b[0m\u001b[32m    463.22\u001b[0m\u001b[32m \u001b[0m\u001b[32m \u001b[0m\u001b[32m           8.8699\u001b[0m\u001b[32m \u001b[0m               \u001b[1;32m454\u001b[0m \u001b[2;34m \u001b[0m\u001b[2;34m0xa2…\u001b[0m\n",
       "\u001b[2;34m541\u001b[0m\u001b[2;34m \u001b[0m\u001b[33m \u001b[0m\u001b[33m159.203.78.24:9996  \u001b[0m\u001b[33m \u001b[0m\u001b[32m \u001b[0m\u001b[32m   1.7353\u001b[0m\u001b[32m \u001b[0m\u001b[32m \u001b[0m\u001b[32m    2.2774\u001b[0m\u001b[32m \u001b[0m\u001b[32m \u001b[0m\u001b[32m         0.043609\u001b[0m\u001b[32m \u001b[0m            \u001b[1;31m351665\u001b[0m \u001b[2;34m \u001b[0m\u001b[2;34m0x4c…\u001b[0m\n",
       "\u001b[2;34m542\u001b[0m\u001b[2;34m \u001b[0m\u001b[33m \u001b[0m\u001b[33m104.131.108.5:9992  \u001b[0m\u001b[33m \u001b[0m\u001b[32m \u001b[0m\u001b[32m   2.6809\u001b[0m\u001b[32m \u001b[0m\u001b[32m \u001b[0m\u001b[32m    2.7914\u001b[0m\u001b[32m \u001b[0m\u001b[32m \u001b[0m\u001b[32m         0.053452\u001b[0m\u001b[32m \u001b[0m            \u001b[1;31m351590\u001b[0m \u001b[2;34m \u001b[0m\u001b[2;34m0x12…\u001b[0m\n",
       "\u001b[2;34m543\u001b[0m\u001b[2;34m \u001b[0m\u001b[33m \u001b[0m\u001b[33m104.131.108.5:9994  \u001b[0m\u001b[33m \u001b[0m\u001b[32m \u001b[0m\u001b[32m    12.26\u001b[0m\u001b[32m \u001b[0m\u001b[32m \u001b[0m\u001b[32m    7.1483\u001b[0m\u001b[32m \u001b[0m\u001b[32m \u001b[0m\u001b[32m          0.13688\u001b[0m\u001b[32m \u001b[0m            \u001b[1;31m294683\u001b[0m \u001b[2;34m \u001b[0m\u001b[2;34m0x0e…\u001b[0m\n",
       "\u001b[2;34m544\u001b[0m\u001b[2;34m \u001b[0m\u001b[33m \u001b[0m\u001b[33m104.131.108.5:9993  \u001b[0m\u001b[33m \u001b[0m\u001b[32m \u001b[0m\u001b[32m    7.315\u001b[0m\u001b[32m \u001b[0m\u001b[32m \u001b[0m\u001b[32m    7.5005\u001b[0m\u001b[32m \u001b[0m\u001b[32m \u001b[0m\u001b[32m          0.14362\u001b[0m\u001b[32m \u001b[0m            \u001b[1;31m263347\u001b[0m \u001b[2;34m \u001b[0m\u001b[2;34m0x28…\u001b[0m\n",
       "\u001b[2;34m545\u001b[0m\u001b[2;34m \u001b[0m\u001b[33m \u001b[0m\u001b[33m104.131.108.5:9995  \u001b[0m\u001b[33m \u001b[0m\u001b[32m \u001b[0m\u001b[32m   3.5039\u001b[0m\u001b[32m \u001b[0m\u001b[32m \u001b[0m\u001b[32m    2.9416\u001b[0m\u001b[32m \u001b[0m\u001b[32m \u001b[0m\u001b[32m         0.056326\u001b[0m\u001b[32m \u001b[0m            \u001b[1;31m302359\u001b[0m \u001b[2;34m \u001b[0m\u001b[2;34m0xca…\u001b[0m\n",
       "\u001b[2;34m546\u001b[0m\u001b[2;34m \u001b[0m\u001b[33m \u001b[0m\u001b[33m104.131.108.5:9996  \u001b[0m\u001b[33m \u001b[0m\u001b[32m \u001b[0m\u001b[32m   1.4668\u001b[0m\u001b[32m \u001b[0m\u001b[32m \u001b[0m\u001b[32m    2.5049\u001b[0m\u001b[32m \u001b[0m\u001b[32m \u001b[0m\u001b[32m         0.047965\u001b[0m\u001b[32m \u001b[0m            \u001b[1;31m351566\u001b[0m \u001b[2;34m \u001b[0m\u001b[2;34m0x36…\u001b[0m\n",
       "\u001b[2;34m547\u001b[0m\u001b[2;34m \u001b[0m\u001b[33m \u001b[0m\u001b[33m104.131.78.115:9991 \u001b[0m\u001b[33m \u001b[0m\u001b[32m \u001b[0m\u001b[32m   3.2213\u001b[0m\u001b[32m \u001b[0m\u001b[32m \u001b[0m\u001b[32m    151.89\u001b[0m\u001b[32m \u001b[0m\u001b[32m \u001b[0m\u001b[32m           2.9084\u001b[0m\u001b[32m \u001b[0m              \u001b[1;32m2342\u001b[0m \u001b[2;34m \u001b[0m\u001b[2;34m0x48…\u001b[0m\n",
       "\u001b[2;34m548\u001b[0m\u001b[2;34m \u001b[0m\u001b[33m \u001b[0m\u001b[33m104.131.78.115:9992 \u001b[0m\u001b[33m \u001b[0m\u001b[32m \u001b[0m\u001b[32m   1.0571\u001b[0m\u001b[32m \u001b[0m\u001b[32m \u001b[0m\u001b[32m    1.1759\u001b[0m\u001b[32m \u001b[0m\u001b[32m \u001b[0m\u001b[32m         0.022516\u001b[0m\u001b[32m \u001b[0m            \u001b[1;31m351544\u001b[0m \u001b[2;34m \u001b[0m\u001b[2;34m0xf2…\u001b[0m\n",
       "\u001b[2;34m549\u001b[0m\u001b[2;34m \u001b[0m\u001b[33m \u001b[0m\u001b[33m104.131.78.115:9994 \u001b[0m\u001b[33m \u001b[0m\u001b[32m \u001b[0m\u001b[32m   10.123\u001b[0m\u001b[32m \u001b[0m\u001b[32m \u001b[0m\u001b[32m    8.3093\u001b[0m\u001b[32m \u001b[0m\u001b[32m \u001b[0m\u001b[32m          0.15911\u001b[0m\u001b[32m \u001b[0m            \u001b[1;31m310413\u001b[0m \u001b[2;34m \u001b[0m\u001b[2;34m0xfe…\u001b[0m\n",
       "\u001b[2;34m550\u001b[0m\u001b[2;34m \u001b[0m\u001b[33m \u001b[0m\u001b[33m104.131.78.115:9993 \u001b[0m\u001b[33m \u001b[0m\u001b[32m \u001b[0m\u001b[32m   12.352\u001b[0m\u001b[32m \u001b[0m\u001b[32m \u001b[0m\u001b[32m    11.138\u001b[0m\u001b[32m \u001b[0m\u001b[32m \u001b[0m\u001b[32m          0.21327\u001b[0m\u001b[32m \u001b[0m            \u001b[1;31m243129\u001b[0m \u001b[2;34m \u001b[0m\u001b[2;34m0x80…\u001b[0m\n",
       "\u001b[2;34m551\u001b[0m\u001b[2;34m \u001b[0m\u001b[33m \u001b[0m\u001b[33m104.131.78.115:9995 \u001b[0m\u001b[33m \u001b[0m\u001b[32m \u001b[0m\u001b[32m   3.6604\u001b[0m\u001b[32m \u001b[0m\u001b[32m \u001b[0m\u001b[32m    4.4049\u001b[0m\u001b[32m \u001b[0m\u001b[32m \u001b[0m\u001b[32m         0.084346\u001b[0m\u001b[32m \u001b[0m            \u001b[1;31m299055\u001b[0m \u001b[2;34m \u001b[0m\u001b[2;34m0x08…\u001b[0m\n",
       "\u001b[2;34m552\u001b[0m\u001b[2;34m \u001b[0m\u001b[33m \u001b[0m\u001b[33m104.131.78.115:9996 \u001b[0m\u001b[33m \u001b[0m\u001b[32m \u001b[0m\u001b[32m   4.8393\u001b[0m\u001b[32m \u001b[0m\u001b[32m \u001b[0m\u001b[32m    5.8484\u001b[0m\u001b[32m \u001b[0m\u001b[32m \u001b[0m\u001b[32m          0.11199\u001b[0m\u001b[32m \u001b[0m            \u001b[1;31m351524\u001b[0m \u001b[2;34m \u001b[0m\u001b[2;34m0xc8…\u001b[0m\n",
       "\u001b[2;34m553\u001b[0m\u001b[2;34m \u001b[0m\u001b[33m \u001b[0m\u001b[33m104.236.30.109:9992 \u001b[0m\u001b[33m \u001b[0m\u001b[32m \u001b[0m\u001b[32m   1.1709\u001b[0m\u001b[32m \u001b[0m\u001b[32m \u001b[0m\u001b[32m    2.3594\u001b[0m\u001b[32m \u001b[0m\u001b[32m \u001b[0m\u001b[32m         0.045179\u001b[0m\u001b[32m \u001b[0m            \u001b[1;31m351313\u001b[0m \u001b[2;34m \u001b[0m\u001b[2;34m0xf8…\u001b[0m\n",
       "\u001b[2;34m554\u001b[0m\u001b[2;34m \u001b[0m\u001b[33m \u001b[0m\u001b[33m104.236.30.109:9994 \u001b[0m\u001b[33m \u001b[0m\u001b[32m \u001b[0m\u001b[32m   7.8588\u001b[0m\u001b[32m \u001b[0m\u001b[32m \u001b[0m\u001b[32m    7.8878\u001b[0m\u001b[32m \u001b[0m\u001b[32m \u001b[0m\u001b[32m          0.15104\u001b[0m\u001b[32m \u001b[0m            \u001b[1;31m299065\u001b[0m \u001b[2;34m \u001b[0m\u001b[2;34m0x0a…\u001b[0m\n",
       "\u001b[2;34m555\u001b[0m\u001b[2;34m \u001b[0m\u001b[33m \u001b[0m\u001b[33m104.236.30.109:9993 \u001b[0m\u001b[33m \u001b[0m\u001b[32m \u001b[0m\u001b[32m   2.2843\u001b[0m\u001b[32m \u001b[0m\u001b[32m \u001b[0m\u001b[32m    2.3913\u001b[0m\u001b[32m \u001b[0m\u001b[32m \u001b[0m\u001b[32m         0.045789\u001b[0m\u001b[32m \u001b[0m            \u001b[1;31m351312\u001b[0m \u001b[2;34m \u001b[0m\u001b[2;34m0xe2…\u001b[0m\n",
       "\u001b[2;34m556\u001b[0m\u001b[2;34m \u001b[0m\u001b[33m \u001b[0m\u001b[33m104.236.30.109:9995 \u001b[0m\u001b[33m \u001b[0m\u001b[32m \u001b[0m\u001b[32m   3.8045\u001b[0m\u001b[32m \u001b[0m\u001b[32m \u001b[0m\u001b[32m    3.0923\u001b[0m\u001b[32m \u001b[0m\u001b[32m \u001b[0m\u001b[32m         0.059213\u001b[0m\u001b[32m \u001b[0m            \u001b[1;31m297433\u001b[0m \u001b[2;34m \u001b[0m\u001b[2;34m0x62…\u001b[0m\n",
       "\u001b[2;34m557\u001b[0m\u001b[2;34m \u001b[0m\u001b[33m \u001b[0m\u001b[33m104.236.30.102:9992 \u001b[0m\u001b[33m \u001b[0m\u001b[32m \u001b[0m\u001b[32m   4.4008\u001b[0m\u001b[32m \u001b[0m\u001b[32m \u001b[0m\u001b[32m    4.5071\u001b[0m\u001b[32m \u001b[0m\u001b[32m \u001b[0m\u001b[32m         0.086303\u001b[0m\u001b[32m \u001b[0m            \u001b[1;31m351296\u001b[0m \u001b[2;34m \u001b[0m\u001b[2;34m0x7a…\u001b[0m\n",
       "\u001b[2;34m558\u001b[0m\u001b[2;34m \u001b[0m\u001b[33m \u001b[0m\u001b[33m104.236.30.102:9994 \u001b[0m\u001b[33m \u001b[0m\u001b[32m \u001b[0m\u001b[32m   15.037\u001b[0m\u001b[32m \u001b[0m\u001b[32m \u001b[0m\u001b[32m    7.4052\u001b[0m\u001b[32m \u001b[0m\u001b[32m \u001b[0m\u001b[32m           0.1418\u001b[0m\u001b[32m \u001b[0m            \u001b[1;31m298301\u001b[0m \u001b[2;34m \u001b[0m\u001b[2;34m0x3e…\u001b[0m\n",
       "\u001b[2;34m559\u001b[0m\u001b[2;34m \u001b[0m\u001b[33m \u001b[0m\u001b[33m104.236.30.102:9993 \u001b[0m\u001b[33m \u001b[0m\u001b[32m \u001b[0m\u001b[32m   13.636\u001b[0m\u001b[32m \u001b[0m\u001b[32m \u001b[0m\u001b[32m    16.726\u001b[0m\u001b[32m \u001b[0m\u001b[32m \u001b[0m\u001b[32m          0.32027\u001b[0m\u001b[32m \u001b[0m            \u001b[1;31m275794\u001b[0m \u001b[2;34m \u001b[0m\u001b[2;34m0xe2…\u001b[0m\n",
       "\u001b[2;34m560\u001b[0m\u001b[2;34m \u001b[0m\u001b[33m \u001b[0m\u001b[33m104.236.30.102:9995 \u001b[0m\u001b[33m \u001b[0m\u001b[32m \u001b[0m\u001b[32m    7.188\u001b[0m\u001b[32m \u001b[0m\u001b[32m \u001b[0m\u001b[32m    4.0434\u001b[0m\u001b[32m \u001b[0m\u001b[32m \u001b[0m\u001b[32m         0.077425\u001b[0m\u001b[32m \u001b[0m            \u001b[1;31m332460\u001b[0m \u001b[2;34m \u001b[0m\u001b[2;34m0xcc…\u001b[0m\n",
       "\u001b[2;34m561\u001b[0m\u001b[2;34m \u001b[0m\u001b[33m \u001b[0m\u001b[33m104.236.30.109:9991 \u001b[0m\u001b[33m \u001b[0m\u001b[32m \u001b[0m\u001b[32m   29.637\u001b[0m\u001b[32m \u001b[0m\u001b[32m \u001b[0m\u001b[32m1.0914e+04\u001b[0m\u001b[32m \u001b[0m\u001b[32m \u001b[0m\u001b[32m           208.99\u001b[0m\u001b[32m \u001b[0m              \u001b[1;32m1419\u001b[0m \u001b[2;34m \u001b[0m\u001b[2;34m0x1e…\u001b[0m\n",
       "\u001b[2;34m562\u001b[0m\u001b[2;34m \u001b[0m\u001b[33m \u001b[0m\u001b[33m104.236.30.109:9996 \u001b[0m\u001b[33m \u001b[0m\u001b[32m \u001b[0m\u001b[32m    5.184\u001b[0m\u001b[32m \u001b[0m\u001b[32m \u001b[0m\u001b[32m    5.2985\u001b[0m\u001b[32m \u001b[0m\u001b[32m \u001b[0m\u001b[32m          0.10146\u001b[0m\u001b[32m \u001b[0m            \u001b[1;31m351286\u001b[0m \u001b[2;34m \u001b[0m\u001b[2;34m0x8e…\u001b[0m\n",
       "\u001b[2;34m563\u001b[0m\u001b[2;34m \u001b[0m\u001b[33m \u001b[0m\u001b[33m104.236.30.102:9991 \u001b[0m\u001b[33m \u001b[0m\u001b[32m \u001b[0m\u001b[32m   73.164\u001b[0m\u001b[32m \u001b[0m\u001b[32m \u001b[0m\u001b[32m    5266.3\u001b[0m\u001b[32m \u001b[0m\u001b[32m \u001b[0m\u001b[32m           100.84\u001b[0m\u001b[32m \u001b[0m              \u001b[1;32m1885\u001b[0m \u001b[2;34m \u001b[0m\u001b[2;34m0x18…\u001b[0m\n",
       "\u001b[2;34m564\u001b[0m\u001b[2;34m \u001b[0m\u001b[33m \u001b[0m\u001b[33m104.236.30.102:9996 \u001b[0m\u001b[33m \u001b[0m\u001b[32m \u001b[0m\u001b[32m   1.5839\u001b[0m\u001b[32m \u001b[0m\u001b[32m \u001b[0m\u001b[32m    1.6905\u001b[0m\u001b[32m \u001b[0m\u001b[32m \u001b[0m\u001b[32m          0.03237\u001b[0m\u001b[32m \u001b[0m            \u001b[1;31m351270\u001b[0m \u001b[2;34m \u001b[0m\u001b[2;34m0xe6…\u001b[0m\n",
       "\u001b[2;34m565\u001b[0m\u001b[2;34m \u001b[0m\u001b[33m \u001b[0m\u001b[33m104.131.174.154:9992\u001b[0m\u001b[33m \u001b[0m\u001b[32m \u001b[0m\u001b[32m   1.0654\u001b[0m\u001b[32m \u001b[0m\u001b[32m \u001b[0m\u001b[32m    1.2284\u001b[0m\u001b[32m \u001b[0m\u001b[32m \u001b[0m\u001b[32m         0.023522\u001b[0m\u001b[32m \u001b[0m            \u001b[1;31m351234\u001b[0m \u001b[2;34m \u001b[0m\u001b[2;34m0x3a…\u001b[0m\n",
       "\u001b[2;34m566\u001b[0m\u001b[2;34m \u001b[0m\u001b[33m \u001b[0m\u001b[33m104.131.174.154:9994\u001b[0m\u001b[33m \u001b[0m\u001b[32m \u001b[0m\u001b[32m   7.5804\u001b[0m\u001b[32m \u001b[0m\u001b[32m \u001b[0m\u001b[32m    7.7221\u001b[0m\u001b[32m \u001b[0m\u001b[32m \u001b[0m\u001b[32m          0.14786\u001b[0m\u001b[32m \u001b[0m            \u001b[1;31m351234\u001b[0m \u001b[2;34m \u001b[0m\u001b[2;34m0x4c…\u001b[0m\n",
       "\u001b[2;34m567\u001b[0m\u001b[2;34m \u001b[0m\u001b[33m \u001b[0m\u001b[33m104.131.174.154:9993\u001b[0m\u001b[33m \u001b[0m\u001b[32m \u001b[0m\u001b[32m   20.002\u001b[0m\u001b[32m \u001b[0m\u001b[32m \u001b[0m\u001b[32m     12.15\u001b[0m\u001b[32m \u001b[0m\u001b[32m \u001b[0m\u001b[32m          0.23265\u001b[0m\u001b[32m \u001b[0m            \u001b[1;31m263342\u001b[0m \u001b[2;34m \u001b[0m\u001b[2;34m0x80…\u001b[0m\n",
       "\u001b[2;34m568\u001b[0m\u001b[2;34m \u001b[0m\u001b[33m \u001b[0m\u001b[33m104.131.174.154:9995\u001b[0m\u001b[33m \u001b[0m\u001b[32m \u001b[0m\u001b[32m   4.8138\u001b[0m\u001b[32m \u001b[0m\u001b[32m \u001b[0m\u001b[32m    3.3034\u001b[0m\u001b[32m \u001b[0m\u001b[32m \u001b[0m\u001b[32m         0.063254\u001b[0m\u001b[32m \u001b[0m            \u001b[1;31m332162\u001b[0m \u001b[2;34m \u001b[0m\u001b[2;34m0xc0…\u001b[0m\n",
       "\u001b[2;34m569\u001b[0m\u001b[2;34m \u001b[0m\u001b[33m \u001b[0m\u001b[33m104.131.174.154:9991\u001b[0m\u001b[33m \u001b[0m\u001b[32m \u001b[0m\u001b[32m   12.638\u001b[0m\u001b[32m \u001b[0m\u001b[32m \u001b[0m\u001b[32m    1559.5\u001b[0m\u001b[32m \u001b[0m\u001b[32m \u001b[0m\u001b[32m           29.861\u001b[0m\u001b[32m \u001b[0m              \u001b[1;31m6663\u001b[0m \u001b[2;34m \u001b[0m\u001b[2;34m0xbc…\u001b[0m\n",
       "\u001b[2;34m570\u001b[0m\u001b[2;34m \u001b[0m\u001b[33m \u001b[0m\u001b[33m104.131.174.154:9996\u001b[0m\u001b[33m \u001b[0m\u001b[32m \u001b[0m\u001b[32m    2.627\u001b[0m\u001b[32m \u001b[0m\u001b[32m \u001b[0m\u001b[32m    3.6297\u001b[0m\u001b[32m \u001b[0m\u001b[32m \u001b[0m\u001b[32m         0.069503\u001b[0m\u001b[32m \u001b[0m            \u001b[1;31m351214\u001b[0m \u001b[2;34m \u001b[0m\u001b[2;34m0xda…\u001b[0m\n",
       "\u001b[2;34m571\u001b[0m\u001b[2;34m \u001b[0m\u001b[33m \u001b[0m\u001b[33m104.131.172.170:9992\u001b[0m\u001b[33m \u001b[0m\u001b[32m \u001b[0m\u001b[32m   8.9261\u001b[0m\u001b[32m \u001b[0m\u001b[32m \u001b[0m\u001b[32m    5.7149\u001b[0m\u001b[32m \u001b[0m\u001b[32m \u001b[0m\u001b[32m          0.10943\u001b[0m\u001b[32m \u001b[0m            \u001b[1;31m334839\u001b[0m \u001b[2;34m \u001b[0m\u001b[2;34m0x02…\u001b[0m\n",
       "\u001b[2;34m572\u001b[0m\u001b[2;34m \u001b[0m\u001b[33m \u001b[0m\u001b[33m104.131.172.170:9993\u001b[0m\u001b[33m \u001b[0m\u001b[32m \u001b[0m\u001b[32m   20.214\u001b[0m\u001b[32m \u001b[0m\u001b[32m \u001b[0m\u001b[32m     19.67\u001b[0m\u001b[32m \u001b[0m\u001b[32m \u001b[0m\u001b[32m          0.37664\u001b[0m\u001b[32m \u001b[0m            \u001b[1;31m287082\u001b[0m \u001b[2;34m \u001b[0m\u001b[2;34m0x38…\u001b[0m\n",
       "\u001b[2;34m573\u001b[0m\u001b[2;34m \u001b[0m\u001b[33m \u001b[0m\u001b[33m104.131.172.170:9991\u001b[0m\u001b[33m \u001b[0m\u001b[32m \u001b[0m\u001b[32m   1.3032\u001b[0m\u001b[32m \u001b[0m\u001b[32m \u001b[0m\u001b[32m    1.4274\u001b[0m\u001b[32m \u001b[0m\u001b[32m \u001b[0m\u001b[32m         0.027332\u001b[0m\u001b[32m \u001b[0m            \u001b[1;31m350981\u001b[0m \u001b[2;34m \u001b[0m\u001b[2;34m0x2e…\u001b[0m\n",
       "\u001b[2;34m574\u001b[0m\u001b[2;34m \u001b[0m\u001b[33m \u001b[0m\u001b[33m104.236.18.197:9992 \u001b[0m\u001b[33m \u001b[0m\u001b[32m \u001b[0m\u001b[32m   6.1012\u001b[0m\u001b[32m \u001b[0m\u001b[32m \u001b[0m\u001b[32m    6.2208\u001b[0m\u001b[32m \u001b[0m\u001b[32m \u001b[0m\u001b[32m          0.11912\u001b[0m\u001b[32m \u001b[0m            \u001b[1;31m335121\u001b[0m \u001b[2;34m \u001b[0m\u001b[2;34m0x6a…\u001b[0m\n",
       "\u001b[2;34m575\u001b[0m\u001b[2;34m \u001b[0m\u001b[33m \u001b[0m\u001b[33m104.236.18.197:9993 \u001b[0m\u001b[33m \u001b[0m\u001b[32m \u001b[0m\u001b[32m   13.755\u001b[0m\u001b[32m \u001b[0m\u001b[32m \u001b[0m\u001b[32m    8.9356\u001b[0m\u001b[32m \u001b[0m\u001b[32m \u001b[0m\u001b[32m           0.1711\u001b[0m\u001b[32m \u001b[0m            \u001b[1;31m292293\u001b[0m \u001b[2;34m \u001b[0m\u001b[2;34m0xc2…\u001b[0m\n",
       "\u001b[2;34m576\u001b[0m\u001b[2;34m \u001b[0m\u001b[33m \u001b[0m\u001b[33m104.236.18.197:9991 \u001b[0m\u001b[33m \u001b[0m\u001b[32m \u001b[0m\u001b[32m   3.2775\u001b[0m\u001b[32m \u001b[0m\u001b[32m \u001b[0m\u001b[32m    4.2759\u001b[0m\u001b[32m \u001b[0m\u001b[32m \u001b[0m\u001b[32m         0.081876\u001b[0m\u001b[32m \u001b[0m            \u001b[1;31m350957\u001b[0m \u001b[2;34m \u001b[0m\u001b[2;34m0x62…\u001b[0m\n",
       "\u001b[1;53;30m53 \u001b[0m\u001b[1;53;30m \u001b[0m\u001b[1m \u001b[0m\u001b[1m                    \u001b[0m\u001b[1m \u001b[0m\u001b[1;53;30m \u001b[0m\u001b[1;53;30m  395.853\u001b[0m\u001b[1;53;30m \u001b[0m\u001b[1;53;30m \u001b[0m\u001b[1;53;30m  24996.42\u001b[0m\u001b[1;53;30m \u001b[0m\u001b[1;53;30m \u001b[0m\u001b[1;53;30m           478.64\u001b[0m\u001b[1;53;30m \u001b[0m\u001b[1m \u001b[0m\u001b[1m                 \u001b[0m\u001b[1m \u001b[0m\u001b[1m \u001b[0m\u001b[1m     \u001b[0m\n"
      ]
     },
     "metadata": {},
     "output_type": "display_data"
    }
   ],
   "source": [
    "table = Table(show_footer=False)\n",
    "\n",
    "\n",
    "table.title = (\n",
    "    \"Neurons:\"\n",
    ")\n",
    "table.add_column(\"[overline black]UID\",  str(total_neurons), footer_style = \"overline black\", style='dim blue')\n",
    "table.add_column(\"[overline black]IP\", justify='left', style='yellow', no_wrap=True) \n",
    "table.add_column(\"[overline black]STAKE (\\u03C4)\", str(total_stake), footer_style = \"overline black\", justify='right', style='green', no_wrap=True)\n",
    "table.add_column(\"[overline black]RANK (\\u03C4)\", str(total_rank), footer_style = \"overline black\", justify='right', style='green', no_wrap=True)\n",
    "table.add_column(\"[overline black]INCENTIVE (\\u03C4/day)\", str(total_incentive), footer_style = \"overline black\", justify='right', style='green', no_wrap=True)\n",
    "table.add_column(\"[overline black]LastEmit (blocks)\", justify='right', no_wrap=True)\n",
    "table.add_column(\"[overline black]HOTKEY\", style='dim blue', no_wrap=False)\n",
    "table.show_footer = True\n",
    "\n",
    "console.clear()\n",
    "for row in TABLE_DATA:\n",
    "    table.add_row(*row)\n",
    "    \n",
    "table.box = None\n",
    "table.pad_edge = False\n",
    "table.width = None\n",
    "\n",
    "    \n",
    "console = Console()\n",
    "console.print(table)\n"
   ]
  },
  {
   "cell_type": "code",
   "execution_count": 50,
   "id": "535bb6ef-dcef-4367-b32f-6bae53696204",
   "metadata": {},
   "outputs": [
    {
     "data": {
      "text/html": [
       "<pre style=\"white-space:pre;overflow-x:auto;line-height:normal;font-family:Menlo,'DejaVu Sans Mono',consolas,'Courier New',monospace\"></pre>\n"
      ],
      "text/plain": []
     },
     "metadata": {},
     "output_type": "display_data"
    },
    {
     "ename": "NotRenderableError",
     "evalue": "unable to render int; a string or other renderable object is required",
     "output_type": "error",
     "traceback": [
      "\u001b[0;31m---------------------------------------------------------------------------\u001b[0m",
      "\u001b[0;31mNotRenderableError\u001b[0m                        Traceback (most recent call last)",
      "\u001b[0;32m<ipython-input-50-3980870b9ef3>\u001b[0m in \u001b[0;36m<module>\u001b[0;34m\u001b[0m\n\u001b[1;32m     26\u001b[0m \u001b[0;34m\u001b[0m\u001b[0m\n\u001b[1;32m     27\u001b[0m \u001b[0;32mfor\u001b[0m \u001b[0mrow\u001b[0m \u001b[0;32min\u001b[0m \u001b[0mTABLE_DATA\u001b[0m\u001b[0;34m:\u001b[0m\u001b[0;34m\u001b[0m\u001b[0;34m\u001b[0m\u001b[0m\n\u001b[0;32m---> 28\u001b[0;31m     \u001b[0mtable\u001b[0m\u001b[0;34m.\u001b[0m\u001b[0madd_row\u001b[0m\u001b[0;34m(\u001b[0m\u001b[0;34m*\u001b[0m\u001b[0mrow\u001b[0m\u001b[0;34m)\u001b[0m\u001b[0;34m\u001b[0m\u001b[0;34m\u001b[0m\u001b[0m\n\u001b[0m\u001b[1;32m     29\u001b[0m \u001b[0;34m\u001b[0m\u001b[0m\n\u001b[1;32m     30\u001b[0m \u001b[0mtable\u001b[0m\u001b[0;34m.\u001b[0m\u001b[0mshow_footer\u001b[0m \u001b[0;34m=\u001b[0m \u001b[0;32mTrue\u001b[0m\u001b[0;34m\u001b[0m\u001b[0;34m\u001b[0m\u001b[0m\n",
      "\u001b[0;32m/usr/local/lib/python3.8/site-packages/rich/table.py\u001b[0m in \u001b[0;36madd_row\u001b[0;34m(self, style, end_section, *renderables)\u001b[0m\n\u001b[1;32m    419\u001b[0m                 \u001b[0madd_cell\u001b[0m\u001b[0;34m(\u001b[0m\u001b[0mcolumn\u001b[0m\u001b[0;34m,\u001b[0m \u001b[0mrenderable\u001b[0m\u001b[0;34m)\u001b[0m\u001b[0;34m\u001b[0m\u001b[0;34m\u001b[0m\u001b[0m\n\u001b[1;32m    420\u001b[0m             \u001b[0;32melse\u001b[0m\u001b[0;34m:\u001b[0m\u001b[0;34m\u001b[0m\u001b[0;34m\u001b[0m\u001b[0m\n\u001b[0;32m--> 421\u001b[0;31m                 raise errors.NotRenderableError(\n\u001b[0m\u001b[1;32m    422\u001b[0m                     \u001b[0;34mf\"unable to render {type(renderable).__name__}; a string or other renderable object is required\"\u001b[0m\u001b[0;34m\u001b[0m\u001b[0;34m\u001b[0m\u001b[0m\n\u001b[1;32m    423\u001b[0m                 )\n",
      "\u001b[0;31mNotRenderableError\u001b[0m: unable to render int; a string or other renderable object is required"
     ]
    }
   ],
   "source": []
  },
  {
   "cell_type": "code",
   "execution_count": null,
   "id": "c44b1238-0374-43f1-9c1f-8079ba1a5800",
   "metadata": {},
   "outputs": [],
   "source": []
  }
 ],
 "metadata": {
  "kernelspec": {
   "display_name": "Python 3",
   "language": "python",
   "name": "python3"
  },
  "language_info": {
   "codemirror_mode": {
    "name": "ipython",
    "version": 3
   },
   "file_extension": ".py",
   "mimetype": "text/x-python",
   "name": "python",
   "nbconvert_exporter": "python",
   "pygments_lexer": "ipython3",
   "version": "3.8.10"
  }
 },
 "nbformat": 4,
 "nbformat_minor": 5
}
